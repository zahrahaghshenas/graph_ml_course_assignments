{
  "nbformat": 4,
  "nbformat_minor": 0,
  "metadata": {
    "colab": {
      "provenance": [],
      "collapsed_sections": [
        "8MEPd-rdrij7",
        "mbOhkVkNr6xW",
        "Uv32TgukunsY",
        "S2Rsj5Uxuy6H",
        "Y6hjM0gbvShm",
        "zQuneZ55vXJV",
        "YSVTmWp3vwsB",
        "vdY0sw1Vv5Ro",
        "WO36kGPPv56t",
        "_pqYW1iCv6lf",
        "0vtHmhgJQdog"
      ]
    },
    "kernelspec": {
      "name": "python3",
      "display_name": "Python 3"
    },
    "language_info": {
      "name": "python"
    }
  },
  "cells": [
    {
      "cell_type": "code",
      "source": [
        "!pip install dgl"
      ],
      "metadata": {
        "colab": {
          "base_uri": "https://localhost:8080/"
        },
        "id": "ovv8GnT0Q1a3",
        "outputId": "c5738cc2-1348-4a0f-f550-d7a21b10909f"
      },
      "execution_count": 106,
      "outputs": [
        {
          "output_type": "stream",
          "name": "stdout",
          "text": [
            "Looking in indexes: https://pypi.org/simple, https://us-python.pkg.dev/colab-wheels/public/simple/\n",
            "Requirement already satisfied: dgl in /usr/local/lib/python3.10/dist-packages (1.1.0)\n",
            "Requirement already satisfied: numpy>=1.14.0 in /usr/local/lib/python3.10/dist-packages (from dgl) (1.22.4)\n",
            "Requirement already satisfied: scipy>=1.1.0 in /usr/local/lib/python3.10/dist-packages (from dgl) (1.10.1)\n",
            "Requirement already satisfied: networkx>=2.1 in /usr/local/lib/python3.10/dist-packages (from dgl) (3.1)\n",
            "Requirement already satisfied: requests>=2.19.0 in /usr/local/lib/python3.10/dist-packages (from dgl) (2.27.1)\n",
            "Requirement already satisfied: tqdm in /usr/local/lib/python3.10/dist-packages (from dgl) (4.65.0)\n",
            "Requirement already satisfied: psutil>=5.8.0 in /usr/local/lib/python3.10/dist-packages (from dgl) (5.9.5)\n",
            "Requirement already satisfied: urllib3<1.27,>=1.21.1 in /usr/local/lib/python3.10/dist-packages (from requests>=2.19.0->dgl) (1.26.15)\n",
            "Requirement already satisfied: certifi>=2017.4.17 in /usr/local/lib/python3.10/dist-packages (from requests>=2.19.0->dgl) (2022.12.7)\n",
            "Requirement already satisfied: charset-normalizer~=2.0.0 in /usr/local/lib/python3.10/dist-packages (from requests>=2.19.0->dgl) (2.0.12)\n",
            "Requirement already satisfied: idna<4,>=2.5 in /usr/local/lib/python3.10/dist-packages (from requests>=2.19.0->dgl) (3.4)\n"
          ]
        }
      ]
    },
    {
      "cell_type": "markdown",
      "source": [
        "##dgl.DGLGraph.apply_nodes"
      ],
      "metadata": {
        "id": "xIa5Twzup0ee"
      }
    },
    {
      "cell_type": "code",
      "execution_count": 107,
      "metadata": {
        "id": "DIXraBfyu1-3"
      },
      "outputs": [],
      "source": [
        "import dgl\n",
        "import torch"
      ]
    },
    {
      "cell_type": "code",
      "source": [
        "g = dgl.graph(([0, 1, 2, 3], [1, 2, 3, 4]))\n",
        "g.ndata['h'] = torch.ones(5, 2)\n",
        "g.apply_nodes(lambda nodes: {'x' : nodes.data['h'] * 2})\n",
        "g.ndata['x']"
      ],
      "metadata": {
        "colab": {
          "base_uri": "https://localhost:8080/"
        },
        "id": "o8jfRy7nnYA5",
        "outputId": "7d3125ea-7af4-42b6-cf09-43825ff4b144"
      },
      "execution_count": 108,
      "outputs": [
        {
          "output_type": "execute_result",
          "data": {
            "text/plain": [
              "tensor([[2., 2.],\n",
              "        [2., 2.],\n",
              "        [2., 2.],\n",
              "        [2., 2.],\n",
              "        [2., 2.]])"
            ]
          },
          "metadata": {},
          "execution_count": 108
        }
      ]
    },
    {
      "cell_type": "code",
      "source": [
        "g = dgl.heterograph({('user', 'follows', 'user'): ([0, 1], [1, 2])})\n",
        "g.nodes['user'].data['h'] = torch.ones(3, 5)\n",
        "g.apply_nodes(lambda nodes: {'h': nodes.data['h'] * 2}, ntype='user')\n",
        "g.nodes['user'].data['h']"
      ],
      "metadata": {
        "colab": {
          "base_uri": "https://localhost:8080/"
        },
        "id": "f6zI_YojnYEI",
        "outputId": "f06915f3-bd78-4ccd-d273-05637b171407"
      },
      "execution_count": 109,
      "outputs": [
        {
          "output_type": "execute_result",
          "data": {
            "text/plain": [
              "tensor([[2., 2., 2., 2., 2.],\n",
              "        [2., 2., 2., 2., 2.],\n",
              "        [2., 2., 2., 2., 2.]])"
            ]
          },
          "metadata": {},
          "execution_count": 109
        }
      ]
    },
    {
      "cell_type": "markdown",
      "source": [
        "##dgl.DGLGraph.apply_edges"
      ],
      "metadata": {
        "id": "HbN2dAiFqBUw"
      }
    },
    {
      "cell_type": "code",
      "source": [
        "g = dgl.graph(([0, 1, 2, 3], [1, 2, 3, 4]))\n",
        "g.ndata['h'] = torch.ones(5, 2)\n",
        "g.apply_edges(lambda edges: {'x' : edges.src['h'] + edges.dst['h']})\n",
        "g.edata['x']"
      ],
      "metadata": {
        "colab": {
          "base_uri": "https://localhost:8080/"
        },
        "id": "BjcngyeTs0mP",
        "outputId": "c3860e42-6482-4164-82b1-ea957241bc99"
      },
      "execution_count": 110,
      "outputs": [
        {
          "output_type": "execute_result",
          "data": {
            "text/plain": [
              "tensor([[2., 2.],\n",
              "        [2., 2.],\n",
              "        [2., 2.],\n",
              "        [2., 2.]])"
            ]
          },
          "metadata": {},
          "execution_count": 110
        }
      ]
    },
    {
      "cell_type": "code",
      "source": [
        "import dgl.function as fn\n",
        "g.apply_edges(fn.u_add_v('h', 'h', 'x'))\n",
        "g.edata['x']"
      ],
      "metadata": {
        "colab": {
          "base_uri": "https://localhost:8080/"
        },
        "id": "OaS29bTVq8ya",
        "outputId": "cb3cbb9a-921f-420c-fb8a-745ca2e472e3"
      },
      "execution_count": 111,
      "outputs": [
        {
          "output_type": "execute_result",
          "data": {
            "text/plain": [
              "tensor([[2., 2.],\n",
              "        [2., 2.],\n",
              "        [2., 2.],\n",
              "        [2., 2.]])"
            ]
          },
          "metadata": {},
          "execution_count": 111
        }
      ]
    },
    {
      "cell_type": "code",
      "source": [
        "g = dgl.heterograph({('user', 'plays', 'game'): ([0, 1, 1, 2], [0, 0, 2, 1])})\n",
        "g.edges[('user', 'plays', 'game')].data['h'] = torch.ones(4, 5)\n",
        "g.apply_edges(lambda edges: {'h': edges.data['h'] * 2})\n",
        "g.edges[('user', 'plays', 'game')].data['h']"
      ],
      "metadata": {
        "colab": {
          "base_uri": "https://localhost:8080/"
        },
        "id": "6T9XZng-rF8T",
        "outputId": "5d45a778-bd6e-419c-cbf3-f09fc00f7e42"
      },
      "execution_count": 112,
      "outputs": [
        {
          "output_type": "execute_result",
          "data": {
            "text/plain": [
              "tensor([[2., 2., 2., 2., 2.],\n",
              "        [2., 2., 2., 2., 2.],\n",
              "        [2., 2., 2., 2., 2.],\n",
              "        [2., 2., 2., 2., 2.]])"
            ]
          },
          "metadata": {},
          "execution_count": 112
        }
      ]
    },
    {
      "cell_type": "markdown",
      "source": [
        "##dgl.DGLGraph.send_and_recv"
      ],
      "metadata": {
        "id": "uoZvyxxHrHSl"
      }
    },
    {
      "cell_type": "code",
      "source": [
        "import dgl.function as fn\n",
        "g = dgl.graph(([0, 1, 2, 3], [1, 2, 3, 4]))\n",
        "g.ndata['x'] = torch.ones(5, 2)\n",
        "# Specify edges using (Tensor, Tensor).\n",
        "g.send_and_recv(([1, 2], [2, 3]), fn.copy_u('x', 'm'), fn.sum('m', 'h'))\n",
        "g.ndata['h']\n",
        "# Specify edges using IDs.\n",
        "g.send_and_recv([0, 2, 3], fn.copy_u('x', 'm'), fn.sum('m', 'h'))\n",
        "g.ndata['h']"
      ],
      "metadata": {
        "colab": {
          "base_uri": "https://localhost:8080/"
        },
        "id": "h2YJJtxfrMUR",
        "outputId": "60beb3ed-9979-4ae6-c773-fdffb2e780cb"
      },
      "execution_count": 113,
      "outputs": [
        {
          "output_type": "execute_result",
          "data": {
            "text/plain": [
              "tensor([[0., 0.],\n",
              "        [1., 1.],\n",
              "        [1., 1.],\n",
              "        [1., 1.],\n",
              "        [1., 1.]])"
            ]
          },
          "metadata": {},
          "execution_count": 113
        }
      ]
    },
    {
      "cell_type": "code",
      "source": [
        "g = dgl.heterograph({\n",
        "    ('user', 'follows', 'user'): ([0, 1], [1, 2]),\n",
        "    ('user', 'plays', 'game'): ([0, 1, 1, 2], [0, 0, 1, 1])\n",
        "})\n",
        "g.nodes['user'].data['h'] = torch.tensor([[0.], [1.], [2.]])\n",
        "g.send_and_recv(g['follows'].edges(), fn.copy_u('h', 'm'),\n",
        "                fn.sum('m', 'h'), etype='follows')\n",
        "g.nodes['user'].data['h']"
      ],
      "metadata": {
        "colab": {
          "base_uri": "https://localhost:8080/"
        },
        "id": "eilqg2fJrSK5",
        "outputId": "3a49563f-5bad-4109-f5d9-56d8668ad63c"
      },
      "execution_count": 114,
      "outputs": [
        {
          "output_type": "execute_result",
          "data": {
            "text/plain": [
              "tensor([[0.],\n",
              "        [0.],\n",
              "        [1.]])"
            ]
          },
          "metadata": {},
          "execution_count": 114
        }
      ]
    },
    {
      "cell_type": "code",
      "source": [
        "import torch as th\n",
        "g = dgl.graph(([0, 1], [1, 2]))\n",
        "g.ndata['x'] = th.tensor([[1.], [2.], [3.]])"
      ],
      "metadata": {
        "id": "19cmNJ-CrVLJ"
      },
      "execution_count": 115,
      "outputs": []
    },
    {
      "cell_type": "code",
      "source": [
        "# Define the function for sending node features as messages.\n",
        "def send_source(edges):\n",
        "    return {'m': edges.src['x']}\n",
        "# Sum the messages received and use this to replace the original node feature.\n",
        "def simple_reduce(nodes):\n",
        "    return {'x': nodes.mailbox['m'].sum(1)}"
      ],
      "metadata": {
        "id": "Q474zsy2rX3I"
      },
      "execution_count": 116,
      "outputs": []
    },
    {
      "cell_type": "code",
      "source": [
        "g.send_and_recv(g.edges())\n",
        "g.ndata['x']"
      ],
      "metadata": {
        "colab": {
          "base_uri": "https://localhost:8080/",
          "height": 182
        },
        "id": "wjYREyCErag8",
        "outputId": "f18d26ae-4185-4a8c-8cfa-228a3ae277c4"
      },
      "execution_count": 117,
      "outputs": [
        {
          "output_type": "error",
          "ename": "TypeError",
          "evalue": "ignored",
          "traceback": [
            "\u001b[0;31m---------------------------------------------------------------------------\u001b[0m",
            "\u001b[0;31mTypeError\u001b[0m                                 Traceback (most recent call last)",
            "\u001b[0;32m<ipython-input-117-2442e9495542>\u001b[0m in \u001b[0;36m<cell line: 1>\u001b[0;34m()\u001b[0m\n\u001b[0;32m----> 1\u001b[0;31m \u001b[0mg\u001b[0m\u001b[0;34m.\u001b[0m\u001b[0msend_and_recv\u001b[0m\u001b[0;34m(\u001b[0m\u001b[0mg\u001b[0m\u001b[0;34m.\u001b[0m\u001b[0medges\u001b[0m\u001b[0;34m(\u001b[0m\u001b[0;34m)\u001b[0m\u001b[0;34m)\u001b[0m\u001b[0;34m\u001b[0m\u001b[0;34m\u001b[0m\u001b[0m\n\u001b[0m\u001b[1;32m      2\u001b[0m \u001b[0mg\u001b[0m\u001b[0;34m.\u001b[0m\u001b[0mndata\u001b[0m\u001b[0;34m[\u001b[0m\u001b[0;34m'x'\u001b[0m\u001b[0;34m]\u001b[0m\u001b[0;34m\u001b[0m\u001b[0;34m\u001b[0m\u001b[0m\n",
            "\u001b[0;31mTypeError\u001b[0m: DGLGraph.send_and_recv() missing 2 required positional arguments: 'message_func' and 'reduce_func'"
          ]
        }
      ]
    },
    {
      "cell_type": "markdown",
      "source": [
        "##dgl.DGLGraph.pull"
      ],
      "metadata": {
        "id": "8MEPd-rdrij7"
      }
    },
    {
      "cell_type": "code",
      "source": [
        "g = dgl.graph(([0, 1, 2, 3], [1, 2, 3, 4]))\n",
        "g.ndata['x'] = torch.ones(5, 2)\n",
        "g.pull([0, 3, 4], fn.copy_u('x', 'm'), fn.sum('m', 'h'))\n",
        "g.ndata['h']"
      ],
      "metadata": {
        "colab": {
          "base_uri": "https://localhost:8080/"
        },
        "id": "4xFI5CqmrrZh",
        "outputId": "340a116e-8aa4-413b-fa31-7adf03a9a828"
      },
      "execution_count": 118,
      "outputs": [
        {
          "output_type": "execute_result",
          "data": {
            "text/plain": [
              "tensor([[0., 0.],\n",
              "        [0., 0.],\n",
              "        [0., 0.],\n",
              "        [1., 1.],\n",
              "        [1., 1.]])"
            ]
          },
          "metadata": {},
          "execution_count": 118
        }
      ]
    },
    {
      "cell_type": "code",
      "source": [
        "g = dgl.heterograph({\n",
        "    ('user', 'follows', 'user'): ([0, 1], [1, 2]),\n",
        "    ('user', 'plays', 'game'): ([0, 2], [0, 1])\n",
        "})\n",
        "g.nodes['user'].data['h'] = torch.tensor([[0.], [1.], [2.]])"
      ],
      "metadata": {
        "id": "45_ZNHe2r0BF"
      },
      "execution_count": 119,
      "outputs": []
    },
    {
      "cell_type": "code",
      "source": [
        "g['follows'].pull(2, fn.copy_u('h', 'm'), fn.sum('m', 'h'), etype='follows')\n",
        "g.nodes['user'].data['h']"
      ],
      "metadata": {
        "colab": {
          "base_uri": "https://localhost:8080/"
        },
        "id": "2U8ZZ8l1r2-H",
        "outputId": "aa2f9f06-23ff-44d7-fa6f-712c0989bcf5"
      },
      "execution_count": 120,
      "outputs": [
        {
          "output_type": "execute_result",
          "data": {
            "text/plain": [
              "tensor([[0.],\n",
              "        [1.],\n",
              "        [1.]])"
            ]
          },
          "metadata": {},
          "execution_count": 120
        }
      ]
    },
    {
      "cell_type": "markdown",
      "source": [
        "##dgl.DGLGraph.push"
      ],
      "metadata": {
        "id": "mbOhkVkNr6xW"
      }
    },
    {
      "cell_type": "code",
      "source": [
        "g = dgl.graph(([0, 1, 2, 3], [1, 2, 3, 4]))\n",
        "g.ndata['x'] = torch.ones(5, 2)\n",
        "g.push([0, 1], fn.copy_u('x', 'm'), fn.sum('m', 'h'))\n",
        "g.ndata['h']"
      ],
      "metadata": {
        "colab": {
          "base_uri": "https://localhost:8080/"
        },
        "id": "AezYQr78r8ZI",
        "outputId": "993f61f6-7119-4130-fec5-9e537876e07d"
      },
      "execution_count": 121,
      "outputs": [
        {
          "output_type": "execute_result",
          "data": {
            "text/plain": [
              "tensor([[0., 0.],\n",
              "        [1., 1.],\n",
              "        [1., 1.],\n",
              "        [0., 0.],\n",
              "        [0., 0.]])"
            ]
          },
          "metadata": {},
          "execution_count": 121
        }
      ]
    },
    {
      "cell_type": "code",
      "source": [
        "g = dgl.heterograph({('user', 'follows', 'user'): ([0, 0], [1, 2])})\n",
        "g.nodes['user'].data['h'] = torch.tensor([[0.], [1.], [2.]])"
      ],
      "metadata": {
        "id": "Gwk4k7bir8cI"
      },
      "execution_count": 122,
      "outputs": []
    },
    {
      "cell_type": "code",
      "source": [
        "g['follows'].push(0, fn.copy_u('h', 'm'), fn.sum('m', 'h'), etype='follows')\n",
        "g.nodes['user'].data['h']"
      ],
      "metadata": {
        "colab": {
          "base_uri": "https://localhost:8080/"
        },
        "id": "P1kyY_xbr8fg",
        "outputId": "89175d71-5157-46c0-daea-6a1740926a22"
      },
      "execution_count": 123,
      "outputs": [
        {
          "output_type": "execute_result",
          "data": {
            "text/plain": [
              "tensor([[0.],\n",
              "        [0.],\n",
              "        [0.]])"
            ]
          },
          "metadata": {},
          "execution_count": 123
        }
      ]
    },
    {
      "cell_type": "markdown",
      "source": [
        "##dgl.DGLGraph.update_all"
      ],
      "metadata": {
        "id": "An9tpPQysE8-"
      }
    },
    {
      "cell_type": "code",
      "source": [
        "g = dgl.graph(([0, 1, 2, 3], [1, 2, 3, 4]))\n",
        "g.ndata['x'] = torch.ones(5, 2)\n",
        "g.update_all(fn.copy_u('x', 'm'), fn.sum('m', 'h'))\n",
        "g.ndata['h']"
      ],
      "metadata": {
        "colab": {
          "base_uri": "https://localhost:8080/"
        },
        "id": "dyK-ArEisKdZ",
        "outputId": "90660adf-25da-4c6b-b7f7-97223c27c5fc"
      },
      "execution_count": 124,
      "outputs": [
        {
          "output_type": "execute_result",
          "data": {
            "text/plain": [
              "tensor([[0., 0.],\n",
              "        [1., 1.],\n",
              "        [1., 1.],\n",
              "        [1., 1.],\n",
              "        [1., 1.]])"
            ]
          },
          "metadata": {},
          "execution_count": 124
        }
      ]
    },
    {
      "cell_type": "code",
      "source": [
        "g = dgl.heterograph({('user', 'follows', 'user'): ([0, 1, 2], [1, 2, 2])})"
      ],
      "metadata": {
        "id": "L4VXhl3usKgo"
      },
      "execution_count": 125,
      "outputs": []
    },
    {
      "cell_type": "code",
      "source": [
        "g.nodes['user'].data['h'] = torch.tensor([[0.], [1.], [2.]])\n",
        "g['follows'].update_all(fn.copy_u('h', 'm'), fn.sum('m', 'h'), etype='follows')\n",
        "g.nodes['user'].data['h']"
      ],
      "metadata": {
        "colab": {
          "base_uri": "https://localhost:8080/"
        },
        "id": "DexP-9jEsKjw",
        "outputId": "b5c26584-f69b-4cf5-d440-cfc2d9f83683"
      },
      "execution_count": 126,
      "outputs": [
        {
          "output_type": "execute_result",
          "data": {
            "text/plain": [
              "tensor([[0.],\n",
              "        [0.],\n",
              "        [3.]])"
            ]
          },
          "metadata": {},
          "execution_count": 126
        }
      ]
    },
    {
      "cell_type": "code",
      "source": [
        "g = dgl.heterograph({\n",
        "    ('user', 'follows', 'user'): ([0, 1], [1, 1]),\n",
        "    ('game', 'attracts', 'user'): ([0], [1])\n",
        "})"
      ],
      "metadata": {
        "id": "Xxo64haRsKnI"
      },
      "execution_count": 127,
      "outputs": []
    },
    {
      "cell_type": "code",
      "source": [
        "g.nodes['user'].data['h'] = torch.tensor([[1.], [2.]])\n",
        "g.nodes['game'].data['h'] = torch.tensor([[1.]])\n",
        "g.update_all(fn.copy_u('h', 'm'), fn.sum('m', 'h'))\n",
        "g.nodes['user'].data['h']"
      ],
      "metadata": {
        "colab": {
          "base_uri": "https://localhost:8080/"
        },
        "id": "rTCli9vKsYS8",
        "outputId": "df610b29-8251-4036-8cc9-7917a7a03884"
      },
      "execution_count": 128,
      "outputs": [
        {
          "output_type": "execute_result",
          "data": {
            "text/plain": [
              "tensor([[0.],\n",
              "        [4.]])"
            ]
          },
          "metadata": {},
          "execution_count": 128
        }
      ]
    },
    {
      "cell_type": "markdown",
      "source": [
        "##dgl.function.copy_u"
      ],
      "metadata": {
        "id": "sSwicAZVuY20"
      }
    },
    {
      "cell_type": "code",
      "source": [
        "message_func = dgl.function.copy_u('h', 'm')"
      ],
      "metadata": {
        "id": "_SvEz86rucj8"
      },
      "execution_count": 129,
      "outputs": []
    },
    {
      "cell_type": "code",
      "source": [
        "def message_func(edges):\n",
        "    return {'m': edges.src['h']}"
      ],
      "metadata": {
        "id": "hVkJ5hp3ucm1"
      },
      "execution_count": 130,
      "outputs": []
    },
    {
      "cell_type": "markdown",
      "source": [
        "##dgl.function.copy_e"
      ],
      "metadata": {
        "id": "Uv32TgukunsY"
      }
    },
    {
      "cell_type": "code",
      "source": [
        "message_func = dgl.function.copy_e('h', 'm')"
      ],
      "metadata": {
        "id": "ccQxoiasucqF"
      },
      "execution_count": 131,
      "outputs": []
    },
    {
      "cell_type": "code",
      "source": [
        "def message_func(edges):\n",
        "    return {'m': edges.data['h']}"
      ],
      "metadata": {
        "id": "XruRi8Ftucs_"
      },
      "execution_count": 132,
      "outputs": []
    },
    {
      "cell_type": "markdown",
      "source": [
        "##dgl.function.u_add_v\n"
      ],
      "metadata": {
        "id": "S2Rsj5Uxuy6H"
      }
    },
    {
      "cell_type": "code",
      "source": [
        "message_func = dgl.function.u_add_v('h', 'h', 'm')"
      ],
      "metadata": {
        "id": "9TONmQ0jucwc"
      },
      "execution_count": 133,
      "outputs": []
    },
    {
      "cell_type": "markdown",
      "source": [
        "##dgl.function.u_mul_v"
      ],
      "metadata": {
        "id": "Y6hjM0gbvShm"
      }
    },
    {
      "cell_type": "code",
      "source": [
        "message_func = dgl.function.u_mul_v('h', 'h', 'm')"
      ],
      "metadata": {
        "id": "oabyddLoucze"
      },
      "execution_count": 134,
      "outputs": []
    },
    {
      "cell_type": "markdown",
      "source": [
        "##dgl.function.v_add_e"
      ],
      "metadata": {
        "id": "zQuneZ55vXJV"
      }
    },
    {
      "cell_type": "code",
      "source": [
        "message_func = dgl.function.v_add_e('h', 'h', 'm')"
      ],
      "metadata": {
        "id": "s2J_9cK_uc2e"
      },
      "execution_count": 135,
      "outputs": []
    },
    {
      "cell_type": "markdown",
      "source": [
        "##dgl.function.v_mul_e"
      ],
      "metadata": {
        "id": "YSVTmWp3vwsB"
      }
    },
    {
      "cell_type": "code",
      "source": [
        "message_func = dgl.function.v_mul_e('h', 'h', 'm')"
      ],
      "metadata": {
        "id": "ZZzKXEG8uc59"
      },
      "execution_count": 136,
      "outputs": []
    },
    {
      "cell_type": "markdown",
      "source": [
        "##dgl.function.v_add_u"
      ],
      "metadata": {
        "id": "vdY0sw1Vv5Ro"
      }
    },
    {
      "cell_type": "code",
      "source": [
        "message_func = dgl.function.v_add_u('h', 'h', 'm')"
      ],
      "metadata": {
        "id": "eQAvL2rev5iJ"
      },
      "execution_count": 137,
      "outputs": []
    },
    {
      "cell_type": "markdown",
      "source": [
        "##import dgl\n",
        "message_func = dgl.function.v_add_u('h', 'h', 'm')"
      ],
      "metadata": {
        "id": "WO36kGPPv56t"
      }
    },
    {
      "cell_type": "code",
      "source": [
        "message_func = dgl.function.v_mul_u('h', 'h', 'm')"
      ],
      "metadata": {
        "id": "kmRpBb79v6Uf"
      },
      "execution_count": 138,
      "outputs": []
    },
    {
      "cell_type": "markdown",
      "source": [
        "##dgl.function.u_add_e"
      ],
      "metadata": {
        "id": "_pqYW1iCv6lf"
      }
    },
    {
      "cell_type": "code",
      "source": [
        "message_func = dgl.function.u_add_e('h', 'h', 'm')"
      ],
      "metadata": {
        "id": "919_d4bEv63-"
      },
      "execution_count": 139,
      "outputs": []
    },
    {
      "cell_type": "markdown",
      "source": [
        "##dgl.function.u_mul_e"
      ],
      "metadata": {
        "id": "rDA5s9a5wcqJ"
      }
    },
    {
      "cell_type": "code",
      "source": [
        "message_func = dgl.function.u_mul_e('h', 'h', 'm')"
      ],
      "metadata": {
        "id": "9s4eLOQ_wc9m"
      },
      "execution_count": 140,
      "outputs": []
    },
    {
      "cell_type": "markdown",
      "source": [
        "##1"
      ],
      "metadata": {
        "id": "0vtHmhgJQdog"
      }
    },
    {
      "cell_type": "markdown",
      "source": [
        "1. ``g.apply_nodes'' function:\n",
        "    - In this piece of code, a graph `g' with 5 nodes is created.\n",
        "    - Each node is assigned a feature vector of size 2 using `g.ndata['h'] = torch.ones(5, 2)`.\n",
        "    - The `apply_nodes` function is called on the graph, which applies a user-defined function to each node and updates the nodes' data accordingly.\n",
        "    - The lambda function `lambda nodes: {'x': nodes.data['h'] * 2}` is applied to each node, which doubles the existing properties of the node, and the property 'x' of each node to makes day\n",
        "    - Updated node data output, `g.ndata['x']` which is a tensor of dimensions (5, 2) padded with 2.\n",
        "\n",
        "2. ``g.apply_edges'' function:\n",
        "    - A similar process is repeated for the edges in the graph.\n",
        "    - The lambda function `lambda edges: {'x': edges.src['h'] + edges.dst['h']}` is applied to each edge, combining the properties of the source and destination nodes. And the 'x' attribute updates each edge.\n",
        "    - Updated edge data output, `g.edata['x']` which is a tensor of size (4, 2) padded with 2.\n",
        "\n",
        "3. ``g.send_and_recv'' function:\n",
        "    - ``send_and_recv'' function is used to send messages through edges and perform reduction operations on nodes.\n",
        "    - The first call to `g.send_and_recv([1, 2], fn.copy_u('x', 'm'), fn.sum('m', 'h'))` returns messages from nodes 1 and 2 It sends to its neighbor nodes using the 'x' attribute and the messages are aggregated at the receiving nodes to update the 'h' attribute of each node.\n",
        "    - The second call `g.send_and_recv([0, 2, 3], fn.copy_u('x', 'm'), fn.sum('m', 'h'))` does a similar operation for nodes 0 , 2 and 3 do.\n",
        "    - Updated node data output, `g.ndata['h']` which is a tensor of size (5, 2) padded with 2.\n",
        "    4. `g.pull`:\n",
        "- The purpose of the `pull` function is to update the node features by collecting messages from neighboring nodes.\n",
        "- For example, calling `g.pull([0, 3, 4], fn.copy_u('x', 'm'), fn.sum('m', 'h'))` retrieves messages from nodes 0, 3, and 4 using the 'x' feature, and then these messages are summed at the receiving nodes to update the 'h' feature of each node.\n",
        "- The result is the updated node data, `g.ndata['h']`, which is a tensor of size (5, 2) filled with the value 2.\n",
        "\n",
        "5. `g.push`:\n",
        "- The purpose of the `push` function is to send messages from nodes to their neighboring nodes and perform reduction operations.\n",
        "- For instance, calling `g.push([0, 1], fn.copy_u('x', 'm'), fn.sum('m', 'h'))` sends messages from nodes 0 and 1 using the 'x' feature, and then these messages are summed at the receiving nodes to update the 'h' feature of each node.\n",
        "- The output is the updated node data, `g.ndata['h']`, which is a tensor of size (5, 2) filled with the value 2.\n",
        "\n",
        "6. `g.update_all`:\n",
        "- The `update_all` function combines the functionalities of `send_and_recv` and `pull`, allowing messages to be sent along edges and reduction operations to be performed on nodes simultaneously.\n",
        "- For instance, calling `g.update_all(fn.copy_u('x', 'm'), fn.sum('m', 'h'))` sends messages from each node to its neighboring nodes using the 'x' feature, and then these messages are summed at the receiving nodes to update the 'h' feature of each node.\n",
        "- The result is the updated node data, `g.ndata['h']`, which is a tensor of size (5, 2) filled with the value 2."
      ],
      "metadata": {
        "id": "GdpOiPTTRoB9"
      }
    },
    {
      "cell_type": "code",
      "source": [
        "!pip install dgl\n",
        "\n",
        "import dgl\n",
        "import torch\n",
        "\n",
        "\"\"\"## dgl.DGLGraph.apply_nodes\"\"\"\n",
        "\n",
        "g = dgl.graph(([0, 1, 2, 3], [1, 2, 3, 4]))\n",
        "g.ndata['h'] = torch.ones(5, 2)\n",
        "g.apply_nodes(lambda nodes: {'x': nodes.data['h'] * 2})\n",
        "print(g.ndata['x'])\n",
        "\n",
        "g = dgl.heterograph({('user', 'follows', 'user'): ([0, 1], [1, 2])})\n",
        "g.nodes['user'].data['h'] = torch.ones(3, 5)\n",
        "g.apply_nodes(lambda nodes: {'h': nodes.data['h'] * 2}, ntype='user')\n",
        "print(g.nodes['user'].data['h'])\n",
        "\n",
        "\"\"\"## dgl.DGLGraph.apply_edges\"\"\"\n",
        "\n",
        "g = dgl.graph(([0, 1, 2, 3], [1, 2, 3, 4]))\n",
        "g.ndata['h'] = torch.ones(5, 2)\n",
        "g.apply_edges(lambda edges: {'x': edges.src['h'] + edges.dst['h']})\n",
        "print(g.edata['x'])\n",
        "\n",
        "import dgl.function as fn\n",
        "g.apply_edges(fn.u_add_v('h', 'h', 'x'))\n",
        "print(g.edata['x'])\n",
        "\n",
        "g = dgl.heterograph({('user', 'plays', 'game'): ([0, 1, 1, 2], [0, 0, 2, 1])})\n",
        "g.edges[('user', 'plays', 'game')].data['h'] = torch.ones(4, 5)\n",
        "g.apply_edges(lambda edges: {'h': edges.data['h'] * 2})\n",
        "print(g.edges[('user', 'plays', 'game')].data['h'])\n",
        "\n",
        "\"\"\"## dgl.DGLGraph.send_and_recv\"\"\"\n",
        "\n",
        "import dgl.function as fn\n",
        "g = dgl.graph(([0, 1, 2, 3], [1, 2, 3, 4]))\n",
        "g.ndata['x'] = torch.ones(5, 2)\n",
        "g.send_and_recv([1, 2], fn.copy_u('x', 'm'), fn.sum('m', 'h'))\n",
        "print(g.ndata['h'])\n",
        "\n",
        "g.send_and_recv([0, 2, 3], fn.copy_u('x', 'm'), fn.sum('m', 'h'))\n",
        "print(g.ndata['h'])\n",
        "\n",
        "g = dgl.heterograph({\n",
        "    ('user', 'follows', 'user'): ([0, 1], [1, 2]),\n",
        "    ('user', 'plays', 'game'): ([0, 1, 1, 2], [0, 0, 1, 1])\n",
        "})\n",
        "g.nodes['user'].data['h'] = torch.tensor([[0.], [1.], [2.]])\n",
        "g.send_and_recv(g['follows'].edges(), fn.copy_u('h', 'm'),\n",
        "                fn.sum('m', 'h'), etype='follows')\n",
        "print(g.nodes['user'].data['h'])\n",
        "\n",
        "import torch as th\n",
        "g = dgl.graph(([0, 1], [1, 2]))\n",
        "g.ndata['x'] = th.tensor([[1.], [2.], [3.]])\n",
        "\n",
        "def send_source(edges):\n",
        "    return {'m': edges.src['x']}\n",
        "def simple_reduce(nodes):\n",
        "    return {'x': nodes.mailbox['m'].sum(1)}\n",
        "\n",
        "g.send_and_recv(g.edges(), send_source, simple_reduce)\n",
        "print(g.ndata['x'])\n",
        "\n",
        "\"\"\"## dgl.DGLGraph.pull\"\"\"\n",
        "\n",
        "g = dgl.graph(([0, 1, 2, 3], [1, 2, 3, 4]))\n",
        "g.ndata['x'] = torch.ones(5, 2)\n",
        "g.pull([0, 3, 4], fn.copy_u('x', 'm'), fn.sum('m', 'h'))\n",
        "print(g.ndata['h'])\n",
        "\n",
        "g = dgl.heterograph({\n",
        "    ('user', 'follows', 'user'): ([0, 1], [1, 2]),\n",
        "    ('user', 'plays', 'game'): ([0, 2], [0, 1])\n",
        "})\n",
        "g.nodes['user'].data['h'] = torch.tensor([[0.], [1.], [2.]])\n",
        "\n",
        "g['follows'].pull(2, fn.copy_u('h', 'm'), fn.sum('m', 'h'), etype='follows')\n",
        "print(g.nodes['user'].data['h'])\n",
        "\n",
        "\"\"\"## dgl.DGLGraph.push\"\"\"\n",
        "\n",
        "g = dgl.graph(([0, 1, 2, 3], [1, 2, 3, 4]))\n",
        "g.ndata['x'] = torch.ones(5, 2)\n",
        "g.push([0, 1], fn.copy_u('x', 'm'), fn.sum('m', 'h'))\n",
        "print(g.ndata['h'])\n",
        "\n",
        "g = dgl.heterograph({('user', 'follows', 'user'): ([0, 0], [1, 2])})\n",
        "g.nodes['user'].data['h'] = torch.tensor([[0.], [1.], [2.]])\n",
        "\n",
        "g['follows'].push(0, fn.copy_u('h', 'm'), fn.sum('m', 'h'), etype='follows')\n",
        "print(g.nodes['user'].data['h'])\n",
        "\n",
        "\"\"\"## dgl.DGLGraph.update_all\"\"\"\n",
        "\n",
        "g = dgl.graph(([0, 1, 2, 3], [1, 2, 3, 4]))\n",
        "g.ndata['x'] = torch.ones(5, 2)\n",
        "g.update_all(fn.copy_u('x', 'm'), fn.sum('m', 'h'))\n",
        "print(g.ndata['h'])\n",
        "\n",
        "g = dgl.heterograph({('user', 'follows', 'user'): ([0, 1, 2], [1, 2, 2])})\n",
        "\n",
        "g.nodes['user'].data['h'] = torch.tensor([[0.], [1.], [2.]])\n",
        "g['follows'].update_all(fn.copy_u('h', 'm'), fn.sum('m', 'h'), etype='follows')\n",
        "print(g.nodes['user'].data['h'])\n",
        "\n",
        "g = dgl.heterograph({\n",
        "    ('user', 'follows', 'user'): ([0, 1], [1, 1]),\n",
        "    ('game', 'attracts', 'user'): ([0], [1])\n",
        "})\n",
        "\n",
        "g.nodes['user'].data['h'] = torch.tensor([[1.], [2.]])\n",
        "g.nodes['game'].data['h'] = torch.tensor([[1.]])\n",
        "g.update_all(fn.copy_u('h', 'm'), fn.sum('m', 'h'))\n",
        "print(g.nodes['user'].data['h'])\n"
      ],
      "metadata": {
        "colab": {
          "base_uri": "https://localhost:8080/"
        },
        "id": "8r6xWVs2RfxZ",
        "outputId": "e8aa4a0e-97af-44fe-fc98-7f3ebb007566"
      },
      "execution_count": 154,
      "outputs": [
        {
          "output_type": "stream",
          "name": "stdout",
          "text": [
            "Looking in indexes: https://pypi.org/simple, https://us-python.pkg.dev/colab-wheels/public/simple/\n",
            "Requirement already satisfied: dgl in /usr/local/lib/python3.10/dist-packages (1.1.0)\n",
            "Requirement already satisfied: numpy>=1.14.0 in /usr/local/lib/python3.10/dist-packages (from dgl) (1.22.4)\n",
            "Requirement already satisfied: scipy>=1.1.0 in /usr/local/lib/python3.10/dist-packages (from dgl) (1.10.1)\n",
            "Requirement already satisfied: networkx>=2.1 in /usr/local/lib/python3.10/dist-packages (from dgl) (3.1)\n",
            "Requirement already satisfied: requests>=2.19.0 in /usr/local/lib/python3.10/dist-packages (from dgl) (2.27.1)\n",
            "Requirement already satisfied: tqdm in /usr/local/lib/python3.10/dist-packages (from dgl) (4.65.0)\n",
            "Requirement already satisfied: psutil>=5.8.0 in /usr/local/lib/python3.10/dist-packages (from dgl) (5.9.5)\n",
            "Requirement already satisfied: urllib3<1.27,>=1.21.1 in /usr/local/lib/python3.10/dist-packages (from requests>=2.19.0->dgl) (1.26.15)\n",
            "Requirement already satisfied: certifi>=2017.4.17 in /usr/local/lib/python3.10/dist-packages (from requests>=2.19.0->dgl) (2022.12.7)\n",
            "Requirement already satisfied: charset-normalizer~=2.0.0 in /usr/local/lib/python3.10/dist-packages (from requests>=2.19.0->dgl) (2.0.12)\n",
            "Requirement already satisfied: idna<4,>=2.5 in /usr/local/lib/python3.10/dist-packages (from requests>=2.19.0->dgl) (3.4)\n",
            "tensor([[2., 2.],\n",
            "        [2., 2.],\n",
            "        [2., 2.],\n",
            "        [2., 2.],\n",
            "        [2., 2.]])\n",
            "tensor([[2., 2., 2., 2., 2.],\n",
            "        [2., 2., 2., 2., 2.],\n",
            "        [2., 2., 2., 2., 2.]])\n",
            "tensor([[2., 2.],\n",
            "        [2., 2.],\n",
            "        [2., 2.],\n",
            "        [2., 2.]])\n",
            "tensor([[2., 2.],\n",
            "        [2., 2.],\n",
            "        [2., 2.],\n",
            "        [2., 2.]])\n",
            "tensor([[2., 2., 2., 2., 2.],\n",
            "        [2., 2., 2., 2., 2.],\n",
            "        [2., 2., 2., 2., 2.],\n",
            "        [2., 2., 2., 2., 2.]])\n",
            "tensor([[0., 0.],\n",
            "        [0., 0.],\n",
            "        [1., 1.],\n",
            "        [1., 1.],\n",
            "        [0., 0.]])\n",
            "tensor([[0., 0.],\n",
            "        [1., 1.],\n",
            "        [1., 1.],\n",
            "        [1., 1.],\n",
            "        [1., 1.]])\n",
            "tensor([[0.],\n",
            "        [0.],\n",
            "        [1.]])\n",
            "tensor([[1.],\n",
            "        [1.],\n",
            "        [2.]])\n",
            "tensor([[0., 0.],\n",
            "        [0., 0.],\n",
            "        [0., 0.],\n",
            "        [1., 1.],\n",
            "        [1., 1.]])\n",
            "tensor([[0.],\n",
            "        [1.],\n",
            "        [1.]])\n",
            "tensor([[0., 0.],\n",
            "        [1., 1.],\n",
            "        [1., 1.],\n",
            "        [0., 0.],\n",
            "        [0., 0.]])\n",
            "tensor([[0.],\n",
            "        [0.],\n",
            "        [0.]])\n",
            "tensor([[0., 0.],\n",
            "        [1., 1.],\n",
            "        [1., 1.],\n",
            "        [1., 1.],\n",
            "        [1., 1.]])\n",
            "tensor([[0.],\n",
            "        [0.],\n",
            "        [3.]])\n",
            "tensor([[0.],\n",
            "        [4.]])\n"
          ]
        }
      ]
    },
    {
      "cell_type": "markdown",
      "source": [
        "##2"
      ],
      "metadata": {
        "id": "8WfG4wHmQifV"
      }
    },
    {
      "cell_type": "markdown",
      "source": [
        "1. Graph Creation:\n",
        "   - This code snippet creates a directed graph named `g` using the function `dgl.graph()`.\n",
        "   - The graph consists of 5 nodes and 4 edges, which are defined by the lists `[0, 1, 2, 3]` and `[1, 2, 3, 4]` respectively.\n",
        "\n",
        "2. Node and Edge Initialization:\n",
        "   - The code initializes node features by assigning values to the attribute `g.ndata['h']`, which is a torch tensor containing `[[1.], [2.], [3.], [4.], [5.]]`.\n",
        "   - Edge features are also initialized in a similar manner using the attribute `g.edata['h']`, with values `[[1.], [2.], [3.], [4.]]`.\n",
        "\n",
        "3. Copying Node Features to Neighboring Nodes:\n",
        "   - To copy node feature `'h'` to message data `'m'`, the function `dgl.function.copy_u('h', 'm')` is utilized.\n",
        "   - The messages `'m'` are then summed at the receiver nodes and the updated feature `'h'` is stored there, using the function `dgl.function.sum('m', 'h')`.\n",
        "   - The `send_and_recv` function is applied to the graph `g` with all edges as arguments, executing the copy and sum operations.\n",
        "   - The node features `'h'` are printed after this operation.\n",
        "\n",
        "4. Copying Edge Features to Destination Nodes:\n",
        "   - Similar to the previous step, the function `dgl.function.copy_e('h', 'm')` is used to copy the edge feature `'h'` to message data `'m'`.\n",
        "   - The messages `'m'` are summed at the receiver nodes and the updated feature `'h'` is stored there using the function `dgl.function.sum('m', 'h')`.\n",
        "   - The `send_and_recv` function is called again, but this time copying and summing edge features.\n",
        "   - The node features `'h'` are printed after this operation.\n",
        "\n",
        "5. Node and Edge Feature Operations:\n",
        "   - This section involves performing various operations using different functions from the `dgl.function` module.\n",
        "   - These operations include addition and multiplication of node features, addition of edge features to node features, and addition of edge features to source node features.\n",
        "   - The `send_and_recv` function is called for each operation, updating the node features `'h'`.\n",
        "   - The node features `'h'` are printed after each operation.\n",
        "\n",
        "The output of the code displays the updated node features `'h'` after each operation. It serves as a demonstration of how messages can be sent and received between nodes in a graph, and how node and edge features can be manipulated using the DGL library."
      ],
      "metadata": {
        "id": "P9Q__lkxTbhL"
      }
    },
    {
      "cell_type": "code",
      "source": [
        "import dgl\n",
        "import torch\n",
        "\n",
        "g = dgl.graph(([0, 1, 2, 3], [1, 2, 3, 4]))\n",
        "\n",
        "# Initialize node data\n",
        "g.ndata['h'] = torch.tensor([[1.], [2.], [3.], [4.], [5.]])\n",
        "\n",
        "# Initialize edge data\n",
        "g.edata['h'] = torch.tensor([[1.], [2.], [3.], [4.]])\n",
        "\n",
        "# Copy node feature to neighboring nodes\n",
        "g.send_and_recv(g.edges(), dgl.function.copy_u('h', 'm'), dgl.function.sum('m', 'h'))\n",
        "print(g.ndata['h'])\n",
        "\n",
        "# Copy edge feature to destination nodes\n",
        "g.send_and_recv(g.edges(), dgl.function.copy_e('h', 'm'), dgl.function.sum('m', 'h'))\n",
        "print(g.ndata['h'])\n",
        "\n",
        "# Add source and destination node features\n",
        "g.send_and_recv(g.edges(), dgl.function.u_add_v('h', 'h', 'm'), dgl.function.sum('m', 'h'))\n",
        "print(g.ndata['h'])\n",
        "\n",
        "# Multiply source and destination node features\n",
        "g.send_and_recv(g.edges(), dgl.function.u_mul_v('h', 'h', 'm'), dgl.function.sum('m', 'h'))\n",
        "print(g.ndata['h'])\n",
        "\n",
        "# Add edge feature to destination node feature\n",
        "g.send_and_recv(g.edges(), dgl.function.v_add_e('h', 'h', 'm'), dgl.function.sum('m', 'h'))\n",
        "print(g.ndata['h'])\n",
        "\n",
        "# Multiply edge feature to destination node feature\n",
        "g.send_and_recv(g.edges(), dgl.function.v_mul_e('h', 'h', 'm'), dgl.function.sum('m', 'h'))\n",
        "print(g.ndata['h'])\n",
        "\n",
        "# Add node feature to destination node feature\n",
        "g.send_and_recv(g.edges(), dgl.function.v_add_u('h', 'h', 'm'), dgl.function.sum('m', 'h'))\n",
        "print(g.ndata['h'])\n",
        "\n",
        "# Multiply node feature to destination node feature\n",
        "g.send_and_recv(g.edges(), dgl.function.v_mul_u('h', 'h', 'm'), dgl.function.sum('m', 'h'))\n",
        "print(g.ndata['h'])\n",
        "\n",
        "# Add edge feature to source node feature\n",
        "g.send_and_recv(g.edges(), dgl.function.u_add_e('h', 'h', 'm'), dgl.function.sum('m', 'h'))\n",
        "print(g.ndata['h'])\n",
        "\n",
        "# Multiply edge feature to source node feature\n",
        "g.send_and_recv(g.edges(), dgl.function.u_mul_e('h', 'h', 'm'), dgl.function.sum('m', 'h'))\n",
        "print(g.ndata['h'])\n"
      ],
      "metadata": {
        "colab": {
          "base_uri": "https://localhost:8080/"
        },
        "id": "fb840vdd4SuW",
        "outputId": "86b67083-65eb-40c0-ca0f-ff87d067618a"
      },
      "execution_count": 145,
      "outputs": [
        {
          "output_type": "stream",
          "name": "stdout",
          "text": [
            "tensor([[1.],\n",
            "        [1.],\n",
            "        [2.],\n",
            "        [3.],\n",
            "        [4.]])\n",
            "tensor([[1.],\n",
            "        [1.],\n",
            "        [2.],\n",
            "        [3.],\n",
            "        [4.]])\n",
            "tensor([[1.],\n",
            "        [2.],\n",
            "        [3.],\n",
            "        [5.],\n",
            "        [7.]])\n",
            "tensor([[ 1.],\n",
            "        [ 2.],\n",
            "        [ 6.],\n",
            "        [15.],\n",
            "        [35.]])\n",
            "tensor([[ 1.],\n",
            "        [ 3.],\n",
            "        [ 8.],\n",
            "        [18.],\n",
            "        [39.]])\n",
            "tensor([[  1.],\n",
            "        [  3.],\n",
            "        [ 16.],\n",
            "        [ 54.],\n",
            "        [156.]])\n",
            "tensor([[  1.],\n",
            "        [  4.],\n",
            "        [ 19.],\n",
            "        [ 70.],\n",
            "        [210.]])\n",
            "tensor([[1.0000e+00],\n",
            "        [4.0000e+00],\n",
            "        [7.6000e+01],\n",
            "        [1.3300e+03],\n",
            "        [1.4700e+04]])\n",
            "tensor([[1.0000e+00],\n",
            "        [2.0000e+00],\n",
            "        [6.0000e+00],\n",
            "        [7.9000e+01],\n",
            "        [1.3340e+03]])\n",
            "tensor([[  1.],\n",
            "        [  1.],\n",
            "        [  4.],\n",
            "        [ 18.],\n",
            "        [316.]])\n"
          ]
        }
      ]
    }
  ]
}