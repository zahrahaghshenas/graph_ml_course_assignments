{
  "nbformat": 4,
  "nbformat_minor": 0,
  "metadata": {
    "colab": {
      "provenance": []
    },
    "kernelspec": {
      "name": "python3",
      "display_name": "Python 3"
    },
    "language_info": {
      "name": "python"
    }
  },
  "cells": [
    {
      "cell_type": "code",
      "source": [
        "\n",
        "import networkx as nx\n",
        "import pandas as pd\n",
        "import cv2\n",
        "from google.colab.patches import cv2_imshow"
      ],
      "metadata": {
        "id": "OtD_u_ge5ZTb"
      },
      "execution_count": 2,
      "outputs": []
    },
    {
      "cell_type": "code",
      "execution_count": 3,
      "metadata": {
        "colab": {
          "base_uri": "https://localhost:8080/",
          "height": 655
        },
        "id": "NyWdPs7SBXHw",
        "outputId": "3d72ebd2-f69b-4dbf-ead8-6037720c3d56"
      },
      "outputs": [
        {
          "output_type": "stream",
          "name": "stdout",
          "text": [
            "False\n",
            "(1, 2)\n",
            "(1, 3)\n",
            "(2, 3)\n",
            "(2, 4)\n",
            "(2, 5)\n",
            "(5, 6)\n",
            "G has 6 edges\n"
          ]
        },
        {
          "output_type": "display_data",
          "data": {
            "text/plain": [
              "<Figure size 640x480 with 1 Axes>"
            ],
            "image/png": "[encoded data removed]"
          },
          "metadata": {}
        }
      ],
      "source": [
        " # Import the NetworkX package\n",
        "import networkx as nx\n",
        "# Create an undirected graph G\n",
        "G = nx.Graph()\n",
        "print(G.is_directed())\n",
        "# Add multiple edges with edge weights\n",
        "G.add_edges_from([\n",
        "  (1, 2),\n",
        "  (1, 3),\n",
        "  (2,3),\n",
        "  (2,4),\n",
        "  (2,5),\n",
        "  (5,6)\n",
        "])\n",
        "\n",
        "# Loop through all the edges\n",
        "# Here there is no data=True, so only the edge will be returned\n",
        "for edge in G.edges():\n",
        "  print(edge)\n",
        "\n",
        "# Get number of edges\n",
        "num_edges = G.number_of_edges()\n",
        "print(\"G has {} edges\".format(num_edges))\n",
        "# Draw the graph\n",
        "nx.draw(G, with_labels = True)       "
      ]
    },
    {
      "cell_type": "code",
      "source": [
        "import networkx as nx\n",
        "\n",
        "# Create the graph\n",
        "G = nx.Graph()\n",
        "G.add_edges_from([\n",
        "    (1, 2),\n",
        "    (1, 3),\n",
        "    (2, 3),\n",
        "    (2, 4),\n",
        "    (2, 5),\n",
        "    (5, 6)\n",
        "])\n",
        "\n",
        "# Compute the degree for each node\n",
        "degree = dict(G.degree())\n",
        "\n",
        "# Compute the closeness centrality for each node\n",
        "closeness_centrality = nx.closeness_centrality(G)\n",
        "\n",
        "# Compute the betweenness centrality for each node\n",
        "\n",
        "betweenness_centrality = nx.betweenness_centrality(G, normalized=False)\n",
        "\n",
        "# Print the results\n",
        "print(\"Degree:\")\n",
        "for node in degree:\n",
        "    print(\"Node {}: {}\".format(node, degree[node]))\n",
        "print()\n",
        "\n",
        "print(\"Closeness centrality:\")\n",
        "for node in closeness_centrality:\n",
        "    print(\"Node {}: {}\".format(node, closeness_centrality[node]))\n",
        "print()\n",
        "\n",
        "print(\"Betweenness centrality:\")\n",
        "for node in betweenness_centrality:\n",
        "    print(\"Node {}: {}\".format(node, betweenness_centrality[node]))\n"
      ],
      "metadata": {
        "id": "97ZZMB3jBmv5",
        "outputId": "1ab887ff-940f-4367-eee5-c73ec63e033f",
        "colab": {
          "base_uri": "https://localhost:8080/"
        }
      },
      "execution_count": 4,
      "outputs": [
        {
          "output_type": "stream",
          "name": "stdout",
          "text": [
            "Degree:\n",
            "Node 1: 2\n",
            "Node 2: 4\n",
            "Node 3: 2\n",
            "Node 4: 1\n",
            "Node 5: 2\n",
            "Node 6: 1\n",
            "\n",
            "Closeness centrality:\n",
            "Node 1: 0.5555555555555556\n",
            "Node 2: 0.8333333333333334\n",
            "Node 3: 0.5555555555555556\n",
            "Node 4: 0.5\n",
            "Node 5: 0.625\n",
            "Node 6: 0.4166666666666667\n",
            "\n",
            "Betweenness centrality:\n",
            "Node 1: 0.0\n",
            "Node 2: 8.0\n",
            "Node 3: 0.0\n",
            "Node 4: 0.0\n",
            "Node 5: 4.0\n",
            "Node 6: 0.0\n"
          ]
        }
      ]
    },
    {
      "cell_type": "code",
      "source": [
        "import networkx as nx\n",
        "\n",
        "# Create the social network graph\n",
        "G = nx.Graph()\n",
        "G.add_edges_from([\n",
        "  (1, 2),\n",
        "  (1, 3),\n",
        "  (2, 3),\n",
        "  (2, 4),\n",
        "  (2, 5),\n",
        "  (5, 6)\n",
        "])\n",
        "\n",
        "# Calculate clustering coefficient for each node\n",
        "clustering_coefficients = nx.clustering(G)\n",
        "print(\"Clustering Coefficients:\")\n",
        "for node, cc in clustering_coefficients.items():\n",
        "    print(\"User {}: {}\".format(node, cc))\n",
        "\n",
        "# Calculate graphlets of size 3 vectors for each node\n",
        "graphlet_vectors = nx.subgraph_centrality(G)\n",
        "print(\"Graphlets of Size 3 Vectors:\")\n",
        "for node, gv in graphlet_vectors.items():\n",
        "    print(\"User {}: {}\".format(node, gv))\n",
        "\n"
      ],
      "metadata": {
        "colab": {
          "base_uri": "https://localhost:8080/"
        },
        "id": "Kf7ceWsZFtni",
        "outputId": "08ffd0f9-b6b1-4f23-8877-166b9f394ddf"
      },
      "execution_count": 5,
      "outputs": [
        {
          "output_type": "stream",
          "name": "stdout",
          "text": [
            "Clustering Coefficients:\n",
            "User 1: 1.0\n",
            "User 2: 0.16666666666666666\n",
            "User 3: 1.0\n",
            "User 4: 0\n",
            "User 5: 0\n",
            "User 6: 0\n",
            "Graphlets of Size 3 Vectors:\n",
            "User 1: 2.8642760873280952\n",
            "User 2: 4.447235358138677\n",
            "User 3: 2.8642760873280917\n",
            "User 4: 1.7161591319455578\n",
            "User 5: 2.3601845633893137\n",
            "User 6: 1.5943292211527964\n"
          ]
        }
      ]
    },
    {
      "cell_type": "code",
      "source": [
        "import networkx as nx\n",
        "\n",
        "# Create an undirected graph G\n",
        "G = nx.Graph()\n",
        "\n",
        "# Add multiple edges with edge weights\n",
        "G.add_edges_from([\n",
        "  (1, 2),\n",
        "  (1, 3),\n",
        "  (2, 3),\n",
        "  (2, 4),\n",
        "  (2, 5),\n",
        "  (5, 6)\n",
        "])\n",
        "\n",
        "# Calculate all the shortest paths\n",
        "all_shortest_paths = dict(nx.all_pairs_shortest_path(G))\n",
        "\n",
        "# Calculate the betweenness centrality for each node\n",
        "betweenness_centrality = nx.betweenness_centrality(G)\n",
        "\n",
        "# Print all the shortest paths and the betweenness centrality for each node\n",
        "for node in G.nodes():\n",
        "  print(\"Shortest paths for node {}: {}\".format(node, all_shortest_paths[node]))\n",
        "  print(\"Betweenness centrality for node {}: {}\".format(node, betweenness_centrality[node]))\n"
      ],
      "metadata": {
        "colab": {
          "base_uri": "https://localhost:8080/"
        },
        "id": "1-GfglXs9gGP",
        "outputId": "0c854666-0687-4025-a7c2-d1d1dbda675a"
      },
      "execution_count": 6,
      "outputs": [
        {
          "output_type": "stream",
          "name": "stdout",
          "text": [
            "Shortest paths for node 1: {1: [1], 2: [1, 2], 3: [1, 3], 4: [1, 2, 4], 5: [1, 2, 5], 6: [1, 2, 5, 6]}\n",
            "Betweenness centrality for node 1: 0.0\n",
            "Shortest paths for node 2: {2: [2], 1: [2, 1], 3: [2, 3], 4: [2, 4], 5: [2, 5], 6: [2, 5, 6]}\n",
            "Betweenness centrality for node 2: 0.8\n",
            "Shortest paths for node 3: {3: [3], 1: [3, 1], 2: [3, 2], 4: [3, 2, 4], 5: [3, 2, 5], 6: [3, 2, 5, 6]}\n",
            "Betweenness centrality for node 3: 0.0\n",
            "Shortest paths for node 4: {4: [4], 2: [4, 2], 1: [4, 2, 1], 3: [4, 2, 3], 5: [4, 2, 5], 6: [4, 2, 5, 6]}\n",
            "Betweenness centrality for node 4: 0.0\n",
            "Shortest paths for node 5: {5: [5], 2: [5, 2], 6: [5, 6], 1: [5, 2, 1], 3: [5, 2, 3], 4: [5, 2, 4]}\n",
            "Betweenness centrality for node 5: 0.4\n",
            "Shortest paths for node 6: {6: [6], 5: [6, 5], 2: [6, 5, 2], 1: [6, 5, 2, 1], 3: [6, 5, 2, 3], 4: [6, 5, 2, 4]}\n",
            "Betweenness centrality for node 6: 0.0\n"
          ]
        }
      ]
    },
    {
      "cell_type": "code",
      "source": [
        "import networkx as nx\n",
        "\n",
        "# Create an undirected graph G\n",
        "G = nx.Graph()\n",
        "\n",
        "# Add multiple edges with edge weights\n",
        "G.add_edges_from([\n",
        "  (1, 2),\n",
        "  (1, 3),\n",
        "  (2, 3),\n",
        "  (2, 4),\n",
        "  (2, 5),\n",
        "  (5, 6)\n",
        "])\n",
        "\n",
        "# Calculate all the shortest paths with 2 vertices between them\n",
        "shortest_paths = {}\n",
        "for node1 in G.nodes():\n",
        "  for node2 in G.nodes():\n",
        "    if node1 < node2:\n",
        "      paths = list(nx.all_shortest_paths(G, source=node1, target=node2, weight=None))\n",
        "      for path in paths:\n",
        "        if len(path) == 4:\n",
        "          shortest_paths[(node1, node2)] = path\n",
        "\n",
        "# Calculate the betweenness centrality for each node\n",
        "betweenness_centrality = nx.betweenness_centrality(G)\n",
        "\n",
        "# Print all the shortest paths with 2 vertices between them and the betweenness centrality for each node\n",
        "for path, nodes in shortest_paths.items():\n",
        "  print(\"Shortest path between nodes {} and {}: {}\".format(path[0], path[1], nodes))\n",
        "  betweenness = sum([betweenness_centrality[node] for node in nodes[1:2]])\n",
        "  print(\"Betweenness centrality for nodes {}: {}\".format(nodes[1], betweenness))\n"
      ],
      "metadata": {
        "colab": {
          "base_uri": "https://localhost:8080/"
        },
        "id": "vqJiA5Wk_qhu",
        "outputId": "64e38857-2ac5-48bc-e1d9-59791cb20e46"
      },
      "execution_count": 7,
      "outputs": [
        {
          "output_type": "stream",
          "name": "stdout",
          "text": [
            "Shortest path between nodes 1 and 6: [1, 2, 5, 6]\n",
            "Betweenness centrality for nodes 2: 0.8\n",
            "Shortest path between nodes 3 and 6: [3, 2, 5, 6]\n",
            "Betweenness centrality for nodes 2: 0.8\n",
            "Shortest path between nodes 4 and 6: [4, 2, 5, 6]\n",
            "Betweenness centrality for nodes 2: 0.8\n"
          ]
        }
      ]
    },
    {
      "cell_type": "code",
      "source": [],
      "metadata": {
        "id": "LGdjWJaeA_7q"
      },
      "execution_count": 7,
      "outputs": []
    },
    {
      "cell_type": "code",
      "source": [
        "import networkx as nx\n",
        "\n",
        "# Create an undirected graph G\n",
        "G = nx.Graph()\n",
        "\n",
        "# Add multiple edges with edge weights\n",
        "G.add_edges_from([\n",
        "  (1, 2),\n",
        "  (1, 3),\n",
        "  (2, 3),\n",
        "  (2, 4),\n",
        "  (2, 5),\n",
        "  (5, 6)\n",
        "])\n",
        "\n",
        "# Calculate the number of shortest paths with 2 vertices between them\n",
        "num_shortest_paths = 0\n",
        "for node1 in G.nodes():\n",
        "  for node2 in G.nodes():\n",
        "    if node1 < node2:\n",
        "      paths = list(nx.all_shortest_paths(G, source=node1, target=node2, weight=None))\n",
        "      for path in paths:\n",
        "        if len(path) == 4:\n",
        "          num_shortest_paths += 1\n",
        "\n",
        "# Print the number of shortest paths with 2 vertices between them\n",
        "print(\"There are {} shortest paths with 2 vertices between them in G.\".format(num_shortest_paths))\n"
      ],
      "metadata": {
        "colab": {
          "base_uri": "https://localhost:8080/"
        },
        "id": "_d8gtMoiA_-d",
        "outputId": "1426d711-6908-4779-c1bd-d23155811da0"
      },
      "execution_count": 8,
      "outputs": [
        {
          "output_type": "stream",
          "name": "stdout",
          "text": [
            "There are 3 shortest paths with 2 vertices between them in G.\n"
          ]
        }
      ]
    },
    {
      "cell_type": "code",
      "source": [
        "import networkx as nx\n",
        "\n",
        "# Create an undirected graph G\n",
        "G = nx.Graph()\n",
        "\n",
        "# Add multiple edges with edge weights\n",
        "G.add_edges_from([\n",
        "  (1, 2),\n",
        "  (1, 3),\n",
        "  (2, 3),\n",
        "  (2, 4),\n",
        "  (2, 5),\n",
        "  (5, 6)\n",
        "])\n",
        "\n",
        "# Calculate the betweenness centrality for each node in the graph\n",
        "betweenness_centrality = nx.betweenness_centrality(G)\n",
        "\n",
        "# Calculate the betweenness centrality for the two paths with 2 vertices between them\n",
        "path1 = [1, 2, 4, 5]\n",
        "path2 = [1, 2, 5, 6]\n",
        "betweenness1 = sum([betweenness_centrality[node] for node in path1[1:3]])\n",
        "betweenness2 = sum([betweenness_centrality[node] for node in path2[1:3]])\n",
        "\n",
        "# Print the betweenness centrality for the two paths\n",
        "print(\"Betweenness centrality for path {}: {}\".format(path1, betweenness1))\n",
        "print(\"Betweenness centrality for path {}: {}\".format(path2, betweenness2))\n"
      ],
      "metadata": {
        "colab": {
          "base_uri": "https://localhost:8080/"
        },
        "id": "qe7PvhoMBAB-",
        "outputId": "8df0251f-3df7-409c-94ca-c3957140fcce"
      },
      "execution_count": 9,
      "outputs": [
        {
          "output_type": "stream",
          "name": "stdout",
          "text": [
            "Betweenness centrality for path [1, 2, 4, 5]: 0.8\n",
            "Betweenness centrality for path [1, 2, 5, 6]: 1.2000000000000002\n"
          ]
        }
      ]
    },
    {
      "cell_type": "code",
      "source": [
        "# create a dictionary to store the data\n",
        "data = {'Node': [1, 2, 3, 4, 5, 6],\n",
        "        'Degree': pd.Series({'1': 2, '2': 4, '3': 2, '4': 1, '5': 2, '6': 1}),\n",
        "        'Closeness Centrality': pd.Series({'1': 0.5, '2': 0.83, '3': 0.55, '4': 0.5, '5': 0.625, '6': 0.416}),\n",
        "        'Betweenness Centrality': pd.Series({'1': 0.0, '2': 0.8, '3': 0.0, '4': 0.0, '5': 0.4, '6': 0.0}),\n",
        "        'Clustering Coefficient': pd.Series({'1': 1.0, '2': 0.166, '3': 1.0, '4': 0, '5': 0, '6': 0}),\n",
        "                'Graphlet of size 3': pd.Series({'1': 3, '2': 7, '3': 4, '4': 1, '5': 3, '6': 1})}\n",
        "\n",
        "# create a DataFrame from the dictionary\n",
        "df = pd.DataFrame(data)\n",
        "\n",
        "# print the DataFrame\n",
        "print(df)"
      ],
      "metadata": {
        "id": "hjiTTr_2DqUX",
        "colab": {
          "base_uri": "https://localhost:8080/"
        },
        "outputId": "a79dc3ae-0576-4843-dff9-e423b7483bdd"
      },
      "execution_count": 10,
      "outputs": [
        {
          "output_type": "stream",
          "name": "stdout",
          "text": [
            "   Node  Degree  Closeness Centrality  Betweenness Centrality  \\\n",
            "1     1       2                 0.500                     0.0   \n",
            "2     2       4                 0.830                     0.8   \n",
            "3     3       2                 0.550                     0.0   \n",
            "4     4       1                 0.500                     0.0   \n",
            "5     5       2                 0.625                     0.4   \n",
            "6     6       1                 0.416                     0.0   \n",
            "\n",
            "   Clustering Coefficient  Graphlet of size 3  \n",
            "1                   1.000                   3  \n",
            "2                   0.166                   7  \n",
            "3                   1.000                   4  \n",
            "4                   0.000                   1  \n",
            "5                   0.000                   3  \n",
            "6                   0.000                   1  \n"
          ]
        }
      ]
    },
    {
      "cell_type": "code",
      "source": [],
      "metadata": {
        "id": "JsmYhrnrDqXq"
      },
      "execution_count": 10,
      "outputs": []
    },
    {
      "cell_type": "code",
      "source": [],
      "metadata": {
        "id": "BktzqP24Dqa3"
      },
      "execution_count": 10,
      "outputs": []
    },
    {
      "cell_type": "code",
      "source": [],
      "metadata": {
        "id": "DfIqc0CbDqeI"
      },
      "execution_count": 10,
      "outputs": []
    },
    {
      "cell_type": "code",
      "source": [],
      "metadata": {
        "id": "77gmAM6rDqhF"
      },
      "execution_count": 10,
      "outputs": []
    },
    {
      "cell_type": "code",
      "source": [
        "import numpy as np\n",
        "\n",
        "# Initialize the distance matrix\n",
        "dist_matrix = np.full((6, 6), np.inf)\n",
        "for i in range(6):\n",
        "    dist_matrix[i, i] = 0\n",
        "for u, v in G.edges():\n",
        "    dist_matrix[u-1, v-1] = 1\n",
        "    dist_matrix[v-1, u-1] = 1\n",
        "\n",
        "# Floyd-Warshall algorithm\n",
        "for k in range(6):\n",
        "    for i in range(6):\n",
        "        for j in range(6):\n",
        "            dist_matrix[i, j] = min(dist_matrix[i, j], dist_matrix[i, k] + dist_matrix[k, j])\n",
        "\n",
        "# Count the number of shortest paths with 2 vertices between them\n",
        "num_shortest_paths = 0\n",
        "for i in range(6):\n",
        "    for j in range(i+1, 6):\n",
        "        if dist_matrix[i, j] == 2:\n",
        "            num_shortest_paths += 1\n",
        "\n",
        "print(\"Number of shortest paths with 2 vertices between them:\", num_shortest_paths)\n"
      ],
      "metadata": {
        "colab": {
          "base_uri": "https://localhost:8080/"
        },
        "id": "a06CTV84Dqkn",
        "outputId": "2eb4cc8d-c556-4062-cf89-f32caac8a7b9"
      },
      "execution_count": 11,
      "outputs": [
        {
          "output_type": "stream",
          "name": "stdout",
          "text": [
            "Number of shortest paths with 2 vertices between them: 6\n"
          ]
        }
      ]
    },
    {
      "cell_type": "code",
      "source": [
        "import networkx as nx\n",
        "\n",
        "# Create the graph\n",
        "G = nx.Graph()\n",
        "G.add_edges_from([(1, 2), (1, 3), (2, 3), (2, 4), (2, 5), (5, 6)])\n",
        "\n",
        "# Calculate the betweenness centrality of vertex 2\n",
        "numerator = 0\n",
        "denominator = 0\n",
        "\n",
        "for s in G.nodes():\n",
        "    for t in G.nodes():\n",
        "        if s != 2 and t != 2 and s != t:\n",
        "            # Count the number of shortest paths between s and t\n",
        "            paths = nx.all_shortest_paths(G, source=s, target=t)\n",
        "            num_paths = len(list(paths))\n",
        "            denominator += num_paths\n",
        "            \n",
        "            # Count the number of those shortest paths that pass through vertex 2\n",
        "            for path in nx.all_shortest_paths(G, source=s, target=t):\n",
        "                if 2 in path:\n",
        "                    numerator += 1\n",
        "                    \n",
        "betweenness = numerator / denominator\n",
        "\n",
        "print(\"Betweenness centrality of vertex 2: \", betweenness)\n"
      ],
      "metadata": {
        "colab": {
          "base_uri": "https://localhost:8080/"
        },
        "id": "wCUWwnVXFOa8",
        "outputId": "391ea520-af84-4986-d931-2b756d3b54a5"
      },
      "execution_count": 12,
      "outputs": [
        {
          "output_type": "stream",
          "name": "stdout",
          "text": [
            "Betweenness centrality of vertex 2:  0.8\n"
          ]
        }
      ]
    },
    {
      "cell_type": "code",
      "source": [
        "import networkx as nx\n",
        "\n",
        "# Create the graph\n",
        "G = nx.Graph()\n",
        "G.add_edges_from([(1, 2), (1, 3), (2, 3), (2, 4), (2, 5), (5, 6)])\n",
        "\n",
        "# Calculate the betweenness centrality of vertex 2\n",
        "numerator = 0\n",
        "denominator = 0\n",
        "\n",
        "for s in G.nodes():\n",
        "    for t in G.nodes():\n",
        "        if s != 2 and t != 2 and s != t:\n",
        "            # Count the number of shortest paths between s and t\n",
        "            paths = nx.all_shortest_paths(G, source=s, target=t)\n",
        "            num_paths = len(list(paths))\n",
        "            denominator += num_paths\n",
        "            \n",
        "            # Count the number of those shortest paths that pass through vertex 2\n",
        "            for path in nx.all_shortest_paths(G, source=s, target=t):\n",
        "                if 2 in path:\n",
        "                    numerator += 1\n",
        "                    \n",
        "betweenness = numerator / denominator\n",
        "\n",
        "print(\"Betweenness centrality of vertex 2: \", betweenness)\n"
      ],
      "metadata": {
        "colab": {
          "base_uri": "https://localhost:8080/"
        },
        "id": "TtCDNnDzFxbT",
        "outputId": "748ee261-1430-4982-cbc6-a9e0a1013a03"
      },
      "execution_count": 13,
      "outputs": [
        {
          "output_type": "stream",
          "name": "stdout",
          "text": [
            "Betweenness centrality of vertex 2:  0.8\n"
          ]
        }
      ]
    },
    {
      "cell_type": "code",
      "source": [
        "import networkx as nx\n",
        "\n",
        "# Create the graph\n",
        "G = nx.Graph()\n",
        "G.add_edges_from([\n",
        "  (1, 2),\n",
        "  (1, 3),\n",
        "  (2, 3),\n",
        "  (2, 4),\n",
        "  (2, 5),\n",
        "  (5, 6)\n",
        "])\n",
        "\n",
        "# Calculate the shortest path length between each pair of nodes\n",
        "shortest_path_length = dict(nx.shortest_path_length(G))\n",
        "\n",
        "# Print the shortest path length for each pair of nodes\n",
        "print(\"Shortest Path Length:\")\n",
        "for node1 in shortest_path_length:\n",
        "    for node2 in shortest_path_length[node1]:\n",
        "        print(\"Shortest path between nodes {} and {}: {}\".format(node1, node2, shortest_path_length[node1][node2]))\n"
      ],
      "metadata": {
        "id": "PfBMJq8mFPAa",
        "colab": {
          "base_uri": "https://localhost:8080/"
        },
        "outputId": "4e76c1e0-af36-4163-a197-5529c12c9c84"
      },
      "execution_count": 14,
      "outputs": [
        {
          "output_type": "stream",
          "name": "stdout",
          "text": [
            "Shortest Path Length:\n",
            "Shortest path between nodes 1 and 1: 0\n",
            "Shortest path between nodes 1 and 2: 1\n",
            "Shortest path between nodes 1 and 3: 1\n",
            "Shortest path between nodes 1 and 4: 2\n",
            "Shortest path between nodes 1 and 5: 2\n",
            "Shortest path between nodes 1 and 6: 3\n",
            "Shortest path between nodes 2 and 2: 0\n",
            "Shortest path between nodes 2 and 1: 1\n",
            "Shortest path between nodes 2 and 3: 1\n",
            "Shortest path between nodes 2 and 4: 1\n",
            "Shortest path between nodes 2 and 5: 1\n",
            "Shortest path between nodes 2 and 6: 2\n",
            "Shortest path between nodes 3 and 3: 0\n",
            "Shortest path between nodes 3 and 1: 1\n",
            "Shortest path between nodes 3 and 2: 1\n",
            "Shortest path between nodes 3 and 4: 2\n",
            "Shortest path between nodes 3 and 5: 2\n",
            "Shortest path between nodes 3 and 6: 3\n",
            "Shortest path between nodes 4 and 4: 0\n",
            "Shortest path between nodes 4 and 2: 1\n",
            "Shortest path between nodes 4 and 1: 2\n",
            "Shortest path between nodes 4 and 3: 2\n",
            "Shortest path between nodes 4 and 5: 2\n",
            "Shortest path between nodes 4 and 6: 3\n",
            "Shortest path between nodes 5 and 5: 0\n",
            "Shortest path between nodes 5 and 2: 1\n",
            "Shortest path between nodes 5 and 6: 1\n",
            "Shortest path between nodes 5 and 1: 2\n",
            "Shortest path between nodes 5 and 3: 2\n",
            "Shortest path between nodes 5 and 4: 2\n",
            "Shortest path between nodes 6 and 6: 0\n",
            "Shortest path between nodes 6 and 5: 1\n",
            "Shortest path between nodes 6 and 2: 2\n",
            "Shortest path between nodes 6 and 1: 3\n",
            "Shortest path between nodes 6 and 3: 3\n",
            "Shortest path between nodes 6 and 4: 3\n"
          ]
        }
      ]
    },
    {
      "cell_type": "code",
      "source": [
        "\n",
        "\n",
        "# Calculate common neighbors, Jaccard's coefficient, and Adamic-Adar index\n",
        "for u, v in G.edges():\n",
        "    cn = list(nx.common_neighbors(G, u, v))\n",
        "    jc = nx.jaccard_coefficient(G, [(u, v)])\n",
        "    aa = nx.adamic_adar_index(G, [(u, v)])\n",
        "    print(f\"Common neighbors of {u} and {v}: {len(cn)}\")\n",
        "    print(f\"Jaccard's coefficient between {u} and {v}: {list(jc)[0][2]}\")\n",
        "    print(f\"Adamic-Adar index between {u} and {v}: {list(aa)[0][2]}\")\n"
      ],
      "metadata": {
        "colab": {
          "base_uri": "https://localhost:8080/"
        },
        "id": "u0v8K0RwgxLE",
        "outputId": "ab0947e8-4cdc-4855-ed66-03ed01a4a45d"
      },
      "execution_count": 15,
      "outputs": [
        {
          "output_type": "stream",
          "name": "stdout",
          "text": [
            "Common neighbors of 1 and 2: 1\n",
            "Jaccard's coefficient between 1 and 2: 0.2\n",
            "Adamic-Adar index between 1 and 2: 1.4426950408889634\n",
            "Common neighbors of 1 and 3: 1\n",
            "Jaccard's coefficient between 1 and 3: 0.3333333333333333\n",
            "Adamic-Adar index between 1 and 3: 0.7213475204444817\n",
            "Common neighbors of 2 and 3: 1\n",
            "Jaccard's coefficient between 2 and 3: 0.2\n",
            "Adamic-Adar index between 2 and 3: 1.4426950408889634\n",
            "Common neighbors of 2 and 4: 0\n",
            "Jaccard's coefficient between 2 and 4: 0.0\n",
            "Adamic-Adar index between 2 and 4: 0\n",
            "Common neighbors of 2 and 5: 0\n",
            "Jaccard's coefficient between 2 and 5: 0.0\n",
            "Adamic-Adar index between 2 and 5: 0\n",
            "Common neighbors of 5 and 6: 0\n",
            "Jaccard's coefficient between 5 and 6: 0.0\n",
            "Adamic-Adar index between 5 and 6: 0\n"
          ]
        }
      ]
    },
    {
      "cell_type": "code",
      "source": [],
      "metadata": {
        "id": "2WgtwEqZQ-xC"
      },
      "execution_count": 15,
      "outputs": []
    },
    {
      "cell_type": "code",
      "source": [],
      "metadata": {
        "id": "LF65HN49REQZ"
      },
      "execution_count": 15,
      "outputs": []
    },
    {
      "cell_type": "code",
      "source": [
        " # Import the NetworkX package\n",
        "import networkx as nx\n",
        "# Create an undirected graph G\n",
        "G1= nx.Graph()\n",
        "print(G1.is_directed())\n",
        "# Add multiple edges with edge weights\n",
        "G1.add_edges_from([\n",
        "  (1, 2),\n",
        "  (1, 3),\n",
        "  (2,3),\n",
        "  (3,4),\n",
        "  (4,6),\n",
        "  (4,5),\n",
        "  (5,6)\n",
        "])\n",
        "\n",
        "# Loop through all the edges\n",
        "# Here there is no data=True, so only the edge will be returned\n",
        "for edge in G1.edges():\n",
        "  print(edge)\n",
        "\n",
        "# Get number of edges\n",
        "num_edges = G1.number_of_edges()\n",
        "print(\"G1 has {} edges\".format(num_edges))\n",
        "# Draw the graph\n",
        "nx.draw(G1, with_labels = True)  \n",
        "\n",
        "G1 = nx.Graph()\n",
        "print(G1.is_directed())\n"
      ],
      "metadata": {
        "colab": {
          "base_uri": "https://localhost:8080/",
          "height": 690
        },
        "id": "1UuyXBh4RETv",
        "outputId": "25929103-b5e2-4ef0-e3ae-39e7a1e2ec9e"
      },
      "execution_count": 16,
      "outputs": [
        {
          "output_type": "stream",
          "name": "stdout",
          "text": [
            "False\n",
            "(1, 2)\n",
            "(1, 3)\n",
            "(2, 3)\n",
            "(3, 4)\n",
            "(4, 6)\n",
            "(4, 5)\n",
            "(6, 5)\n",
            "G1 has 7 edges\n",
            "False\n"
          ]
        },
        {
          "output_type": "display_data",
          "data": {
            "text/plain": [
              "<Figure size 640x480 with 1 Axes>"
            ],
            "image/png": "[encoded data removed]"
          },
          "metadata": {}
        }
      ]
    },
    {
      "cell_type": "code",
      "source": [
        "# Create an undirected graph G\n",
        "H= nx.Graph()\n",
        "print(H.is_directed())\n",
        "# Add multiple edges with edge weights\n",
        "H.add_edges_from([\n",
        "  (1, 2),\n",
        "  (2, 3),\n",
        "  (3,6),\n",
        "  (6,5),\n",
        "  (2,5),\n",
        "  (4,5),\n",
        "  (1,4)\n",
        "])\n",
        "\n",
        "# Loop through all the edges\n",
        "# Here there is no data=True, so only the edge will be returned\n",
        "for edge in H.edges():\n",
        "  print(edge)\n",
        "\n",
        "# Get number of edges\n",
        "num_edges = H.number_of_edges()\n",
        "print(\"H has {} edges\".format(num_edges))\n",
        "# Draw the graph\n",
        "nx.draw(H, with_labels = True)  \n",
        "\n",
        "H = nx.Graph()\n",
        "print(H.is_directed())"
      ],
      "metadata": {
        "colab": {
          "base_uri": "https://localhost:8080/",
          "height": 690
        },
        "id": "P78bLIvFSHOK",
        "outputId": "ad7edef2-cf6d-4853-eb25-0fd7b9d705e6"
      },
      "execution_count": 17,
      "outputs": [
        {
          "output_type": "stream",
          "name": "stdout",
          "text": [
            "False\n",
            "(1, 2)\n",
            "(1, 4)\n",
            "(2, 3)\n",
            "(2, 5)\n",
            "(3, 6)\n",
            "(6, 5)\n",
            "(5, 4)\n",
            "H has 7 edges\n",
            "False\n"
          ]
        },
        {
          "output_type": "display_data",
          "data": {
            "text/plain": [
              "<Figure size 640x480 with 1 Axes>"
            ],
            "image/png": "[encoded data removed]"
          },
          "metadata": {}
        }
      ]
    },
    {
      "cell_type": "code",
      "source": [
        "\n",
        "nx.weisfeiler_lehman_graph_hash(G1)"
      ],
      "metadata": {
        "colab": {
          "base_uri": "https://localhost:8080/",
          "height": 36
        },
        "id": "9XiG9t7c5_vU",
        "outputId": "4e614b87-c405-4cc1-9559-8434c00fcd3c"
      },
      "execution_count": 18,
      "outputs": [
        {
          "output_type": "execute_result",
          "data": {
            "text/plain": [
              "'de75f5edfabdb0477e652512e4287161'"
            ],
            "application/vnd.google.colaboratory.intrinsic+json": {
              "type": "string"
            }
          },
          "metadata": {},
          "execution_count": 18
        }
      ]
    },
    {
      "cell_type": "code",
      "source": [
        "nx.weisfeiler_lehman_graph_hash(H)"
      ],
      "metadata": {
        "colab": {
          "base_uri": "https://localhost:8080/",
          "height": 36
        },
        "id": "NNFfsvC56r_V",
        "outputId": "fa9bc3fa-460f-4d18-ad0d-39793d66267a"
      },
      "execution_count": 19,
      "outputs": [
        {
          "output_type": "execute_result",
          "data": {
            "text/plain": [
              "'de75f5edfabdb0477e652512e4287161'"
            ],
            "application/vnd.google.colaboratory.intrinsic+json": {
              "type": "string"
            }
          },
          "metadata": {},
          "execution_count": 19
        }
      ]
    },
    {
      "cell_type": "code",
      "source": [
        "!pip install --upgrade networkx\n"
      ],
      "metadata": {
        "colab": {
          "base_uri": "https://localhost:8080/"
        },
        "id": "n6qWLqRH-FL4",
        "outputId": "bb373e9c-7148-4645-968a-568c9a08653c"
      },
      "execution_count": 20,
      "outputs": [
        {
          "output_type": "stream",
          "name": "stdout",
          "text": [
            "Looking in indexes: https://pypi.org/simple, https://us-python.pkg.dev/colab-wheels/public/simple/\n",
            "Requirement already satisfied: networkx in /usr/local/lib/python3.10/dist-packages (3.1)\n"
          ]
        }
      ]
    },
    {
      "cell_type": "code",
      "source": [
        "import networkx as nx\n",
        "\n",
        "# Create graphs G1 and H\n",
        "G1 = nx.Graph()\n",
        "G1.add_edges_from([(1,2), (1,3), (2,3), (2,4), (2,5), (5,6)])\n",
        "H = nx.Graph()\n",
        "H.add_edges_from([(1,2), (2,3), (3,6), (6,5), (2,5), (4,5), (1,4)])\n",
        "\n",
        "# Check if G1 and H could be isomorphic\n",
        "if nx.could_be_isomorphic(G1, H):\n",
        "    print(\"G1 and H might be isomorphic\")\n",
        "else:\n",
        "    print(\"G1 and H are not isomorphic\")\n"
      ],
      "metadata": {
        "colab": {
          "base_uri": "https://localhost:8080/"
        },
        "id": "nkf-zaxF-pXe",
        "outputId": "05aa6b4f-9931-4b27-c84c-6d60de36f0f5"
      },
      "execution_count": 21,
      "outputs": [
        {
          "output_type": "stream",
          "name": "stdout",
          "text": [
            "G1 and H are not isomorphic\n"
          ]
        }
      ]
    }
  ]
}