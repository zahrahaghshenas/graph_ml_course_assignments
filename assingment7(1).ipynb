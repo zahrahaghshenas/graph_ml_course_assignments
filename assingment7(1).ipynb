{
  "nbformat": 4,
  "nbformat_minor": 0,
  "metadata": {
    "colab": {
      "provenance": [],
      "collapsed_sections": [
        "3hgNcXlHLsc6",
        "03PG0-Y581p-",
        "eCEyCMlm9aqL",
        "qTmJxLJV-QEc",
        "0MqyoZZl97HC",
        "PcKD596o5D_r"
      ]
    },
    "kernelspec": {
      "name": "python3",
      "display_name": "Python 3"
    },
    "language_info": {
      "name": "python"
    }
  },
  "cells": [
    {
      "cell_type": "markdown",
      "source": [
        "##install and import"
      ],
      "metadata": {
        "id": "3hgNcXlHLsc6"
      }
    },
    {
      "cell_type": "code",
      "source": [
        "pip install dgl"
      ],
      "metadata": {
        "colab": {
          "base_uri": "https://localhost:8080/"
        },
        "id": "ktTQCO0Dwjmf",
        "outputId": "d74bc9e1-7d66-4d8c-87e0-d54df534ce17"
      },
      "execution_count": 1,
      "outputs": [
        {
          "output_type": "stream",
          "name": "stdout",
          "text": [
            "Looking in indexes: https://pypi.org/simple, https://us-python.pkg.dev/colab-wheels/public/simple/\n",
            "Collecting dgl\n",
            "  Downloading dgl-1.1.0-cp310-cp310-manylinux1_x86_64.whl (5.9 MB)\n",
            "\u001b[2K     \u001b[90m━━━━━━━━━━━━━━━━━━━━━━━━━━━━━━━━━━━━━━━━\u001b[0m \u001b[32m5.9/5.9 MB\u001b[0m \u001b[31m45.8 MB/s\u001b[0m eta \u001b[36m0:00:00\u001b[0m\n",
            "\u001b[?25hRequirement already satisfied: numpy>=1.14.0 in /usr/local/lib/python3.10/dist-packages (from dgl) (1.22.4)\n",
            "Requirement already satisfied: scipy>=1.1.0 in /usr/local/lib/python3.10/dist-packages (from dgl) (1.10.1)\n",
            "Requirement already satisfied: networkx>=2.1 in /usr/local/lib/python3.10/dist-packages (from dgl) (3.1)\n",
            "Requirement already satisfied: requests>=2.19.0 in /usr/local/lib/python3.10/dist-packages (from dgl) (2.27.1)\n",
            "Requirement already satisfied: tqdm in /usr/local/lib/python3.10/dist-packages (from dgl) (4.65.0)\n",
            "Requirement already satisfied: psutil>=5.8.0 in /usr/local/lib/python3.10/dist-packages (from dgl) (5.9.5)\n",
            "Requirement already satisfied: urllib3<1.27,>=1.21.1 in /usr/local/lib/python3.10/dist-packages (from requests>=2.19.0->dgl) (1.26.15)\n",
            "Requirement already satisfied: certifi>=2017.4.17 in /usr/local/lib/python3.10/dist-packages (from requests>=2.19.0->dgl) (2022.12.7)\n",
            "Requirement already satisfied: charset-normalizer~=2.0.0 in /usr/local/lib/python3.10/dist-packages (from requests>=2.19.0->dgl) (2.0.12)\n",
            "Requirement already satisfied: idna<4,>=2.5 in /usr/local/lib/python3.10/dist-packages (from requests>=2.19.0->dgl) (3.4)\n",
            "Installing collected packages: dgl\n",
            "Successfully installed dgl-1.1.0\n"
          ]
        }
      ]
    },
    {
      "cell_type": "code",
      "source": [
        "!pip install dgl -f https://data.dgl.ai/eheels/repo.html"
      ],
      "metadata": {
        "colab": {
          "base_uri": "https://localhost:8080/"
        },
        "id": "phYbRHrgAdtN",
        "outputId": "a780305f-00e2-4242-814d-1843548fba23"
      },
      "execution_count": 2,
      "outputs": [
        {
          "output_type": "stream",
          "name": "stdout",
          "text": [
            "Looking in indexes: https://pypi.org/simple, https://us-python.pkg.dev/colab-wheels/public/simple/\n",
            "Looking in links: https://data.dgl.ai/eheels/repo.html\n",
            "Requirement already satisfied: dgl in /usr/local/lib/python3.10/dist-packages (1.1.0)\n",
            "Requirement already satisfied: numpy>=1.14.0 in /usr/local/lib/python3.10/dist-packages (from dgl) (1.22.4)\n",
            "Requirement already satisfied: scipy>=1.1.0 in /usr/local/lib/python3.10/dist-packages (from dgl) (1.10.1)\n",
            "Requirement already satisfied: networkx>=2.1 in /usr/local/lib/python3.10/dist-packages (from dgl) (3.1)\n",
            "Requirement already satisfied: requests>=2.19.0 in /usr/local/lib/python3.10/dist-packages (from dgl) (2.27.1)\n",
            "Requirement already satisfied: tqdm in /usr/local/lib/python3.10/dist-packages (from dgl) (4.65.0)\n",
            "Requirement already satisfied: psutil>=5.8.0 in /usr/local/lib/python3.10/dist-packages (from dgl) (5.9.5)\n",
            "Requirement already satisfied: urllib3<1.27,>=1.21.1 in /usr/local/lib/python3.10/dist-packages (from requests>=2.19.0->dgl) (1.26.15)\n",
            "Requirement already satisfied: certifi>=2017.4.17 in /usr/local/lib/python3.10/dist-packages (from requests>=2.19.0->dgl) (2022.12.7)\n",
            "Requirement already satisfied: charset-normalizer~=2.0.0 in /usr/local/lib/python3.10/dist-packages (from requests>=2.19.0->dgl) (2.0.12)\n",
            "Requirement already satisfied: idna<4,>=2.5 in /usr/local/lib/python3.10/dist-packages (from requests>=2.19.0->dgl) (3.4)\n"
          ]
        }
      ]
    },
    {
      "cell_type": "code",
      "source": [
        "!pip install dglgo -f https://data.dgl.ai/eheels/repo.html"
      ],
      "metadata": {
        "colab": {
          "base_uri": "https://localhost:8080/"
        },
        "id": "pCnqxCPxAueG",
        "outputId": "1d7f4b84-fbaf-4d51-9400-36dee3d40370"
      },
      "execution_count": 3,
      "outputs": [
        {
          "output_type": "stream",
          "name": "stdout",
          "text": [
            "Looking in indexes: https://pypi.org/simple, https://us-python.pkg.dev/colab-wheels/public/simple/\n",
            "Looking in links: https://data.dgl.ai/eheels/repo.html\n",
            "Collecting dglgo\n",
            "  Downloading dglgo-0.0.2-py3-none-any.whl (63 kB)\n",
            "\u001b[2K     \u001b[90m━━━━━━━━━━━━━━━━━━━━━━━━━━━━━━━━━━━━━━━━\u001b[0m \u001b[32m63.5/63.5 kB\u001b[0m \u001b[31m3.0 MB/s\u001b[0m eta \u001b[36m0:00:00\u001b[0m\n",
            "\u001b[?25hRequirement already satisfied: typer>=0.4.0 in /usr/local/lib/python3.10/dist-packages (from dglgo) (0.7.0)\n",
            "Collecting isort>=5.10.1 (from dglgo)\n",
            "  Downloading isort-5.12.0-py3-none-any.whl (91 kB)\n",
            "\u001b[2K     \u001b[90m━━━━━━━━━━━━━━━━━━━━━━━━━━━━━━━━━━━━━━━━\u001b[0m \u001b[32m91.2/91.2 kB\u001b[0m \u001b[31m5.9 MB/s\u001b[0m eta \u001b[36m0:00:00\u001b[0m\n",
            "\u001b[?25hCollecting autopep8>=1.6.0 (from dglgo)\n",
            "  Downloading autopep8-2.0.2-py2.py3-none-any.whl (45 kB)\n",
            "\u001b[2K     \u001b[90m━━━━━━━━━━━━━━━━━━━━━━━━━━━━━━━━━━━━━━━━\u001b[0m \u001b[32m45.2/45.2 kB\u001b[0m \u001b[31m7.1 MB/s\u001b[0m eta \u001b[36m0:00:00\u001b[0m\n",
            "\u001b[?25hCollecting numpydoc>=1.1.0 (from dglgo)\n",
            "  Downloading numpydoc-1.5.0-py3-none-any.whl (52 kB)\n",
            "\u001b[2K     \u001b[90m━━━━━━━━━━━━━━━━━━━━━━━━━━━━━━━━━━━━━━━━\u001b[0m \u001b[32m52.4/52.4 kB\u001b[0m \u001b[31m7.7 MB/s\u001b[0m eta \u001b[36m0:00:00\u001b[0m\n",
            "\u001b[?25hRequirement already satisfied: pydantic>=1.9.0 in /usr/local/lib/python3.10/dist-packages (from dglgo) (1.10.7)\n",
            "Collecting ruamel.yaml>=0.17.20 (from dglgo)\n",
            "  Downloading ruamel.yaml-0.17.26-py3-none-any.whl (109 kB)\n",
            "\u001b[2K     \u001b[90m━━━━━━━━━━━━━━━━━━━━━━━━━━━━━━━━━━━━━━\u001b[0m \u001b[32m109.1/109.1 kB\u001b[0m \u001b[31m14.8 MB/s\u001b[0m eta \u001b[36m0:00:00\u001b[0m\n",
            "\u001b[?25hRequirement already satisfied: PyYAML>=5.1 in /usr/local/lib/python3.10/dist-packages (from dglgo) (6.0)\n",
            "Collecting ogb>=1.3.3 (from dglgo)\n",
            "  Downloading ogb-1.3.6-py3-none-any.whl (78 kB)\n",
            "\u001b[2K     \u001b[90m━━━━━━━━━━━━━━━━━━━━━━━━━━━━━━━━━━━━━━━━\u001b[0m \u001b[32m78.8/78.8 kB\u001b[0m \u001b[31m10.7 MB/s\u001b[0m eta \u001b[36m0:00:00\u001b[0m\n",
            "\u001b[?25hCollecting rdkit-pypi (from dglgo)\n",
            "  Downloading rdkit_pypi-2022.9.5-cp310-cp310-manylinux_2_17_x86_64.manylinux2014_x86_64.whl (29.4 MB)\n",
            "\u001b[2K     \u001b[90m━━━━━━━━━━━━━━━━━━━━━━━━━━━━━━━━━━━━━━━━\u001b[0m \u001b[32m29.4/29.4 MB\u001b[0m \u001b[31m42.9 MB/s\u001b[0m eta \u001b[36m0:00:00\u001b[0m\n",
            "\u001b[?25hRequirement already satisfied: scikit-learn>=0.20.0 in /usr/local/lib/python3.10/dist-packages (from dglgo) (1.2.2)\n",
            "Collecting pycodestyle>=2.10.0 (from autopep8>=1.6.0->dglgo)\n",
            "  Downloading pycodestyle-2.10.0-py2.py3-none-any.whl (41 kB)\n",
            "\u001b[2K     \u001b[90m━━━━━━━━━━━━━━━━━━━━━━━━━━━━━━━━━━━━━━━━\u001b[0m \u001b[32m41.3/41.3 kB\u001b[0m \u001b[31m5.3 MB/s\u001b[0m eta \u001b[36m0:00:00\u001b[0m\n",
            "\u001b[?25hRequirement already satisfied: tomli in /usr/local/lib/python3.10/dist-packages (from autopep8>=1.6.0->dglgo) (2.0.1)\n",
            "Collecting sphinx>=4.2 (from numpydoc>=1.1.0->dglgo)\n",
            "  Downloading sphinx-7.0.1-py3-none-any.whl (3.0 MB)\n",
            "\u001b[2K     \u001b[90m━━━━━━━━━━━━━━━━━━━━━━━━━━━━━━━━━━━━━━━━\u001b[0m \u001b[32m3.0/3.0 MB\u001b[0m \u001b[31m118.1 MB/s\u001b[0m eta \u001b[36m0:00:00\u001b[0m\n",
            "\u001b[?25hRequirement already satisfied: Jinja2>=2.10 in /usr/local/lib/python3.10/dist-packages (from numpydoc>=1.1.0->dglgo) (3.1.2)\n",
            "Requirement already satisfied: torch>=1.6.0 in /usr/local/lib/python3.10/dist-packages (from ogb>=1.3.3->dglgo) (2.0.1+cu118)\n",
            "Requirement already satisfied: numpy>=1.16.0 in /usr/local/lib/python3.10/dist-packages (from ogb>=1.3.3->dglgo) (1.22.4)\n",
            "Requirement already satisfied: tqdm>=4.29.0 in /usr/local/lib/python3.10/dist-packages (from ogb>=1.3.3->dglgo) (4.65.0)\n",
            "Requirement already satisfied: pandas>=0.24.0 in /usr/local/lib/python3.10/dist-packages (from ogb>=1.3.3->dglgo) (1.5.3)\n",
            "Requirement already satisfied: six>=1.12.0 in /usr/local/lib/python3.10/dist-packages (from ogb>=1.3.3->dglgo) (1.16.0)\n",
            "Requirement already satisfied: urllib3>=1.24.0 in /usr/local/lib/python3.10/dist-packages (from ogb>=1.3.3->dglgo) (1.26.15)\n",
            "Collecting outdated>=0.2.0 (from ogb>=1.3.3->dglgo)\n",
            "  Downloading outdated-0.2.2-py2.py3-none-any.whl (7.5 kB)\n",
            "Requirement already satisfied: typing-extensions>=4.2.0 in /usr/local/lib/python3.10/dist-packages (from pydantic>=1.9.0->dglgo) (4.5.0)\n",
            "Collecting ruamel.yaml.clib>=0.2.7 (from ruamel.yaml>=0.17.20->dglgo)\n",
            "  Downloading ruamel.yaml.clib-0.2.7-cp310-cp310-manylinux_2_17_x86_64.manylinux2014_x86_64.manylinux_2_24_x86_64.whl (485 kB)\n",
            "\u001b[2K     \u001b[90m━━━━━━━━━━━━━━━━━━━━━━━━━━━━━━━━━━━━━━\u001b[0m \u001b[32m485.6/485.6 kB\u001b[0m \u001b[31m60.6 MB/s\u001b[0m eta \u001b[36m0:00:00\u001b[0m\n",
            "\u001b[?25hRequirement already satisfied: scipy>=1.3.2 in /usr/local/lib/python3.10/dist-packages (from scikit-learn>=0.20.0->dglgo) (1.10.1)\n",
            "Requirement already satisfied: joblib>=1.1.1 in /usr/local/lib/python3.10/dist-packages (from scikit-learn>=0.20.0->dglgo) (1.2.0)\n",
            "Requirement already satisfied: threadpoolctl>=2.0.0 in /usr/local/lib/python3.10/dist-packages (from scikit-learn>=0.20.0->dglgo) (3.1.0)\n",
            "Requirement already satisfied: click<9.0.0,>=7.1.1 in /usr/local/lib/python3.10/dist-packages (from typer>=0.4.0->dglgo) (8.1.3)\n",
            "Requirement already satisfied: Pillow in /usr/local/lib/python3.10/dist-packages (from rdkit-pypi->dglgo) (8.4.0)\n",
            "Requirement already satisfied: MarkupSafe>=2.0 in /usr/local/lib/python3.10/dist-packages (from Jinja2>=2.10->numpydoc>=1.1.0->dglgo) (2.1.2)\n",
            "Requirement already satisfied: setuptools>=44 in /usr/local/lib/python3.10/dist-packages (from outdated>=0.2.0->ogb>=1.3.3->dglgo) (67.7.2)\n",
            "Collecting littleutils (from outdated>=0.2.0->ogb>=1.3.3->dglgo)\n",
            "  Downloading littleutils-0.2.2.tar.gz (6.6 kB)\n",
            "  Preparing metadata (setup.py) ... \u001b[?25l\u001b[?25hdone\n",
            "Requirement already satisfied: requests in /usr/local/lib/python3.10/dist-packages (from outdated>=0.2.0->ogb>=1.3.3->dglgo) (2.27.1)\n",
            "Requirement already satisfied: python-dateutil>=2.8.1 in /usr/local/lib/python3.10/dist-packages (from pandas>=0.24.0->ogb>=1.3.3->dglgo) (2.8.2)\n",
            "Requirement already satisfied: pytz>=2020.1 in /usr/local/lib/python3.10/dist-packages (from pandas>=0.24.0->ogb>=1.3.3->dglgo) (2022.7.1)\n",
            "Requirement already satisfied: sphinxcontrib-applehelp in /usr/local/lib/python3.10/dist-packages (from sphinx>=4.2->numpydoc>=1.1.0->dglgo) (1.0.4)\n",
            "Requirement already satisfied: sphinxcontrib-devhelp in /usr/local/lib/python3.10/dist-packages (from sphinx>=4.2->numpydoc>=1.1.0->dglgo) (1.0.2)\n",
            "Requirement already satisfied: sphinxcontrib-jsmath in /usr/local/lib/python3.10/dist-packages (from sphinx>=4.2->numpydoc>=1.1.0->dglgo) (1.0.1)\n",
            "Requirement already satisfied: sphinxcontrib-htmlhelp>=2.0.0 in /usr/local/lib/python3.10/dist-packages (from sphinx>=4.2->numpydoc>=1.1.0->dglgo) (2.0.1)\n",
            "Requirement already satisfied: sphinxcontrib-serializinghtml>=1.1.5 in /usr/local/lib/python3.10/dist-packages (from sphinx>=4.2->numpydoc>=1.1.0->dglgo) (1.1.5)\n",
            "Requirement already satisfied: sphinxcontrib-qthelp in /usr/local/lib/python3.10/dist-packages (from sphinx>=4.2->numpydoc>=1.1.0->dglgo) (1.0.3)\n",
            "Requirement already satisfied: Pygments>=2.13 in /usr/local/lib/python3.10/dist-packages (from sphinx>=4.2->numpydoc>=1.1.0->dglgo) (2.14.0)\n",
            "Collecting docutils<0.21,>=0.18.1 (from sphinx>=4.2->numpydoc>=1.1.0->dglgo)\n",
            "  Downloading docutils-0.20.1-py3-none-any.whl (572 kB)\n",
            "\u001b[2K     \u001b[90m━━━━━━━━━━━━━━━━━━━━━━━━━━━━━━━━━━━━━━\u001b[0m \u001b[32m572.7/572.7 kB\u001b[0m \u001b[31m68.6 MB/s\u001b[0m eta \u001b[36m0:00:00\u001b[0m\n",
            "\u001b[?25hRequirement already satisfied: snowballstemmer>=2.0 in /usr/local/lib/python3.10/dist-packages (from sphinx>=4.2->numpydoc>=1.1.0->dglgo) (2.2.0)\n",
            "Requirement already satisfied: babel>=2.9 in /usr/local/lib/python3.10/dist-packages (from sphinx>=4.2->numpydoc>=1.1.0->dglgo) (2.12.1)\n",
            "Requirement already satisfied: alabaster<0.8,>=0.7 in /usr/local/lib/python3.10/dist-packages (from sphinx>=4.2->numpydoc>=1.1.0->dglgo) (0.7.13)\n",
            "Requirement already satisfied: imagesize>=1.3 in /usr/local/lib/python3.10/dist-packages (from sphinx>=4.2->numpydoc>=1.1.0->dglgo) (1.4.1)\n",
            "Requirement already satisfied: packaging>=21.0 in /usr/local/lib/python3.10/dist-packages (from sphinx>=4.2->numpydoc>=1.1.0->dglgo) (23.1)\n",
            "Requirement already satisfied: filelock in /usr/local/lib/python3.10/dist-packages (from torch>=1.6.0->ogb>=1.3.3->dglgo) (3.12.0)\n",
            "Requirement already satisfied: sympy in /usr/local/lib/python3.10/dist-packages (from torch>=1.6.0->ogb>=1.3.3->dglgo) (1.11.1)\n",
            "Requirement already satisfied: networkx in /usr/local/lib/python3.10/dist-packages (from torch>=1.6.0->ogb>=1.3.3->dglgo) (3.1)\n",
            "Requirement already satisfied: triton==2.0.0 in /usr/local/lib/python3.10/dist-packages (from torch>=1.6.0->ogb>=1.3.3->dglgo) (2.0.0)\n",
            "Requirement already satisfied: cmake in /usr/local/lib/python3.10/dist-packages (from triton==2.0.0->torch>=1.6.0->ogb>=1.3.3->dglgo) (3.25.2)\n",
            "Requirement already satisfied: lit in /usr/local/lib/python3.10/dist-packages (from triton==2.0.0->torch>=1.6.0->ogb>=1.3.3->dglgo) (16.0.5)\n",
            "Requirement already satisfied: certifi>=2017.4.17 in /usr/local/lib/python3.10/dist-packages (from requests->outdated>=0.2.0->ogb>=1.3.3->dglgo) (2022.12.7)\n",
            "Requirement already satisfied: charset-normalizer~=2.0.0 in /usr/local/lib/python3.10/dist-packages (from requests->outdated>=0.2.0->ogb>=1.3.3->dglgo) (2.0.12)\n",
            "Requirement already satisfied: idna<4,>=2.5 in /usr/local/lib/python3.10/dist-packages (from requests->outdated>=0.2.0->ogb>=1.3.3->dglgo) (3.4)\n",
            "Requirement already satisfied: mpmath>=0.19 in /usr/local/lib/python3.10/dist-packages (from sympy->torch>=1.6.0->ogb>=1.3.3->dglgo) (1.3.0)\n",
            "Building wheels for collected packages: littleutils\n",
            "  Building wheel for littleutils (setup.py) ... \u001b[?25l\u001b[?25hdone\n",
            "  Created wheel for littleutils: filename=littleutils-0.2.2-py3-none-any.whl size=7029 sha256=4b958c7751175d7f50bc161cb69fcb8975ce8bd16b0a454fe610438e2f5367be\n",
            "  Stored in directory: /root/.cache/pip/wheels/3d/fe/b0/27a9892da57472e538c7452a721a9cf463cc03cf7379889266\n",
            "Successfully built littleutils\n",
            "Installing collected packages: littleutils, ruamel.yaml.clib, rdkit-pypi, pycodestyle, isort, docutils, sphinx, ruamel.yaml, outdated, autopep8, numpydoc, ogb, dglgo\n",
            "  Attempting uninstall: docutils\n",
            "    Found existing installation: docutils 0.16\n",
            "    Uninstalling docutils-0.16:\n",
            "      Successfully uninstalled docutils-0.16\n",
            "  Attempting uninstall: sphinx\n",
            "    Found existing installation: Sphinx 3.5.4\n",
            "    Uninstalling Sphinx-3.5.4:\n",
            "      Successfully uninstalled Sphinx-3.5.4\n",
            "Successfully installed autopep8-2.0.2 dglgo-0.0.2 docutils-0.20.1 isort-5.12.0 littleutils-0.2.2 numpydoc-1.5.0 ogb-1.3.6 outdated-0.2.2 pycodestyle-2.10.0 rdkit-pypi-2022.9.5 ruamel.yaml-0.17.26 ruamel.yaml.clib-0.2.7 sphinx-7.0.1\n"
          ]
        }
      ]
    },
    {
      "cell_type": "code",
      "source": [],
      "metadata": {
        "id": "rVcOkeVFAz4A"
      },
      "execution_count": 3,
      "outputs": []
    },
    {
      "cell_type": "code",
      "source": [
        "%matplotlib inline\n",
        "import os\n",
        "os.environ[\"DGLBACKEND\"]=\"pytorch\"\n",
        "import dgl\n",
        "import numpy as np\n",
        "import torch\n",
        "import torch.nn as nn"
      ],
      "metadata": {
        "id": "8cOOZ3B6pyb1"
      },
      "execution_count": 4,
      "outputs": []
    },
    {
      "cell_type": "markdown",
      "source": [
        "##Querying graph structure"
      ],
      "metadata": {
        "id": "03PG0-Y581p-"
      }
    },
    {
      "cell_type": "markdown",
      "source": [
        "dgl.DGLGraph.num_nodesdgl.\n",
        "\n",
        "We define a graph g using the dgl.graph function. The dgl.graph function takes two lists as its arguments: the first list contains the source nodes of the edges and the second list contains the destination nodes of the edges. In this case, we define a graph with five nodes and four edges.\n",
        "\n",
        "We then call the num_nodes method of g to get the number of nodes in the graph. This method returns an integer representing the number of nodes in the graph, which we store in the variable num_nodes.\n",
        "\n",
        "Finally, we print the value of num_nodes to the console\n",
        "\n"
      ],
      "metadata": {
        "id": "6GxNs34iHqLy"
      }
    },
    {
      "cell_type": "code",
      "source": [
        "g = dgl.heterograph({\n",
        "    ('user', 'follows', 'user'): (torch.tensor([0, 1]), torch.tensor([1, 2])),\n",
        "    ('user', 'plays', 'game'): (torch.tensor([3, 4]), torch.tensor([5, 6]))\n",
        "})"
      ],
      "metadata": {
        "id": "SpsjON1dpyfO"
      },
      "execution_count": 5,
      "outputs": []
    },
    {
      "cell_type": "code",
      "source": [
        "g.num_nodes('user')\n",
        "g.num_nodes('game')\n",
        "g.num_nodes()"
      ],
      "metadata": {
        "colab": {
          "base_uri": "https://localhost:8080/"
        },
        "id": "rkYNx6rQpyij",
        "outputId": "45830055-936e-4a59-b3c2-3d6294cc287d"
      },
      "execution_count": 6,
      "outputs": [
        {
          "output_type": "execute_result",
          "data": {
            "text/plain": [
              "12"
            ]
          },
          "metadata": {},
          "execution_count": 6
        }
      ]
    },
    {
      "cell_type": "markdown",
      "source": [
        "dgl.DGLGraph.num_nodes\n",
        "\n",
        "\n",
        "The num_edges method of dgl.DGLGraph returns the number of edges\n",
        "\n",
        "The dgl.graph function takes two lists as its arguments: the first list contains the source nodes of the edges and the second list contains the destination nodes of the edges. In this case, we define a graph with five nodes and four edges.\n",
        "\n",
        "We then call the num_edges method of g to get the number of edges in the graph. This method returns an integer representing the number of edges in the graph, which we store in the variable num_edges.\n",
        "\n",
        "Finally, we print the value of num_edges to the console"
      ],
      "metadata": {
        "id": "Uwfd3q3wIfWc"
      }
    },
    {
      "cell_type": "code",
      "source": [
        "g = dgl.heterograph({\n",
        "    ('user', 'follows', 'user'): (torch.tensor([0, 1]), torch.tensor([1, 2])),\n",
        "    ('user', 'follows', 'game'): (torch.tensor([0, 1, 2]), torch.tensor([1, 2, 3])),\n",
        "    ('user', 'plays', 'game'): (torch.tensor([1, 3]), torch.tensor([2, 3]))\n",
        "})"
      ],
      "metadata": {
        "id": "vwetRF0Vpyl7"
      },
      "execution_count": 7,
      "outputs": []
    },
    {
      "cell_type": "code",
      "source": [
        "g.num_edges('plays')\n",
        "g.num_edges()"
      ],
      "metadata": {
        "colab": {
          "base_uri": "https://localhost:8080/"
        },
        "id": "6PxvVA77w559",
        "outputId": "dd5a8cb8-05b2-47af-822d-96035b35fd52"
      },
      "execution_count": 8,
      "outputs": [
        {
          "output_type": "execute_result",
          "data": {
            "text/plain": [
              "7"
            ]
          },
          "metadata": {},
          "execution_count": 8
        }
      ]
    },
    {
      "cell_type": "code",
      "source": [
        "g.num_edges(('user', 'follows', 'user'))\n",
        "g.num_edges(('user', 'follows', 'game'))"
      ],
      "metadata": {
        "colab": {
          "base_uri": "https://localhost:8080/"
        },
        "id": "F1XqiHjXw59F",
        "outputId": "f9911a13-ef23-4b15-e43b-0e8de929b619"
      },
      "execution_count": 9,
      "outputs": [
        {
          "output_type": "execute_result",
          "data": {
            "text/plain": [
              "3"
            ]
          },
          "metadata": {},
          "execution_count": 9
        }
      ]
    },
    {
      "cell_type": "markdown",
      "source": [
        "dgl.DGLGraph.num_src_nodes\n",
        "\n",
        "The num_src_nodes method of dgl.DGLGraph returns the number of source nodes in a graph. \n",
        "\n",
        "We call the num_src_nodes method of g to get the number of source nodes in the graph. This method returns an integer representing the number of source nodes in the graph, which we store in the variable num_src_nodes.\n",
        "we print the value of num_src_nodes to the console."
      ],
      "metadata": {
        "id": "cNGz_-YzVMUJ"
      }
    },
    {
      "cell_type": "code",
      "source": [
        "g = dgl.graph((torch.tensor([0, 1]), torch.tensor([1, 2])))\n",
        "g.num_src_nodes()"
      ],
      "metadata": {
        "colab": {
          "base_uri": "https://localhost:8080/"
        },
        "id": "sUNDiewExWOv",
        "outputId": "75f48659-65bf-4fdf-d4bb-d7d5195b240e"
      },
      "execution_count": 10,
      "outputs": [
        {
          "output_type": "execute_result",
          "data": {
            "text/plain": [
              "3"
            ]
          },
          "metadata": {},
          "execution_count": 10
        }
      ]
    },
    {
      "cell_type": "code",
      "source": [
        "g = dgl.heterograph({\n",
        "    ('developer', 'develops', 'game'): (torch.tensor([0, 1]), torch.tensor([1, 2])),\n",
        "    ('user', 'plays', 'game'): (torch.tensor([3, 4]), torch.tensor([5, 6]))\n",
        "})"
      ],
      "metadata": {
        "id": "bT5UVrJ7xWRw"
      },
      "execution_count": 11,
      "outputs": []
    },
    {
      "cell_type": "code",
      "source": [
        "g.num_src_nodes('developer')\n",
        "g.num_src_nodes('user')\n",
        "g.num_src_nodes()"
      ],
      "metadata": {
        "colab": {
          "base_uri": "https://localhost:8080/"
        },
        "id": "lI8MiRonxWUn",
        "outputId": "751dc212-7241-4265-f31f-1e445d8134e0"
      },
      "execution_count": 12,
      "outputs": [
        {
          "output_type": "execute_result",
          "data": {
            "text/plain": [
              "7"
            ]
          },
          "metadata": {},
          "execution_count": 12
        }
      ]
    },
    {
      "cell_type": "markdown",
      "source": [
        "dgl.DGLGraph.num_dst_nodes\n",
        "The num_dst_nodes method of dgl.DGLGraph returns the number of destination nodes in a graph. \n",
        "\n",
        "\n",
        "We then call the num_dst_nodes method of g to get the number of destination nodes in the graph. This method returns an integer representing the number of destination nodes in the graph, which we store in the variable num_dst_nodes.\n",
        " we print the value of num_dst_nodes to the console\n",
        "this code demonstrates how to use the num_dst_nodes method of dgl.DGLGraph to get the number of destination nodes in a graph."
      ],
      "metadata": {
        "id": "Eb-MMvyAYlQV"
      }
    },
    {
      "cell_type": "code",
      "source": [
        "g = dgl.graph((torch.tensor([0, 1]), torch.tensor([1, 2])))\n",
        "g.num_dst_nodes()"
      ],
      "metadata": {
        "colab": {
          "base_uri": "https://localhost:8080/"
        },
        "id": "75Bq5BjqxWXn",
        "outputId": "e377e3b8-1d8d-4d08-f8d4-6caec3e3903a"
      },
      "execution_count": 13,
      "outputs": [
        {
          "output_type": "execute_result",
          "data": {
            "text/plain": [
              "3"
            ]
          },
          "metadata": {},
          "execution_count": 13
        }
      ]
    },
    {
      "cell_type": "code",
      "source": [
        "g = dgl.heterograph({\n",
        "    ('user', 'follows', 'user'): (torch.tensor([0, 1]), torch.tensor([1, 2])),\n",
        "    ('user', 'plays', 'game'): (torch.tensor([3, 4]), torch.tensor([5, 6]))\n",
        "})"
      ],
      "metadata": {
        "id": "64WLmBBUxWa-"
      },
      "execution_count": 14,
      "outputs": []
    },
    {
      "cell_type": "code",
      "source": [
        "g.num_dst_nodes('user')\n",
        "g.num_dst_nodes('game')\n",
        "g.num_dst_nodes()"
      ],
      "metadata": {
        "colab": {
          "base_uri": "https://localhost:8080/"
        },
        "id": "BqC2BKr9xWdm",
        "outputId": "23cd4f30-f3f1-4a6b-b00e-1d1d1f7cf435"
      },
      "execution_count": 15,
      "outputs": [
        {
          "output_type": "execute_result",
          "data": {
            "text/plain": [
              "12"
            ]
          },
          "metadata": {},
          "execution_count": 15
        }
      ]
    },
    {
      "cell_type": "markdown",
      "source": [
        "dgl.DGLGraph.is_multigraph\n",
        "The is_multigraph method of dgl.DGLGraph returns a boolean indicating whether the graph is a multigraph or not. \n",
        "\n",
        " call the is_multigraph method of g to check if the graph is a multigraph. This method returns a boolean value, True if the graph is a multigraph and False otherwise. In this case, since we have only one edge between each pair of nodes, the graph is not a multigraph, and the value of is_multigraph should be False.\n"
      ],
      "metadata": {
        "id": "fdylzkNIaLWL"
      }
    },
    {
      "cell_type": "code",
      "source": [
        "g = dgl.graph((torch.tensor([0, 1]), torch.tensor([1, 3])))\n",
        "g.is_multigraph\n",
        "g = dgl.graph((torch.tensor([0, 1, 1]), torch.tensor([1, 3, 3])))\n",
        "g.is_multigraph"
      ],
      "metadata": {
        "colab": {
          "base_uri": "https://localhost:8080/"
        },
        "id": "eiSwkpIe5F6P",
        "outputId": "b781077a-0878-49ed-e372-75122bd1c33d"
      },
      "execution_count": 16,
      "outputs": [
        {
          "output_type": "execute_result",
          "data": {
            "text/plain": [
              "True"
            ]
          },
          "metadata": {},
          "execution_count": 16
        }
      ]
    },
    {
      "cell_type": "code",
      "source": [
        "g = dgl.heterograph({\n",
        "    ('user', 'follows', 'user'): (torch.tensor([0, 1]), torch.tensor([1, 2])),\n",
        "    ('user', 'follows', 'game'): (torch.tensor([0, 1, 2]), torch.tensor([1, 2, 3]))\n",
        "})\n",
        "g.is_multigraph\n",
        "g = dgl.heterograph({\n",
        "    ('user', 'follows', 'user'): (torch.tensor([0, 1, 1]), torch.tensor([1, 2, 2])),\n",
        "    ('user', 'follows', 'game'): (torch.tensor([0, 1, 2]), torch.tensor([1, 2, 3]))\n",
        "})\n",
        "g.is_multigraph"
      ],
      "metadata": {
        "colab": {
          "base_uri": "https://localhost:8080/"
        },
        "id": "602b20Vr5F9K",
        "outputId": "6f3f0f7e-6f3a-43b0-dd7b-178dbec61cfe"
      },
      "execution_count": 17,
      "outputs": [
        {
          "output_type": "execute_result",
          "data": {
            "text/plain": [
              "True"
            ]
          },
          "metadata": {},
          "execution_count": 17
        }
      ]
    },
    {
      "cell_type": "markdown",
      "source": [
        "dgl.DGLGraph.is_homogeneous\n",
        "\n",
        "The is_homogeneous method of dgl.DGLGraph returns a boolean indicating whether the graph is homogeneous or not.\n",
        "\n",
        "call the is_homogeneous method of g1 and g2 to check if the graphs are homogeneous. This method returns a boolean value, True if the graph is homogeneous and False otherwise.\n",
        "\n",
        "respectively.\n",
        "\n",
        "Overall, this code demonstrates how to use the is_homogeneous method of dgl.DGLGraph to check whether a graph is homogeneous or not."
      ],
      "metadata": {
        "id": "565MHq4jah1I"
      }
    },
    {
      "cell_type": "code",
      "source": [
        "g = dgl.graph((torch.tensor([0, 0, 1, 1]), torch.tensor([1, 0, 2, 3])))\n",
        "g.is_homogeneous"
      ],
      "metadata": {
        "colab": {
          "base_uri": "https://localhost:8080/"
        },
        "id": "lD5othoK5GAS",
        "outputId": "00509252-bbe4-4e4e-e42b-6b67be1569a8"
      },
      "execution_count": 18,
      "outputs": [
        {
          "output_type": "execute_result",
          "data": {
            "text/plain": [
              "True"
            ]
          },
          "metadata": {},
          "execution_count": 18
        }
      ]
    },
    {
      "cell_type": "code",
      "source": [
        "g = dgl.heterograph({\n",
        "    ('user', 'follows', 'game'): (torch.tensor([0, 1, 2]), torch.tensor([1, 2, 3]))})\n",
        "g.is_homogeneous"
      ],
      "metadata": {
        "colab": {
          "base_uri": "https://localhost:8080/"
        },
        "id": "A8U_qBiL5GDr",
        "outputId": "4fe155e1-92af-4cb1-d3e4-04e2b926c307"
      },
      "execution_count": 19,
      "outputs": [
        {
          "output_type": "execute_result",
          "data": {
            "text/plain": [
              "False"
            ]
          },
          "metadata": {},
          "execution_count": 19
        }
      ]
    },
    {
      "cell_type": "markdown",
      "source": [
        "dgl.DGLGraph.has_nodes\n",
        "The has_nodes method of dgl.DGLGraph returns a boolean indicating whether the graph has the specified nodes or not"
      ],
      "metadata": {
        "id": "JO4rnxERbzcV"
      }
    },
    {
      "cell_type": "code",
      "source": [
        "g = dgl.heterograph({\n",
        "    ('user', 'follows', 'user'): (torch.tensor([0, 1]), torch.tensor([1, 2])),\n",
        "    ('user', 'plays', 'game'): (torch.tensor([3, 4]), torch.tensor([0, 1]))\n",
        "})"
      ],
      "metadata": {
        "id": "9J73xA655GHD"
      },
      "execution_count": 20,
      "outputs": []
    },
    {
      "cell_type": "code",
      "source": [
        "g.has_nodes(0, 'user')\n",
        "g.has_nodes(3, 'game')\n",
        "g.has_nodes(torch.tensor([3, 0, 1]), 'game')"
      ],
      "metadata": {
        "colab": {
          "base_uri": "https://localhost:8080/"
        },
        "id": "dDH030xb5GKK",
        "outputId": "b2832329-21e2-4184-c728-e9f9e5538238"
      },
      "execution_count": 21,
      "outputs": [
        {
          "output_type": "execute_result",
          "data": {
            "text/plain": [
              "tensor([False,  True,  True])"
            ]
          },
          "metadata": {},
          "execution_count": 21
        }
      ]
    },
    {
      "cell_type": "markdown",
      "source": [
        "dgl.DGLGraph.has_edges_between\n",
        "\n",
        "The has_edges_between method of dgl.DGLGraph returns a boolean indicating whether the graph has edges between the specified source and destination nodes or not."
      ],
      "metadata": {
        "id": "-rkV3SwLcEz4"
      }
    },
    {
      "cell_type": "code",
      "source": [
        "g = dgl.graph((torch.tensor([0, 0, 1, 1]), torch.tensor([1, 0, 2, 3])))"
      ],
      "metadata": {
        "id": "78b7f5l05GNK"
      },
      "execution_count": 22,
      "outputs": []
    },
    {
      "cell_type": "code",
      "source": [
        "g.has_edges_between(1, 2)\n",
        "g.has_edges_between(torch.tensor([1, 2]), torch.tensor([2, 3]))"
      ],
      "metadata": {
        "colab": {
          "base_uri": "https://localhost:8080/"
        },
        "id": "EjhOUIEP6B7e",
        "outputId": "a4e90973-e6b1-4cfd-c20e-904f9c9c265a"
      },
      "execution_count": 23,
      "outputs": [
        {
          "output_type": "execute_result",
          "data": {
            "text/plain": [
              "tensor([ True, False])"
            ]
          },
          "metadata": {},
          "execution_count": 23
        }
      ]
    },
    {
      "cell_type": "code",
      "source": [
        "g = dgl.heterograph({\n",
        "    ('user', 'follows', 'user'): (torch.tensor([0, 1]), torch.tensor([1, 2])),\n",
        "    ('user', 'follows', 'game'): (torch.tensor([0, 1, 2]), torch.tensor([1, 2, 3])),\n",
        "    ('user', 'plays', 'game'): (torch.tensor([1, 3]), torch.tensor([2, 3]))\n",
        "})\n",
        "g.has_edges_between(torch.tensor([1, 2]), torch.tensor([2, 3]), 'plays')"
      ],
      "metadata": {
        "colab": {
          "base_uri": "https://localhost:8080/"
        },
        "id": "ed03o26T6B-M",
        "outputId": "dd66a59b-d59a-4b38-d9f4-dd707306efde"
      },
      "execution_count": 24,
      "outputs": [
        {
          "output_type": "execute_result",
          "data": {
            "text/plain": [
              "tensor([ True, False])"
            ]
          },
          "metadata": {},
          "execution_count": 24
        }
      ]
    },
    {
      "cell_type": "code",
      "source": [
        "g.has_edges_between(torch.tensor([1, 2]), torch.tensor([2, 3]),\n",
        "                    ('user', 'follows', 'user'))\n",
        "g.has_edges_between(torch.tensor([1, 2]), torch.tensor([2, 3]),\n",
        "                    ('user', 'follows', 'game'))"
      ],
      "metadata": {
        "colab": {
          "base_uri": "https://localhost:8080/"
        },
        "id": "dUsYDWc86CBO",
        "outputId": "d1cc2388-637b-48f1-f2c9-081f2f134982"
      },
      "execution_count": 25,
      "outputs": [
        {
          "output_type": "execute_result",
          "data": {
            "text/plain": [
              "tensor([True, True])"
            ]
          },
          "metadata": {},
          "execution_count": 25
        }
      ]
    },
    {
      "cell_type": "markdown",
      "source": [
        "dgl.DGLGraph.predecessors\n",
        "The predecessors method of dgl.DGLGraph returns the predecessors of the specified nodes in the graph. "
      ],
      "metadata": {
        "id": "IkLbfFuWcVlh"
      }
    },
    {
      "cell_type": "code",
      "source": [
        "g = dgl.graph((torch.tensor([0, 0, 1, 1]), torch.tensor([1, 1, 2, 3])))"
      ],
      "metadata": {
        "id": "vApzOZNY6CEd"
      },
      "execution_count": 26,
      "outputs": []
    },
    {
      "cell_type": "code",
      "source": [
        "g.predecessors(1)"
      ],
      "metadata": {
        "colab": {
          "base_uri": "https://localhost:8080/"
        },
        "id": "QzIWkRiY6CHd",
        "outputId": "de9ca311-0b1b-4b56-fb84-b53ece3df45e"
      },
      "execution_count": 27,
      "outputs": [
        {
          "output_type": "execute_result",
          "data": {
            "text/plain": [
              "tensor([0, 0])"
            ]
          },
          "metadata": {},
          "execution_count": 27
        }
      ]
    },
    {
      "cell_type": "code",
      "source": [
        "hg = dgl.heterograph({\n",
        "    ('user', 'follows', 'user'): (torch.tensor([0, 1]), torch.tensor([1, 2])),\n",
        "    ('user', 'plays', 'game'): (torch.tensor([3, 4]), torch.tensor([5, 6]))\n",
        "})\n",
        "hg.predecessors(1, etype='follows')"
      ],
      "metadata": {
        "colab": {
          "base_uri": "https://localhost:8080/"
        },
        "id": "XWrqD_nl6CKX",
        "outputId": "92af23ab-fb20-4f04-a713-6c7548cc7ada"
      },
      "execution_count": 28,
      "outputs": [
        {
          "output_type": "execute_result",
          "data": {
            "text/plain": [
              "tensor([0])"
            ]
          },
          "metadata": {},
          "execution_count": 28
        }
      ]
    },
    {
      "cell_type": "markdown",
      "source": [
        "dgl.DGLGraph.successors\n",
        "\n",
        "The successors method of dgl.DGLGraph returns the successors of the specified nodes in the graph. "
      ],
      "metadata": {
        "id": "JgUJQ4NicsQp"
      }
    },
    {
      "cell_type": "code",
      "source": [
        "g = dgl.graph((torch.tensor([0, 0, 1, 1]), torch.tensor([1, 1, 2, 3])))"
      ],
      "metadata": {
        "id": "Jwfhb2qf6CNX"
      },
      "execution_count": 29,
      "outputs": []
    },
    {
      "cell_type": "code",
      "source": [
        "g.successors(1)"
      ],
      "metadata": {
        "colab": {
          "base_uri": "https://localhost:8080/"
        },
        "id": "qHPCQyxi6CQT",
        "outputId": "c96de023-0154-4a49-c1e7-1f75d505e16e"
      },
      "execution_count": 30,
      "outputs": [
        {
          "output_type": "execute_result",
          "data": {
            "text/plain": [
              "tensor([2, 3])"
            ]
          },
          "metadata": {},
          "execution_count": 30
        }
      ]
    },
    {
      "cell_type": "code",
      "source": [
        "hg = dgl.heterograph({\n",
        "    ('user', 'follows', 'user'): (torch.tensor([0, 1]), torch.tensor([1, 2])),\n",
        "    ('user', 'plays', 'game'): (torch.tensor([3, 4]), torch.tensor([5, 6]))\n",
        "})\n",
        "hg.successors(1, etype='follows')"
      ],
      "metadata": {
        "colab": {
          "base_uri": "https://localhost:8080/"
        },
        "id": "JrMbS-yF6CTF",
        "outputId": "5aa45354-cec3-47b1-b48f-0a00a785cc9a"
      },
      "execution_count": 31,
      "outputs": [
        {
          "output_type": "execute_result",
          "data": {
            "text/plain": [
              "tensor([2])"
            ]
          },
          "metadata": {},
          "execution_count": 31
        }
      ]
    },
    {
      "cell_type": "markdown",
      "source": [
        "dgl.DGLGraph.edge_ids\n",
        "\n",
        "The edge_ids method of dgl.DGLGraph returns the edge IDs of the edges between the specified source and destination nodes in the graph"
      ],
      "metadata": {
        "id": "JF4hSjKodHXo"
      }
    },
    {
      "cell_type": "code",
      "source": [
        "g = dgl.graph((torch.tensor([0, 0, 1, 1, 1]), torch.tensor([1, 0, 2, 3, 2])))"
      ],
      "metadata": {
        "id": "vetOvjw76rJB"
      },
      "execution_count": 32,
      "outputs": []
    },
    {
      "cell_type": "code",
      "source": [
        "g.edge_ids(0, 0)\n",
        "g.edge_ids(torch.tensor([1, 0]), torch.tensor([3, 1]))"
      ],
      "metadata": {
        "colab": {
          "base_uri": "https://localhost:8080/"
        },
        "id": "mXVOZsfF6rL3",
        "outputId": "36ef53ea-3be3-48db-ce57-cc4d5f4ac371"
      },
      "execution_count": 33,
      "outputs": [
        {
          "output_type": "execute_result",
          "data": {
            "text/plain": [
              "tensor([3, 0])"
            ]
          },
          "metadata": {},
          "execution_count": 33
        }
      ]
    },
    {
      "cell_type": "code",
      "source": [
        "g.edge_ids(torch.tensor([1, 0]), torch.tensor([3, 1]), return_uv=True)"
      ],
      "metadata": {
        "colab": {
          "base_uri": "https://localhost:8080/"
        },
        "id": "0-bFusfK6rO6",
        "outputId": "d3f10720-907f-46a3-c6a8-ad4727245e06"
      },
      "execution_count": 34,
      "outputs": [
        {
          "output_type": "execute_result",
          "data": {
            "text/plain": [
              "(tensor([1, 0]), tensor([3, 1]), tensor([3, 0]))"
            ]
          },
          "metadata": {},
          "execution_count": 34
        }
      ]
    },
    {
      "cell_type": "code",
      "source": [
        "g = dgl.heterograph({\n",
        "    ('user', 'follows', 'user'): (torch.tensor([0, 1]), torch.tensor([1, 2])),\n",
        "    ('user', 'follows', 'game'): (torch.tensor([0, 1, 2]), torch.tensor([1, 2, 3])),\n",
        "    ('user', 'plays', 'game'): (torch.tensor([1, 3]), torch.tensor([2, 3]))\n",
        "})\n",
        "g.edge_ids(torch.tensor([1]), torch.tensor([2]), etype='plays')"
      ],
      "metadata": {
        "colab": {
          "base_uri": "https://localhost:8080/"
        },
        "id": "Ehof9eNZ6rR9",
        "outputId": "2f4e9a4b-5995-4bb7-bd4c-c2dac263a568"
      },
      "execution_count": 35,
      "outputs": [
        {
          "output_type": "execute_result",
          "data": {
            "text/plain": [
              "tensor([0])"
            ]
          },
          "metadata": {},
          "execution_count": 35
        }
      ]
    },
    {
      "cell_type": "code",
      "source": [
        "g.edge_ids(torch.tensor([0, 1]), torch.tensor([1, 2]),\n",
        "           etype=('user', 'follows', 'user'))\n",
        "g.edge_ids(torch.tensor([1, 2]), torch.tensor([2, 3]),\n",
        "           etype=('user', 'follows', 'game'))"
      ],
      "metadata": {
        "colab": {
          "base_uri": "https://localhost:8080/"
        },
        "id": "qPAwQN246rVJ",
        "outputId": "c2e4e860-8cd9-4004-ea4d-06e645a6414a"
      },
      "execution_count": 36,
      "outputs": [
        {
          "output_type": "execute_result",
          "data": {
            "text/plain": [
              "tensor([1, 2])"
            ]
          },
          "metadata": {},
          "execution_count": 36
        }
      ]
    },
    {
      "cell_type": "markdown",
      "source": [
        "dgl.DGLGraph.find_edges\n",
        "\n",
        "The find_edges method of dgl.DGLGraph returns the source and destination nodes of the edges with the specified edge IDs in the graph."
      ],
      "metadata": {
        "id": "CGl-dDmvddZq"
      }
    },
    {
      "cell_type": "code",
      "source": [
        "g = dgl.graph((torch.tensor([0, 0, 1, 1]), torch.tensor([1, 0, 2, 3])))"
      ],
      "metadata": {
        "id": "6lylsaQI6rYF"
      },
      "execution_count": 37,
      "outputs": []
    },
    {
      "cell_type": "code",
      "source": [
        "g.find_edges(torch.tensor([0, 2]))"
      ],
      "metadata": {
        "colab": {
          "base_uri": "https://localhost:8080/"
        },
        "id": "4bNLG9En6_Wj",
        "outputId": "423a275f-0398-4ee9-e426-ef6da3f34e81"
      },
      "execution_count": 38,
      "outputs": [
        {
          "output_type": "execute_result",
          "data": {
            "text/plain": [
              "(tensor([0, 1]), tensor([1, 2]))"
            ]
          },
          "metadata": {},
          "execution_count": 38
        }
      ]
    },
    {
      "cell_type": "code",
      "source": [
        "hg = dgl.heterograph({\n",
        "    ('user', 'follows', 'user'): (torch.tensor([0, 1]), torch.tensor([1, 2])),\n",
        "    ('user', 'plays', 'game'): (torch.tensor([3, 4]), torch.tensor([5, 6]))\n",
        "})\n",
        "hg.find_edges(torch.tensor([1, 0]), 'plays')"
      ],
      "metadata": {
        "colab": {
          "base_uri": "https://localhost:8080/"
        },
        "id": "GoTMKpXB6_ZZ",
        "outputId": "bd8441d5-19f1-4d57-8187-fe11b92d6282"
      },
      "execution_count": 39,
      "outputs": [
        {
          "output_type": "execute_result",
          "data": {
            "text/plain": [
              "(tensor([4, 3]), tensor([6, 5]))"
            ]
          },
          "metadata": {},
          "execution_count": 39
        }
      ]
    },
    {
      "cell_type": "markdown",
      "source": [
        "dgl.DGLGraph.in_edges\n",
        "\n",
        "The in_edges method of dgl.DGLGraph returns the source and destination nodes of the edges that point to the specified destination nodes in the graph."
      ],
      "metadata": {
        "id": "kQWZDPCfeGto"
      }
    },
    {
      "cell_type": "code",
      "source": [
        "g = dgl.graph((torch.tensor([0, 0, 1, 1]), torch.tensor([1, 0, 2, 3])))"
      ],
      "metadata": {
        "id": "rcgMUDAn6_fa"
      },
      "execution_count": 40,
      "outputs": []
    },
    {
      "cell_type": "code",
      "source": [
        "g.in_edges(torch.tensor([1, 0]))"
      ],
      "metadata": {
        "colab": {
          "base_uri": "https://localhost:8080/"
        },
        "id": "Ar-U0Mz36_id",
        "outputId": "cd36e1bc-6af6-430d-9e11-e90d54b00b7c"
      },
      "execution_count": 41,
      "outputs": [
        {
          "output_type": "execute_result",
          "data": {
            "text/plain": [
              "(tensor([0, 0]), tensor([1, 0]))"
            ]
          },
          "metadata": {},
          "execution_count": 41
        }
      ]
    },
    {
      "cell_type": "code",
      "source": [
        "g.in_edges(torch.tensor([1, 0]), form='all')"
      ],
      "metadata": {
        "colab": {
          "base_uri": "https://localhost:8080/"
        },
        "id": "n6G6Aq096_lc",
        "outputId": "eb4c3805-c22b-416c-873b-cb53f574e0c4"
      },
      "execution_count": 42,
      "outputs": [
        {
          "output_type": "execute_result",
          "data": {
            "text/plain": [
              "(tensor([0, 0]), tensor([1, 0]), tensor([0, 1]))"
            ]
          },
          "metadata": {},
          "execution_count": 42
        }
      ]
    },
    {
      "cell_type": "code",
      "source": [
        "hg = dgl.heterograph({\n",
        "    ('user', 'follows', 'user'): (torch.tensor([0, 1]), torch.tensor([1, 2])),\n",
        "    ('user', 'plays', 'game'): (torch.tensor([3, 4]), torch.tensor([5, 6]))\n",
        "})\n",
        "hg.in_edges(torch.tensor([1, 0]), etype='follows')"
      ],
      "metadata": {
        "colab": {
          "base_uri": "https://localhost:8080/"
        },
        "id": "6ivP3hOM6_oU",
        "outputId": "a5c313cd-2172-41bf-a5db-6e13addb5e65"
      },
      "execution_count": 43,
      "outputs": [
        {
          "output_type": "execute_result",
          "data": {
            "text/plain": [
              "(tensor([0]), tensor([1]))"
            ]
          },
          "metadata": {},
          "execution_count": 43
        }
      ]
    },
    {
      "cell_type": "markdown",
      "source": [
        "DGLGraph.out_edge\n",
        "\n",
        "The out_edges method of dgl.DGLGraph returns the source and destination nodes of the edges that originate from the specified source nodes in the graph."
      ],
      "metadata": {
        "id": "q79ma9lWeSCU"
      }
    },
    {
      "cell_type": "code",
      "source": [
        "g.out_edges(torch.tensor([1, 2]))"
      ],
      "metadata": {
        "colab": {
          "base_uri": "https://localhost:8080/"
        },
        "id": "OKHBLQ246_rC",
        "outputId": "de011edc-3128-4b4d-b140-b8ca01b945d2"
      },
      "execution_count": 44,
      "outputs": [
        {
          "output_type": "execute_result",
          "data": {
            "text/plain": [
              "(tensor([1, 1]), tensor([2, 3]))"
            ]
          },
          "metadata": {},
          "execution_count": 44
        }
      ]
    },
    {
      "cell_type": "code",
      "source": [
        "g.out_edges(torch.tensor([1, 2]), form='all')"
      ],
      "metadata": {
        "colab": {
          "base_uri": "https://localhost:8080/"
        },
        "id": "dmesSsn16_uE",
        "outputId": "f701a0fe-fa63-4b73-803b-16c4fae5f528"
      },
      "execution_count": 45,
      "outputs": [
        {
          "output_type": "execute_result",
          "data": {
            "text/plain": [
              "(tensor([1, 1]), tensor([2, 3]), tensor([2, 3]))"
            ]
          },
          "metadata": {},
          "execution_count": 45
        }
      ]
    },
    {
      "cell_type": "code",
      "source": [
        "hg = dgl.heterograph({\n",
        "    ('user', 'follows', 'user'): (torch.tensor([0, 1]), torch.tensor([1, 2])),\n",
        "    ('user', 'plays', 'game'): (torch.tensor([3, 4]), torch.tensor([5, 6]))\n",
        "})\n",
        "hg.out_edges(torch.tensor([1, 2]), etype='follows')"
      ],
      "metadata": {
        "colab": {
          "base_uri": "https://localhost:8080/"
        },
        "id": "gfw_h6Hl6_xE",
        "outputId": "5e47ce68-06fe-48bb-82bb-0d8a7789a335"
      },
      "execution_count": 46,
      "outputs": [
        {
          "output_type": "execute_result",
          "data": {
            "text/plain": [
              "(tensor([1]), tensor([2]))"
            ]
          },
          "metadata": {},
          "execution_count": 46
        }
      ]
    },
    {
      "cell_type": "markdown",
      "source": [
        "DGLGraph.in_degrees\n",
        "\n",
        "he in_degrees method of dgl.DGLGraph returns the number of incoming edges to the specified nodes in the graph. "
      ],
      "metadata": {
        "id": "xaxdGyr_ek2F"
      }
    },
    {
      "cell_type": "code",
      "source": [
        "g = dgl.graph((torch.tensor([0, 0, 1, 1]), torch.tensor([1, 1, 2, 3])))"
      ],
      "metadata": {
        "id": "042li_b67zZ4"
      },
      "execution_count": 47,
      "outputs": []
    },
    {
      "cell_type": "code",
      "source": [
        "g.in_degrees()"
      ],
      "metadata": {
        "colab": {
          "base_uri": "https://localhost:8080/"
        },
        "id": "zf9aH7Vx6_0S",
        "outputId": "069db2c1-e88c-49bb-bb7d-007aae61b303"
      },
      "execution_count": 48,
      "outputs": [
        {
          "output_type": "execute_result",
          "data": {
            "text/plain": [
              "tensor([0, 2, 1, 1])"
            ]
          },
          "metadata": {},
          "execution_count": 48
        }
      ]
    },
    {
      "cell_type": "code",
      "source": [
        "g.in_degrees(torch.tensor([1, 2]))"
      ],
      "metadata": {
        "colab": {
          "base_uri": "https://localhost:8080/"
        },
        "id": "bXiKr7PD6_3T",
        "outputId": "4b18eda7-6950-40ed-8270-382d3205d5a3"
      },
      "execution_count": 49,
      "outputs": [
        {
          "output_type": "execute_result",
          "data": {
            "text/plain": [
              "tensor([2, 1])"
            ]
          },
          "metadata": {},
          "execution_count": 49
        }
      ]
    },
    {
      "cell_type": "code",
      "source": [
        "hg = dgl.heterograph({\n",
        "    ('user', 'follows', 'user'): (torch.tensor([0, 1]), torch.tensor([1, 2])),\n",
        "    ('user', 'plays', 'game'): (torch.tensor([3, 4]), torch.tensor([5, 6]))\n",
        "})\n",
        "hg.in_degrees(torch.tensor([1, 0]), etype='follows')"
      ],
      "metadata": {
        "colab": {
          "base_uri": "https://localhost:8080/"
        },
        "id": "ONpr4ENE6_6F",
        "outputId": "6d57a789-31b2-44ca-d2ff-94ad753d3c9d"
      },
      "execution_count": 50,
      "outputs": [
        {
          "output_type": "execute_result",
          "data": {
            "text/plain": [
              "tensor([1, 0])"
            ]
          },
          "metadata": {},
          "execution_count": 50
        }
      ]
    },
    {
      "cell_type": "markdown",
      "source": [
        "DGLGraph.out_degrees\n",
        "\n",
        "The out_degrees method of dgl.DGLGraph returns the number of outgoing edges from the specified nodes in the graph. call the out_degrees method of g to get the number of outgoing edges from the specified nodes. This method takes a tensor of node IDs as its argument and returns a tensor of out-degrees, which represents the number of outgoing edges from each specified node."
      ],
      "metadata": {
        "id": "ANpLuPQZe-zv"
      }
    },
    {
      "cell_type": "code",
      "source": [
        "g = dgl.graph((torch.tensor([0, 0, 1, 1]), torch.tensor([1, 1, 2, 3])))"
      ],
      "metadata": {
        "id": "Y0N2dW_a6_9C"
      },
      "execution_count": 51,
      "outputs": []
    },
    {
      "cell_type": "code",
      "source": [
        "g.out_degrees()"
      ],
      "metadata": {
        "colab": {
          "base_uri": "https://localhost:8080/"
        },
        "id": "sOvOhWGl6__5",
        "outputId": "952c80e5-7ff4-4fa1-956e-dea62c79eb29"
      },
      "execution_count": 52,
      "outputs": [
        {
          "output_type": "execute_result",
          "data": {
            "text/plain": [
              "tensor([2, 2, 0, 0])"
            ]
          },
          "metadata": {},
          "execution_count": 52
        }
      ]
    },
    {
      "cell_type": "code",
      "source": [
        "g.out_degrees(torch.tensor([1, 2]))"
      ],
      "metadata": {
        "colab": {
          "base_uri": "https://localhost:8080/"
        },
        "id": "mtDJr5XA7ADF",
        "outputId": "d80881c8-e85c-40c0-e5e9-ada82795e581"
      },
      "execution_count": 53,
      "outputs": [
        {
          "output_type": "execute_result",
          "data": {
            "text/plain": [
              "tensor([2, 0])"
            ]
          },
          "metadata": {},
          "execution_count": 53
        }
      ]
    },
    {
      "cell_type": "code",
      "source": [
        "hg = dgl.heterograph({\n",
        "    ('user', 'follows', 'user'): (torch.tensor([0, 1]), torch.tensor([1, 2])),\n",
        "    ('user', 'plays', 'game'): (torch.tensor([3, 4]), torch.tensor([5, 6]))\n",
        "})\n",
        "hg.out_degrees(torch.tensor([1, 0]), etype='follows')"
      ],
      "metadata": {
        "colab": {
          "base_uri": "https://localhost:8080/"
        },
        "id": "_x5nK0BE8TCX",
        "outputId": "5ea756c5-6514-4eca-f751-72bcc8a2b967"
      },
      "execution_count": 54,
      "outputs": [
        {
          "output_type": "execute_result",
          "data": {
            "text/plain": [
              "tensor([1, 1])"
            ]
          },
          "metadata": {},
          "execution_count": 54
        }
      ]
    },
    {
      "cell_type": "markdown",
      "source": [
        "##Querying and manipulating node/edge ID type"
      ],
      "metadata": {
        "id": "eCEyCMlm9aqL"
      }
    },
    {
      "cell_type": "markdown",
      "source": [
        "dgl.DGLGraph.idtype\n",
        "\n",
        "The idtype attribute of dgl.DGLGraph returns the data type of the node and edge IDs used by the graph.\n",
        "this code demonstrates how to use the idtype attribute of dgl.DGLGraph to find the data type of the node and edge IDs used by a graph."
      ],
      "metadata": {
        "id": "4jg9866afskj"
      }
    },
    {
      "cell_type": "code",
      "source": [
        "src_ids = torch.tensor([0, 0, 1])\n",
        "dst_ids = torch.tensor([1, 2, 2])\n",
        "g = dgl.graph((src_ids, dst_ids))\n",
        "g.idtype\n",
        "g = dgl.graph((src_ids, dst_ids), idtype=torch.int32)\n",
        "g.idtype"
      ],
      "metadata": {
        "colab": {
          "base_uri": "https://localhost:8080/"
        },
        "id": "nFVqdBxQ9hQi",
        "outputId": "3cfd30bf-7cb2-40f8-d036-79217951019d"
      },
      "execution_count": 55,
      "outputs": [
        {
          "output_type": "execute_result",
          "data": {
            "text/plain": [
              "torch.int32"
            ]
          },
          "metadata": {},
          "execution_count": 55
        }
      ]
    },
    {
      "cell_type": "markdown",
      "source": [
        "dgl.DGLGraph.long\n",
        "\n",
        "The long method of dgl.DGLGraph returns a new graph with the node and edge IDs converted to 32-bit integers.\n",
        " this code demonstrates how to use the long method of dgl.DGLGraph to convert the node and edge IDs of a graph to 32-bit integers."
      ],
      "metadata": {
        "id": "JcQh4VB1gFEq"
      }
    },
    {
      "cell_type": "code",
      "source": [
        "# (0, 1), (0, 2), (1, 2)\n",
        "g = dgl.graph((torch.tensor([0, 0, 1]).int(), torch.tensor([1, 2, 2]).int()))\n",
        "g.ndata['feat'] = torch.ones(3, 1)\n",
        "g.idtype"
      ],
      "metadata": {
        "colab": {
          "base_uri": "https://localhost:8080/"
        },
        "id": "132kUwZB9hTh",
        "outputId": "3389aef8-96db-4f68-8120-4eb381c18ea2"
      },
      "execution_count": 56,
      "outputs": [
        {
          "output_type": "execute_result",
          "data": {
            "text/plain": [
              "torch.int32"
            ]
          },
          "metadata": {},
          "execution_count": 56
        }
      ]
    },
    {
      "cell_type": "code",
      "source": [
        "# A cloned graph with an idtype of int64\n",
        "g_long = g.long()\n",
        "g_long.idtype\n",
        "# The idtype of the original graph does not change.\n",
        "g.idtype\n",
        "g_long.edges()\n",
        "g_long.ndata"
      ],
      "metadata": {
        "colab": {
          "base_uri": "https://localhost:8080/"
        },
        "id": "KhIfJ1YY9hWt",
        "outputId": "a9584810-3be8-4bbf-9bcb-b6327b766c95"
      },
      "execution_count": 57,
      "outputs": [
        {
          "output_type": "execute_result",
          "data": {
            "text/plain": [
              "{'feat': tensor([[1.],\n",
              "        [1.],\n",
              "        [1.]])}"
            ]
          },
          "metadata": {},
          "execution_count": 57
        }
      ]
    },
    {
      "cell_type": "markdown",
      "source": [
        "dgl.DGLGraph.int\n",
        "\n",
        "The int method of dgl.DGLGraph returns a new graph with the node and edge IDs converted to 64-bit integers"
      ],
      "metadata": {
        "id": "tAmMrc4Pga_q"
      }
    },
    {
      "cell_type": "code",
      "source": [
        "# (0, 1), (0, 2), (1, 2)\n",
        "g = dgl.graph((torch.tensor([0, 0, 1]), torch.tensor([1, 2, 2])))\n",
        "g.ndata['feat'] = torch.ones(3, 1)\n",
        "g.idtype"
      ],
      "metadata": {
        "colab": {
          "base_uri": "https://localhost:8080/"
        },
        "id": "_agI7-fA9hZw",
        "outputId": "dd40bcb7-4c1c-408b-d568-fb9c8d0523ab"
      },
      "execution_count": 58,
      "outputs": [
        {
          "output_type": "execute_result",
          "data": {
            "text/plain": [
              "torch.int64"
            ]
          },
          "metadata": {},
          "execution_count": 58
        }
      ]
    },
    {
      "cell_type": "code",
      "source": [
        "# A cloned graph with an idtype of int32\n",
        "g_int = g.int()\n",
        "g_int.idtype\n",
        "# The idtype of the original graph does not change.\n",
        "g.idtype\n",
        "g_int.edges()\n",
        "g_int.ndata"
      ],
      "metadata": {
        "colab": {
          "base_uri": "https://localhost:8080/"
        },
        "id": "PD29z2f19hdA",
        "outputId": "f104cea4-1de2-41ad-de36-6b35a644f711"
      },
      "execution_count": 59,
      "outputs": [
        {
          "output_type": "execute_result",
          "data": {
            "text/plain": [
              "{'feat': tensor([[1.],\n",
              "        [1.],\n",
              "        [1.]])}"
            ]
          },
          "metadata": {},
          "execution_count": 59
        }
      ]
    },
    {
      "cell_type": "code",
      "source": [],
      "metadata": {
        "id": "aVdRtNnt9hgA"
      },
      "execution_count": 59,
      "outputs": []
    },
    {
      "cell_type": "markdown",
      "source": [
        "##Using Node/edge features"
      ],
      "metadata": {
        "id": "qTmJxLJV-QEc"
      }
    },
    {
      "cell_type": "markdown",
      "source": [
        "dgl.DGLGraph.nodes\n",
        "\n",
        "\n",
        "\n",
        "The nodes method of dgl.DGLGraph returns a NodeView object that represents the set of nodes in the graph.\n",
        "his code demonstrates how to use the nodes method of dgl.DGLGraph to get the set of nodes in a graph, which is returned as a NodeView object that can be used to index into the graph's node features."
      ],
      "metadata": {
        "id": "dHG9WgdhjI6g"
      }
    },
    {
      "cell_type": "code",
      "source": [
        "g = dgl.graph((torch.tensor([0, 1]), torch.tensor([1, 2])))\n",
        "hg = dgl.heterograph({\n",
        "    ('user', 'follows', 'user'): (torch.tensor([0, 1]), torch.tensor([1, 2])),\n",
        "    ('user', 'plays', 'game'): (torch.tensor([3, 4]), torch.tensor([5, 6]))\n",
        "})"
      ],
      "metadata": {
        "id": "veNARjiY-SJ5"
      },
      "execution_count": 60,
      "outputs": []
    },
    {
      "cell_type": "code",
      "source": [
        "g.nodes()"
      ],
      "metadata": {
        "colab": {
          "base_uri": "https://localhost:8080/"
        },
        "id": "X8D4Ha65-SM1",
        "outputId": "41b8bcb0-10b9-418e-9f28-28f26ce942aa"
      },
      "execution_count": 61,
      "outputs": [
        {
          "output_type": "execute_result",
          "data": {
            "text/plain": [
              "tensor([0, 1, 2])"
            ]
          },
          "metadata": {},
          "execution_count": 61
        }
      ]
    },
    {
      "cell_type": "code",
      "source": [
        "hg.nodes('user')"
      ],
      "metadata": {
        "colab": {
          "base_uri": "https://localhost:8080/"
        },
        "id": "75Dumher-SP8",
        "outputId": "0aecf0cc-3e6e-4390-b43f-db4d82a7d33b"
      },
      "execution_count": 62,
      "outputs": [
        {
          "output_type": "execute_result",
          "data": {
            "text/plain": [
              "tensor([0, 1, 2, 3, 4])"
            ]
          },
          "metadata": {},
          "execution_count": 62
        }
      ]
    },
    {
      "cell_type": "code",
      "source": [
        "hg.nodes['user'].data['h'] = torch.ones(5, 1)\n",
        "hg.nodes['user'].data['h']"
      ],
      "metadata": {
        "colab": {
          "base_uri": "https://localhost:8080/"
        },
        "id": "aLC2gZns-SS_",
        "outputId": "2bbcca7a-9e21-4431-838f-7a46f882c906"
      },
      "execution_count": 63,
      "outputs": [
        {
          "output_type": "execute_result",
          "data": {
            "text/plain": [
              "tensor([[1.],\n",
              "        [1.],\n",
              "        [1.],\n",
              "        [1.],\n",
              "        [1.]])"
            ]
          },
          "metadata": {},
          "execution_count": 63
        }
      ]
    },
    {
      "cell_type": "markdown",
      "source": [
        "dgl.DGLGraph.ndata\n",
        "\n",
        "The ndata method of dgl.DGLGraph returns the feature data associated with the nodes in the graph.\n",
        "this code demonstrates how to use the ndata method of dgl.DGLGraph to get the feature data associated with the nodes of a graph. In this case, we add random node features to the graph using PyTorch's torch.randn function and retrieve the 'x' feature data of all nodes using the ndata met"
      ],
      "metadata": {
        "id": "8iJ2DQKzjPzP"
      }
    },
    {
      "cell_type": "code",
      "source": [
        "g = dgl.graph((torch.tensor([0, 1]), torch.tensor([1, 2])))\n",
        "g.ndata['h'] = torch.ones(3, 1)\n",
        "g.ndata['h']"
      ],
      "metadata": {
        "colab": {
          "base_uri": "https://localhost:8080/"
        },
        "id": "Q49rK3PF-SWH",
        "outputId": "c2e45184-8aa7-4713-aed1-eed4d84f9932"
      },
      "execution_count": 64,
      "outputs": [
        {
          "output_type": "execute_result",
          "data": {
            "text/plain": [
              "tensor([[1.],\n",
              "        [1.],\n",
              "        [1.]])"
            ]
          },
          "metadata": {},
          "execution_count": 64
        }
      ]
    },
    {
      "cell_type": "code",
      "source": [
        "g = dgl.heterograph({\n",
        "    ('user', 'follows', 'user'): (torch.tensor([1, 2]), torch.tensor([3, 4])),\n",
        "    ('player', 'plays', 'game'): (torch.tensor([2, 2]), torch.tensor([1, 1]))\n",
        "})\n",
        "g.ndata['h'] = {'game': torch.zeros(2, 1), 'player': torch.ones(3, 1)}\n",
        "g.ndata['h']\n",
        "g.ndata['h'] = {'game': torch.ones(2, 1)}\n",
        "g.ndata['h']"
      ],
      "metadata": {
        "colab": {
          "base_uri": "https://localhost:8080/"
        },
        "id": "kIg2CHYi-l-E",
        "outputId": "742f4ef4-a0b4-400b-8ba6-f5fdbdcc8e7f"
      },
      "execution_count": 65,
      "outputs": [
        {
          "output_type": "execute_result",
          "data": {
            "text/plain": [
              "{'game': tensor([[1.],\n",
              "         [1.]]),\n",
              " 'player': tensor([[1.],\n",
              "         [1.],\n",
              "         [1.]])}"
            ]
          },
          "metadata": {},
          "execution_count": 65
        }
      ]
    },
    {
      "cell_type": "markdown",
      "source": [
        "dgl.DGLGraph.edges\n",
        "\n",
        " this code demonstrates how to use the edges method of dgl.DGLGraph to get the set of edges in a graph, which is returned as a tuple of two tensors that represent the source and destination nodes of the edges."
      ],
      "metadata": {
        "id": "RtJKzF9BkAcw"
      }
    },
    {
      "cell_type": "code",
      "source": [
        "g = dgl.heterograph({\n",
        "    ('user', 'follows', 'user'): (torch.tensor([1, 2]), torch.tensor([3, 4])),\n",
        "    ('player', 'plays', 'game'): (torch.tensor([2, 2]), torch.tensor([1, 1]))\n",
        "})"
      ],
      "metadata": {
        "id": "Fz3PMGtX_Snx"
      },
      "execution_count": 66,
      "outputs": []
    },
    {
      "cell_type": "code",
      "source": [
        "g.ndata['h'] = {'game': torch.zeros(2, 1), 'player': torch.ones(3, 1)}\n",
        "g.ndata['h']"
      ],
      "metadata": {
        "colab": {
          "base_uri": "https://localhost:8080/"
        },
        "id": "J0mMA6uk-mEs",
        "outputId": "25466f23-46ff-4c21-ab72-04ae0b83d339"
      },
      "execution_count": 67,
      "outputs": [
        {
          "output_type": "execute_result",
          "data": {
            "text/plain": [
              "{'game': tensor([[0.],\n",
              "         [0.]]),\n",
              " 'player': tensor([[1.],\n",
              "         [1.],\n",
              "         [1.]])}"
            ]
          },
          "metadata": {},
          "execution_count": 67
        }
      ]
    },
    {
      "cell_type": "code",
      "source": [
        "g.ndata['h'] = {'game': torch.ones(2, 1)}\n",
        "g.ndata['h']"
      ],
      "metadata": {
        "colab": {
          "base_uri": "https://localhost:8080/"
        },
        "id": "jVvFf2wn-mH1",
        "outputId": "cc04a09b-b32a-4a21-896c-1cf0b3b23d0c"
      },
      "execution_count": 68,
      "outputs": [
        {
          "output_type": "execute_result",
          "data": {
            "text/plain": [
              "{'game': tensor([[1.],\n",
              "         [1.]]),\n",
              " 'player': tensor([[1.],\n",
              "         [1.],\n",
              "         [1.]])}"
            ]
          },
          "metadata": {},
          "execution_count": 68
        }
      ]
    },
    {
      "cell_type": "code",
      "source": [
        "g = dgl.graph((torch.tensor([1, 0, 0]), torch.tensor([1, 1, 0])))\n",
        "g.edges()"
      ],
      "metadata": {
        "colab": {
          "base_uri": "https://localhost:8080/"
        },
        "id": "bfQKZ1tx-mLJ",
        "outputId": "6c886855-508b-4754-b632-f45dc5c36dd5"
      },
      "execution_count": 69,
      "outputs": [
        {
          "output_type": "execute_result",
          "data": {
            "text/plain": [
              "(tensor([1, 0, 0]), tensor([1, 1, 0]))"
            ]
          },
          "metadata": {},
          "execution_count": 69
        }
      ]
    },
    {
      "cell_type": "code",
      "source": [
        "g.edges(form='all', order='srcdst')"
      ],
      "metadata": {
        "colab": {
          "base_uri": "https://localhost:8080/"
        },
        "id": "nLkbCkEJ-mN1",
        "outputId": "d08d657a-2bbe-4cec-d4ed-b66b1ba20821"
      },
      "execution_count": 70,
      "outputs": [
        {
          "output_type": "execute_result",
          "data": {
            "text/plain": [
              "(tensor([0, 0, 1]), tensor([0, 1, 1]), tensor([2, 1, 0]))"
            ]
          },
          "metadata": {},
          "execution_count": 70
        }
      ]
    },
    {
      "cell_type": "code",
      "source": [
        "hg = dgl.heterograph({\n",
        "    ('user', 'follows', 'user'): (torch.tensor([0, 1]), torch.tensor([1, 2])),\n",
        "    ('user', 'plays', 'game'): (torch.tensor([3, 4]), torch.tensor([5, 6]))\n",
        "})\n",
        "hg.edges(etype='plays')"
      ],
      "metadata": {
        "colab": {
          "base_uri": "https://localhost:8080/"
        },
        "id": "QuDNVzSI_gnk",
        "outputId": "c488459f-f9f1-4f38-b649-1fd590f31c50"
      },
      "execution_count": 71,
      "outputs": [
        {
          "output_type": "execute_result",
          "data": {
            "text/plain": [
              "(tensor([3, 4]), tensor([5, 6]))"
            ]
          },
          "metadata": {},
          "execution_count": 71
        }
      ]
    },
    {
      "cell_type": "code",
      "source": [
        "hg = dgl.heterograph({\n",
        "    ('user', 'follows', 'user'): (torch.tensor([0, 1]), torch.tensor([1, 2])),\n",
        "    ('user', 'plays', 'game'): (torch.tensor([3, 4]), torch.tensor([5, 6]))\n",
        "})"
      ],
      "metadata": {
        "id": "Z1A4ODMA_gqo"
      },
      "execution_count": 72,
      "outputs": []
    },
    {
      "cell_type": "code",
      "source": [
        "hg.edges['follows'].data['h'] = torch.ones(2, 1)\n",
        "hg.edges['follows'].data['h']"
      ],
      "metadata": {
        "colab": {
          "base_uri": "https://localhost:8080/"
        },
        "id": "ePM4vqHa_gtg",
        "outputId": "762bca6d-3b6c-4ab3-ecd6-e0a65bbc2d19"
      },
      "execution_count": 73,
      "outputs": [
        {
          "output_type": "execute_result",
          "data": {
            "text/plain": [
              "tensor([[1.],\n",
              "        [1.]])"
            ]
          },
          "metadata": {},
          "execution_count": 73
        }
      ]
    },
    {
      "cell_type": "markdown",
      "source": [
        "dgl.DGLGraph.edata\n",
        "\n",
        "The edata method of dgl.DGLGraph returns the feature data associated with the edges in the graph."
      ],
      "metadata": {
        "id": "tfAkIMthkVt8"
      }
    },
    {
      "cell_type": "code",
      "source": [
        "g = dgl.graph((torch.tensor([0, 1]), torch.tensor([1, 2])))\n",
        "g.edata['h'] = torch.ones(2, 1)\n",
        "g.edata['h']"
      ],
      "metadata": {
        "colab": {
          "base_uri": "https://localhost:8080/"
        },
        "id": "3cXg6FJW_gwg",
        "outputId": "289990bc-1332-4868-964c-862bae3d208d"
      },
      "execution_count": 74,
      "outputs": [
        {
          "output_type": "execute_result",
          "data": {
            "text/plain": [
              "tensor([[1.],\n",
              "        [1.]])"
            ]
          },
          "metadata": {},
          "execution_count": 74
        }
      ]
    },
    {
      "cell_type": "code",
      "source": [
        "g = dgl.heterograph({\n",
        "    ('user', 'follows', 'user'): (torch.tensor([1, 2]), torch.tensor([3, 4])),\n",
        "    ('user', 'plays', 'user'): (torch.tensor([2, 2]), torch.tensor([1, 1])),\n",
        "    ('player', 'plays', 'game'): (torch.tensor([2, 2]), torch.tensor([1, 1]))\n",
        "})\n",
        "g.edata['h'] = {('user', 'follows', 'user'): torch.zeros(2, 1),\n",
        "                ('user', 'plays', 'user'): torch.ones(2, 1)}\n",
        "g.edata['h']\n",
        "g.edata['h'] = {('user', 'follows', 'user'): torch.ones(2, 1)}\n",
        "g.edata['h']"
      ],
      "metadata": {
        "colab": {
          "base_uri": "https://localhost:8080/"
        },
        "id": "3mllnqMg_gz2",
        "outputId": "61b857a1-6a32-481e-c61a-4da786c80d1b"
      },
      "execution_count": 75,
      "outputs": [
        {
          "output_type": "execute_result",
          "data": {
            "text/plain": [
              "{('user',\n",
              "  'follows',\n",
              "  'user'): tensor([[1.],\n",
              "         [1.]]),\n",
              " ('user',\n",
              "  'plays',\n",
              "  'user'): tensor([[1.],\n",
              "         [1.]])}"
            ]
          },
          "metadata": {},
          "execution_count": 75
        }
      ]
    },
    {
      "cell_type": "markdown",
      "source": [
        "dgl.DGLGraph.node_attr_schemes\n",
        "\n",
        "The node_attr_schemes attribute of dgl.DGLGraph returns a dictionary that contains the data type and shape of the node features in the graph\n"
      ],
      "metadata": {
        "id": "YSgzP0QelJkT"
      }
    },
    {
      "cell_type": "code",
      "source": [
        "g = dgl.graph((torch.tensor([0, 1]), torch.tensor([1, 2])))\n",
        "g.ndata['h1'] = torch.randn(3, 1)\n",
        "g.ndata['h2'] = torch.randn(3, 2)\n",
        "g.node_attr_schemes()"
      ],
      "metadata": {
        "colab": {
          "base_uri": "https://localhost:8080/"
        },
        "id": "EIOW-XB6_g3M",
        "outputId": "4bf4fc40-5054-46b4-a03b-34f1797ce0a1"
      },
      "execution_count": 76,
      "outputs": [
        {
          "output_type": "execute_result",
          "data": {
            "text/plain": [
              "{'h1': Scheme(shape=(1,), dtype=torch.float32),\n",
              " 'h2': Scheme(shape=(2,), dtype=torch.float32)}"
            ]
          },
          "metadata": {},
          "execution_count": 76
        }
      ]
    },
    {
      "cell_type": "markdown",
      "source": [
        "dgl.DGLGraph.edge_attr_schemes\n",
        "\n",
        "The edge_attr_schemes attribute of dgl.DGLGraph returns a dictionary that contains the data type and shape of the edge features in the graph."
      ],
      "metadata": {
        "id": "ajIo6uN_lhdH"
      }
    },
    {
      "cell_type": "code",
      "source": [
        "g = dgl.heterograph({('user', 'plays', 'game'):\n",
        "                     (torch.tensor([1, 2]), torch.tensor([3, 4]))})\n",
        "g.nodes['user'].data['h1'] = torch.randn(3, 1)\n",
        "g.nodes['user'].data['h2'] = torch.randn(3, 2)\n",
        "g.node_attr_schemes('user')"
      ],
      "metadata": {
        "colab": {
          "base_uri": "https://localhost:8080/"
        },
        "id": "9ZdXKBC7_g6N",
        "outputId": "f343dc62-4b83-490b-960b-35e59f13697c"
      },
      "execution_count": 77,
      "outputs": [
        {
          "output_type": "execute_result",
          "data": {
            "text/plain": [
              "{'h1': Scheme(shape=(1,), dtype=torch.float32),\n",
              " 'h2': Scheme(shape=(2,), dtype=torch.float32)}"
            ]
          },
          "metadata": {},
          "execution_count": 77
        }
      ]
    },
    {
      "cell_type": "code",
      "source": [
        "g = dgl.graph((torch.tensor([0, 1]), torch.tensor([1, 2])))\n",
        "g.edata['h1'] = torch.randn(2, 1)\n",
        "g.edata['h2'] = torch.randn(2, 2)\n",
        "g.edge_attr_schemes()"
      ],
      "metadata": {
        "colab": {
          "base_uri": "https://localhost:8080/"
        },
        "id": "Exb544OgAY4G",
        "outputId": "084f5601-251b-4e72-b446-cdf1e823bc5d"
      },
      "execution_count": 78,
      "outputs": [
        {
          "output_type": "execute_result",
          "data": {
            "text/plain": [
              "{'h1': Scheme(shape=(1,), dtype=torch.float32),\n",
              " 'h2': Scheme(shape=(2,), dtype=torch.float32)}"
            ]
          },
          "metadata": {},
          "execution_count": 78
        }
      ]
    },
    {
      "cell_type": "code",
      "source": [
        "g = dgl.heterograph({('user', 'plays', 'game'):\n",
        "                     (torch.tensor([1, 2]), torch.tensor([3, 4])),\n",
        "                     ('user', 'follows', 'user'):\n",
        "                     (torch.tensor([3, 4]), torch.tensor([5, 6]))})\n",
        "g.edges['plays'].data['h1'] = torch.randn(2, 1)\n",
        "g.edges['plays'].data['h2'] = torch.randn(2, 2)\n",
        "g.edge_attr_schemes('plays')"
      ],
      "metadata": {
        "colab": {
          "base_uri": "https://localhost:8080/"
        },
        "id": "TWiAYj02AZCc",
        "outputId": "540da174-f6cb-45e9-b179-7fd2e0cbe9c4"
      },
      "execution_count": 79,
      "outputs": [
        {
          "output_type": "execute_result",
          "data": {
            "text/plain": [
              "{'h1': Scheme(shape=(1,), dtype=torch.float32),\n",
              " 'h2': Scheme(shape=(2,), dtype=torch.float32)}"
            ]
          },
          "metadata": {},
          "execution_count": 79
        }
      ]
    },
    {
      "cell_type": "markdown",
      "source": [
        "dgl.DGLGraph.srcnodes\n",
        "The srcnodes method of dgl.DGLGraph returns the source nodes of the edges in the graph as a tensor. "
      ],
      "metadata": {
        "id": "riYml3bklpD6"
      }
    },
    {
      "cell_type": "code",
      "source": [
        "g = dgl.heterograph({\n",
        "    ('user', 'plays', 'game'): (torch.tensor([0]), torch.tensor([1])),\n",
        "    ('developer', 'develops', 'game'): (torch.tensor([1]), torch.tensor([2]))\n",
        "})"
      ],
      "metadata": {
        "id": "V5glAsgSmtGz"
      },
      "execution_count": 80,
      "outputs": []
    },
    {
      "cell_type": "code",
      "source": [
        "g.srcnodes('user')\n",
        "g.srcnodes('developer')"
      ],
      "metadata": {
        "colab": {
          "base_uri": "https://localhost:8080/"
        },
        "id": "-7bZAQYPmxn0",
        "outputId": "6d798dff-a799-41e9-e1a5-66d4859347ff"
      },
      "execution_count": 81,
      "outputs": [
        {
          "output_type": "execute_result",
          "data": {
            "text/plain": [
              "tensor([0, 1])"
            ]
          },
          "metadata": {},
          "execution_count": 81
        }
      ]
    },
    {
      "cell_type": "code",
      "source": [
        "g.srcnodes['user'].data['h'] = torch.ones(1, 1)\n",
        "g.srcnodes['user'].data['h']"
      ],
      "metadata": {
        "colab": {
          "base_uri": "https://localhost:8080/"
        },
        "id": "ysrgqX2zAZIZ",
        "outputId": "d29b206f-2b80-4add-8885-c9256d7c7721"
      },
      "execution_count": 82,
      "outputs": [
        {
          "output_type": "execute_result",
          "data": {
            "text/plain": [
              "tensor([[1.]])"
            ]
          },
          "metadata": {},
          "execution_count": 82
        }
      ]
    },
    {
      "cell_type": "code",
      "source": [
        "g = dgl.heterograph({\n",
        "    ('user', 'follows', 'user'): (torch.tensor([0]), torch.tensor([1])),\n",
        "    ('developer', 'develops', 'game'): (torch.tensor([1]), torch.tensor([2]))\n",
        "})"
      ],
      "metadata": {
        "id": "3Z4P9e4TAZLm"
      },
      "execution_count": 83,
      "outputs": []
    },
    {
      "cell_type": "code",
      "source": [
        "g.srcnodes('game')"
      ],
      "metadata": {
        "colab": {
          "base_uri": "https://localhost:8080/"
        },
        "id": "_PGrLb38AZOl",
        "outputId": "9c4c185d-e5bb-4847-8a90-ead44462fc18"
      },
      "execution_count": 84,
      "outputs": [
        {
          "output_type": "execute_result",
          "data": {
            "text/plain": [
              "tensor([0, 1, 2])"
            ]
          },
          "metadata": {},
          "execution_count": 84
        }
      ]
    },
    {
      "cell_type": "code",
      "source": [
        "g.srcnodes['game'].data['h'] = torch.ones(3, 1)\n",
        "g.srcnodes['game'].data['h']"
      ],
      "metadata": {
        "colab": {
          "base_uri": "https://localhost:8080/"
        },
        "id": "lCKW2agNnRD7",
        "outputId": "4ef14cbb-c268-4a1e-87f8-d6363fb9abce"
      },
      "execution_count": 85,
      "outputs": [
        {
          "output_type": "execute_result",
          "data": {
            "text/plain": [
              "tensor([[1.],\n",
              "        [1.],\n",
              "        [1.]])"
            ]
          },
          "metadata": {},
          "execution_count": 85
        }
      ]
    },
    {
      "cell_type": "markdown",
      "source": [
        "dgl.DGLGraph.dstnodes\n",
        "\n",
        "The dstnodes method of dgl.DGLGraph returns the destination nodes of the edges in the graph as a tensor"
      ],
      "metadata": {
        "id": "EaCP4_UpoCem"
      }
    },
    {
      "cell_type": "code",
      "source": [
        "g = dgl.heterograph({\n",
        "    ('user', 'plays', 'game'): (torch.tensor([0]), torch.tensor([1])),\n",
        "    ('developer', 'develops', 'game'): (torch.tensor([1]), torch.tensor([2]))\n",
        "})"
      ],
      "metadata": {
        "id": "cneygfIdhGJn"
      },
      "execution_count": 86,
      "outputs": []
    },
    {
      "cell_type": "code",
      "source": [
        "g.dstnodes['game'].data['h'] = torch.ones(3, 1)\n",
        "g.dstnodes['game'].data['h']"
      ],
      "metadata": {
        "colab": {
          "base_uri": "https://localhost:8080/"
        },
        "id": "3M32y5IFhPhZ",
        "outputId": "234093af-af31-4df0-9bd2-a6973c6b0799"
      },
      "execution_count": 87,
      "outputs": [
        {
          "output_type": "execute_result",
          "data": {
            "text/plain": [
              "tensor([[1.],\n",
              "        [1.],\n",
              "        [1.]])"
            ]
          },
          "metadata": {},
          "execution_count": 87
        }
      ]
    },
    {
      "cell_type": "code",
      "source": [
        "g.dstnodes('game')"
      ],
      "metadata": {
        "colab": {
          "base_uri": "https://localhost:8080/"
        },
        "id": "RuTIJ0HXhKk9",
        "outputId": "9a30d562-f5d8-48fe-d81e-514ffeba30a8"
      },
      "execution_count": 88,
      "outputs": [
        {
          "output_type": "execute_result",
          "data": {
            "text/plain": [
              "tensor([0, 1, 2])"
            ]
          },
          "metadata": {},
          "execution_count": 88
        }
      ]
    },
    {
      "cell_type": "code",
      "source": [
        "g = dgl.heterograph({\n",
        "    ('user', 'follows', 'user'): (torch.tensor([0]), torch.tensor([1])),\n",
        "    ('developer', 'develops', 'game'): (torch.tensor([1]), torch.tensor([2]))\n",
        "})"
      ],
      "metadata": {
        "id": "eRG5T2nnhVvw"
      },
      "execution_count": 89,
      "outputs": []
    },
    {
      "cell_type": "code",
      "source": [
        "g.dstnodes('developer')"
      ],
      "metadata": {
        "colab": {
          "base_uri": "https://localhost:8080/"
        },
        "id": "lWyVxWL7hZER",
        "outputId": "c35dc06d-a593-4de3-c43d-6b067c7e8251"
      },
      "execution_count": 90,
      "outputs": [
        {
          "output_type": "execute_result",
          "data": {
            "text/plain": [
              "tensor([0, 1])"
            ]
          },
          "metadata": {},
          "execution_count": 90
        }
      ]
    },
    {
      "cell_type": "code",
      "source": [
        "g.dstnodes['developer'].data['h'] = torch.ones(2, 1)\n",
        "g.dstnodes['developer'].data['h']"
      ],
      "metadata": {
        "colab": {
          "base_uri": "https://localhost:8080/"
        },
        "id": "EXNPqLLWA3Hv",
        "outputId": "695b4198-3631-49e9-e0ad-eebc4ebe1899"
      },
      "execution_count": 91,
      "outputs": [
        {
          "output_type": "execute_result",
          "data": {
            "text/plain": [
              "tensor([[1.],\n",
              "        [1.]])"
            ]
          },
          "metadata": {},
          "execution_count": 91
        }
      ]
    },
    {
      "cell_type": "markdown",
      "source": [
        "dgl.DGLGraph.srcdata\n",
        "\n",
        "The srcdata method of dgl.DGLGraph returns the feature data associated with the source nodes of the edges in the graph."
      ],
      "metadata": {
        "id": "bovdg7BkoMn_"
      }
    },
    {
      "cell_type": "code",
      "source": [
        "g = dgl.heterograph({\n",
        "    ('user', 'plays', 'game'): (torch.tensor([0, 1]), torch.tensor([1, 2]))})\n",
        "g.srcdata['h'] = torch.ones(2, 1)\n",
        "g.srcdata['h']"
      ],
      "metadata": {
        "colab": {
          "base_uri": "https://localhost:8080/"
        },
        "id": "a3F0N4ArA3K3",
        "outputId": "aa375044-7298-4498-dde1-ec27e732f8d2"
      },
      "execution_count": 92,
      "outputs": [
        {
          "output_type": "execute_result",
          "data": {
            "text/plain": [
              "tensor([[1.],\n",
              "        [1.]])"
            ]
          },
          "metadata": {},
          "execution_count": 92
        }
      ]
    },
    {
      "cell_type": "code",
      "source": [
        "g = dgl.heterograph({\n",
        "    ('user', 'plays', 'game'): (torch.tensor([1, 2]), torch.tensor([3, 4])),\n",
        "    ('player', 'plays', 'game'): (torch.tensor([2, 2]), torch.tensor([1, 1]))\n",
        "})\n",
        "g.srcdata['h'] = {'user': torch.zeros(3, 1), 'player': torch.ones(3, 1)}\n",
        "g.srcdata['h']\n",
        "g.srcdata['h'] = {'user': torch.ones(3, 1)}\n",
        "g.srcdata['h']"
      ],
      "metadata": {
        "colab": {
          "base_uri": "https://localhost:8080/"
        },
        "id": "JxLyYkxPBSUO",
        "outputId": "dc84ca1d-66ad-42aa-c9c4-cac39c0a818e"
      },
      "execution_count": 93,
      "outputs": [
        {
          "output_type": "execute_result",
          "data": {
            "text/plain": [
              "{'player': tensor([[1.],\n",
              "         [1.],\n",
              "         [1.]]),\n",
              " 'user': tensor([[1.],\n",
              "         [1.],\n",
              "         [1.]])}"
            ]
          },
          "metadata": {},
          "execution_count": 93
        }
      ]
    },
    {
      "cell_type": "markdown",
      "source": [
        "dgl.DGLGraph.dstdata\n",
        "\n",
        "The dstdata method of dgl.DGLGraph returns the feature data associated with the destination nodes of the edges in the graph."
      ],
      "metadata": {
        "id": "sqpaNPPnozWz"
      }
    },
    {
      "cell_type": "code",
      "source": [
        "g = dgl.heterograph({\n",
        "    ('user', 'plays', 'game'): (torch.tensor([0, 1]), torch.tensor([1, 2]))})\n",
        "g.dstdata['h'] = torch.ones(3, 1)\n",
        "g.dstdata['h']"
      ],
      "metadata": {
        "colab": {
          "base_uri": "https://localhost:8080/"
        },
        "id": "EEfFKNOeBSXA",
        "outputId": "4c1d1f7c-5ad8-4db4-9cf2-0a03d3ff0b0a"
      },
      "execution_count": 94,
      "outputs": [
        {
          "output_type": "execute_result",
          "data": {
            "text/plain": [
              "tensor([[1.],\n",
              "        [1.],\n",
              "        [1.]])"
            ]
          },
          "metadata": {},
          "execution_count": 94
        }
      ]
    },
    {
      "cell_type": "code",
      "source": [
        "g = dgl.heterograph({\n",
        "    ('user', 'plays', 'game'): (torch.tensor([1, 2]), torch.tensor([1, 2])),\n",
        "    ('user', 'watches', 'movie'): (torch.tensor([2, 2]), torch.tensor([1, 1]))\n",
        "})\n",
        "g.dstdata['h'] = {'game': torch.zeros(3, 1), 'movie': torch.ones(2, 1)}\n",
        "g.dstdata['h']"
      ],
      "metadata": {
        "colab": {
          "base_uri": "https://localhost:8080/"
        },
        "id": "sIissEc-Bgeh",
        "outputId": "a9c419a2-487f-4aba-e594-92214d4ff794"
      },
      "execution_count": 95,
      "outputs": [
        {
          "output_type": "execute_result",
          "data": {
            "text/plain": [
              "{'game': tensor([[0.],\n",
              "         [0.],\n",
              "         [0.]]),\n",
              " 'movie': tensor([[1.],\n",
              "         [1.]])}"
            ]
          },
          "metadata": {},
          "execution_count": 95
        }
      ]
    },
    {
      "cell_type": "code",
      "source": [
        "g = dgl.heterograph({\n",
        "    ('user', 'plays', 'game'): (torch.tensor([1, 2]), torch.tensor([1, 2])),\n",
        "    ('user', 'watches', 'movie'): (torch.tensor([2, 2]), torch.tensor([1, 1]))\n",
        "})\n",
        "g.dstdata['h'] = {'game': torch.zeros(3, 1), 'movie': torch.ones(2, 1)}\n",
        "g.dstdata['h']\n",
        "g.dstdata['h'] = {'game': torch.ones(3, 1)}\n",
        "g.dstdata['h']"
      ],
      "metadata": {
        "colab": {
          "base_uri": "https://localhost:8080/"
        },
        "id": "pLh6--ekBSaK",
        "outputId": "6d0c340f-bf2b-4c1c-e531-805fb8c53912"
      },
      "execution_count": 96,
      "outputs": [
        {
          "output_type": "execute_result",
          "data": {
            "text/plain": [
              "{'game': tensor([[1.],\n",
              "         [1.],\n",
              "         [1.]]),\n",
              " 'movie': tensor([[1.],\n",
              "         [1.]])}"
            ]
          },
          "metadata": {},
          "execution_count": 96
        }
      ]
    },
    {
      "cell_type": "code",
      "source": [],
      "metadata": {
        "id": "DPPqSs5sAvok"
      },
      "execution_count": 96,
      "outputs": []
    },
    {
      "cell_type": "markdown",
      "source": [
        "##Transforming graph"
      ],
      "metadata": {
        "id": "yjnlqBMZBrMJ"
      }
    },
    {
      "cell_type": "markdown",
      "source": [
        "dgl.node_subgraph\n",
        "\n",
        "The dgl.node_subgraph function in DGL (Deep Graph Library) is used to create a subgraph consisting of a specified set of nodes and all the edges that connect them. The function takes in the following arguments:\n",
        "\n",
        "g: The input graph from which the subgraph is to be extracted.\n",
        "nodes: A list or tensor of node IDs that specifies the nodes in the subgraph.\n",
        "readonly: A boolean value that specifies if the subgraph should be read-only (default is True).\n",
        "ntype: A string specifying the node type of the input graph that should be used to create the subgraph (default is None).\n",
        "etype: A string or a tuple of strings specifying the edge types of the input graph that should be used to create the subgraph (default is None).\n",
        "store_ids: A boolean value that specifies if the node and edge IDs of the subgraph should be stored in the subgraph (default is True).\n",
        "The function returns a subgraph that contains all the edges of the input graph that connect the specified nodes. The subgraph is a DGLGraph object that supports many of the same operations as the input graph, but only contains the nodes and edges that are part of the subgraph.\n"
      ],
      "metadata": {
        "id": "ynyCBB5HADCs"
      }
    },
    {
      "cell_type": "code",
      "source": [
        "g = dgl.graph(([0, 1, 2, 3, 4], [1, 2, 3, 4, 0]))  # 5-node cycle\n",
        "sg = dgl.node_subgraph(g, [0, 1, 4])\n",
        "sg\n",
        "sg.edges()\n",
        "sg.ndata[dgl.NID]  # original node IDs\n",
        "sg.edata[dgl.EID]  # original edge IDs"
      ],
      "metadata": {
        "colab": {
          "base_uri": "https://localhost:8080/"
        },
        "id": "JUbLKczWGttE",
        "outputId": "632a0084-b180-4632-f054-7c9faaab43f1"
      },
      "execution_count": 97,
      "outputs": [
        {
          "output_type": "execute_result",
          "data": {
            "text/plain": [
              "tensor([0, 4])"
            ]
          },
          "metadata": {},
          "execution_count": 97
        }
      ]
    },
    {
      "cell_type": "code",
      "source": [
        "nodes = torch.tensor([True, True, False, False, True])  # choose nodes [0, 1, 4]\n",
        "dgl.node_subgraph(g, nodes)"
      ],
      "metadata": {
        "colab": {
          "base_uri": "https://localhost:8080/"
        },
        "id": "S_iaA_XPGvdy",
        "outputId": "14dcbddb-2996-4e9b-fe46-1c49ae1ae39e"
      },
      "execution_count": 98,
      "outputs": [
        {
          "output_type": "execute_result",
          "data": {
            "text/plain": [
              "Graph(num_nodes=3, num_edges=2,\n",
              "      ndata_schemes={'_ID': Scheme(shape=(), dtype=torch.int64)}\n",
              "      edata_schemes={'_ID': Scheme(shape=(), dtype=torch.int64)})"
            ]
          },
          "metadata": {},
          "execution_count": 98
        }
      ]
    },
    {
      "cell_type": "code",
      "source": [
        "g.ndata['x'] = torch.arange(10).view(5, 2)\n",
        "sg = dgl.node_subgraph(g, [0, 1, 4])\n",
        "sg\n",
        "sg.ndata['x']"
      ],
      "metadata": {
        "colab": {
          "base_uri": "https://localhost:8080/"
        },
        "id": "v-4a4PoPGvmP",
        "outputId": "23cc7b17-8f39-429b-ba53-1757244fef9c"
      },
      "execution_count": 99,
      "outputs": [
        {
          "output_type": "execute_result",
          "data": {
            "text/plain": [
              "tensor([[0, 1],\n",
              "        [2, 3],\n",
              "        [8, 9]])"
            ]
          },
          "metadata": {},
          "execution_count": 99
        }
      ]
    },
    {
      "cell_type": "code",
      "source": [
        "g = dgl.heterograph({\n",
        "    ('user', 'plays', 'game'): ([0, 1, 1, 2], [0, 0, 2, 1]),\n",
        "    ('user', 'follows', 'user'): ([0, 1, 1], [1, 2, 2])\n",
        "})\n",
        "sub_g = dgl.node_subgraph(g, {'user': [1, 2]})\n",
        "sub_g"
      ],
      "metadata": {
        "colab": {
          "base_uri": "https://localhost:8080/"
        },
        "id": "AbtuuYUaGvpO",
        "outputId": "5ae74b82-accb-4111-f466-6f823fc65c8d"
      },
      "execution_count": 100,
      "outputs": [
        {
          "output_type": "execute_result",
          "data": {
            "text/plain": [
              "Graph(num_nodes={'game': 0, 'user': 2},\n",
              "      num_edges={('user', 'follows', 'user'): 2, ('user', 'plays', 'game'): 0},\n",
              "      metagraph=[('user', 'user', 'follows'), ('user', 'game', 'plays')])"
            ]
          },
          "metadata": {},
          "execution_count": 100
        }
      ]
    },
    {
      "cell_type": "markdown",
      "source": [
        "dgl.edge_subgraph\n",
        "\n",
        "he dgl.edge_subgraph function in DGL (Deep Graph Library) is used to create a subgraph consisting of a specified set of edges and the nodes that are connected by those edges. The function takes in the following arguments:\n",
        "\n",
        "g: The input graph from which the subgraph is to be extracted.\n",
        "edges: A list or tensor of edge IDs that specifies the edges in the subgraph.\n",
        "readonly: A boolean value that specifies if the subgraph should be read-only (default is True).\n",
        "store_ids: A boolean value that specifies if the node and edge IDs of the subgraph should be stored in the subgraph (default is True).\n",
        "The function returns a subgraph that contains the specified edges and all the nodes that are connected by those edges. The subgraph is a DGLGraph object that supports many of the same operations as the input graph, but only contains the nodes and edges that are part of the subgraph.\n",
        " the subgraph is created as a view of the input graph, which means that any changes made to the subgraph will be reflected in the input graph as well."
      ],
      "metadata": {
        "id": "5wc_G7yjALUO"
      }
    },
    {
      "cell_type": "code",
      "source": [
        "g = dgl.graph(([0, 1, 2, 3, 4], [1, 2, 3, 4, 0]))  # 5-node cycle\n",
        "sg = dgl.edge_subgraph(g, [0, 4])\n",
        "sg\n",
        "sg.edges()\n",
        "sg.ndata[dgl.NID]  # original node IDs\n",
        "sg.edata[dgl.EID]  # original edge IDs"
      ],
      "metadata": {
        "colab": {
          "base_uri": "https://localhost:8080/"
        },
        "id": "2DgXygORHC9M",
        "outputId": "d3b3ee08-2977-420b-8278-acd042afc92e"
      },
      "execution_count": 101,
      "outputs": [
        {
          "output_type": "execute_result",
          "data": {
            "text/plain": [
              "tensor([0, 4])"
            ]
          },
          "metadata": {},
          "execution_count": 101
        }
      ]
    },
    {
      "cell_type": "code",
      "source": [
        "sg = dgl.edge_subgraph(g, [0, 4], relabel_nodes=False)\n",
        "sg\n",
        "sg.edges()"
      ],
      "metadata": {
        "id": "PdzwY30MHC_7",
        "colab": {
          "base_uri": "https://localhost:8080/"
        },
        "outputId": "54393976-f413-4356-f44a-728e28a45bab"
      },
      "execution_count": 102,
      "outputs": [
        {
          "output_type": "execute_result",
          "data": {
            "text/plain": [
              "(tensor([0, 4]), tensor([1, 0]))"
            ]
          },
          "metadata": {},
          "execution_count": 102
        }
      ]
    },
    {
      "cell_type": "code",
      "source": [
        "nodes = torch.tensor([True, False, False, False, True])  # choose edges [0, 4]\n",
        "dgl.edge_subgraph(g, nodes)"
      ],
      "metadata": {
        "colab": {
          "base_uri": "https://localhost:8080/"
        },
        "id": "kj-ls5rFHDC7",
        "outputId": "bd71eec0-1f3d-4fd9-f669-2f6c9b02a376"
      },
      "execution_count": 103,
      "outputs": [
        {
          "output_type": "execute_result",
          "data": {
            "text/plain": [
              "Graph(num_nodes=3, num_edges=2,\n",
              "      ndata_schemes={'_ID': Scheme(shape=(), dtype=torch.int64)}\n",
              "      edata_schemes={'_ID': Scheme(shape=(), dtype=torch.int64)})"
            ]
          },
          "metadata": {},
          "execution_count": 103
        }
      ]
    },
    {
      "cell_type": "code",
      "source": [
        "g.ndata['x'] = torch.arange(10).view(5, 2)\n",
        "sg = dgl.edge_subgraph(g, [0, 4])\n",
        "sg\n",
        "sg.ndata[dgl.NID]\n",
        "sg.ndata['x']"
      ],
      "metadata": {
        "colab": {
          "base_uri": "https://localhost:8080/"
        },
        "id": "QnGG1P1jHk4s",
        "outputId": "4350e709-d135-4c94-d2f0-b6489b5de31e"
      },
      "execution_count": 104,
      "outputs": [
        {
          "output_type": "execute_result",
          "data": {
            "text/plain": [
              "tensor([[0, 1],\n",
              "        [8, 9],\n",
              "        [2, 3]])"
            ]
          },
          "metadata": {},
          "execution_count": 104
        }
      ]
    },
    {
      "cell_type": "code",
      "source": [
        "g = dgl.heterograph({\n",
        "    ('user', 'plays', 'game'): ([0, 1, 1, 2], [0, 0, 2, 1]),\n",
        "    ('user', 'follows', 'user'): ([0, 1, 1], [1, 2, 2])\n",
        "})\n",
        "sub_g = dgl.edge_subgraph(g, {('user', 'follows', 'user'): [1, 2],\n",
        "                              ('user', 'plays', 'game'): [2]})\n",
        "print(sub_g)"
      ],
      "metadata": {
        "colab": {
          "base_uri": "https://localhost:8080/"
        },
        "id": "wNHm2NzTHk7k",
        "outputId": "e5e78a49-7682-4b1c-f93e-5b96050c8697"
      },
      "execution_count": 105,
      "outputs": [
        {
          "output_type": "stream",
          "name": "stdout",
          "text": [
            "Graph(num_nodes={'game': 1, 'user': 2},\n",
            "      num_edges={('user', 'follows', 'user'): 2, ('user', 'plays', 'game'): 1},\n",
            "      metagraph=[('user', 'user', 'follows'), ('user', 'game', 'plays')])\n"
          ]
        }
      ]
    },
    {
      "cell_type": "markdown",
      "source": [
        "dgl.node_type_subgraph\n",
        "\n",
        "the  dgl.node_type_subgraph function in DGL (Deep Graph Library) is used to create a subgraph consisting of nodes of a specified node type and all the edges that connect them. The function takes in the following arguments:\n",
        "\n",
        "g: The input graph from which the subgraph is to be extracted.\n",
        "ntype: A string specifying the node type of the input graph that should be used to create the subgraph.\n",
        "readonly: A boolean value that specifies if the subgraph should be read-only (default is True).\n",
        "store_ids: A boolean value that specifies if the node and edge IDs of the subgraph should be stored in the subgraph (default is True).\n",
        "The function returns a subgraph that contains all the edges of the input graph that connect nodes of the specified type. The subgraph is a DGLGraph object that supports many of the same operations as the input graph, but only contains the nodes and edges that are part of the subgraph."
      ],
      "metadata": {
        "id": "3GfdI2jnBdST"
      }
    },
    {
      "cell_type": "code",
      "source": [
        "g = dgl.heterograph({\n",
        "    ('user', 'plays', 'game'): ([0, 1, 1, 2], [0, 0, 2, 1]),\n",
        "    ('user', 'follows', 'user'): ([0, 1, 1], [1, 2, 2])\n",
        "})\n",
        "# Set node features\n",
        "g.nodes['user'].data['h'] = torch.tensor([[0.], [1.], [2.]])"
      ],
      "metadata": {
        "id": "h2Ik2NklBs6g"
      },
      "execution_count": 106,
      "outputs": []
    },
    {
      "cell_type": "code",
      "source": [
        "sub_g = g.node_type_subgraph(['user'])\n",
        "print(sub_g)"
      ],
      "metadata": {
        "colab": {
          "base_uri": "https://localhost:8080/"
        },
        "id": "-7hu8mPMBs9v",
        "outputId": "a9d9cc43-f430-49b7-e443-2c6ff5567817"
      },
      "execution_count": 107,
      "outputs": [
        {
          "output_type": "stream",
          "name": "stdout",
          "text": [
            "Graph(num_nodes=3, num_edges=3,\n",
            "      ndata_schemes={'h': Scheme(shape=(1,), dtype=torch.float32)}\n",
            "      edata_schemes={})\n"
          ]
        }
      ]
    },
    {
      "cell_type": "code",
      "source": [
        "sub_g.nodes['user'].data['h']"
      ],
      "metadata": {
        "colab": {
          "base_uri": "https://localhost:8080/"
        },
        "id": "vf3ynxc-BtBH",
        "outputId": "954d086e-d86c-4e53-9ad5-4fda0fc4a50f"
      },
      "execution_count": 108,
      "outputs": [
        {
          "output_type": "execute_result",
          "data": {
            "text/plain": [
              "tensor([[0.],\n",
              "        [1.],\n",
              "        [2.]])"
            ]
          },
          "metadata": {},
          "execution_count": 108
        }
      ]
    },
    {
      "cell_type": "markdown",
      "source": [
        "dgl.edge_type_subgraph"
      ],
      "metadata": {
        "id": "Hba4f0U7CE1b"
      }
    },
    {
      "cell_type": "code",
      "source": [
        "g = dgl.heterograph({\n",
        "    ('user', 'plays', 'game'): ([0, 1, 1, 2], [0, 0, 2, 1]),\n",
        "    ('user', 'follows', 'user'): ([0, 1, 1], [1, 2, 2])\n",
        "})\n",
        "# Set edge features\n",
        "g.edges['follows'].data['h'] = torch.tensor([[0.], [1.], [2.]])"
      ],
      "metadata": {
        "id": "BNsxWOLOBtEI"
      },
      "execution_count": 109,
      "outputs": []
    },
    {
      "cell_type": "code",
      "source": [
        "sub_g = g.edge_type_subgraph(['follows'])\n",
        "sub_g"
      ],
      "metadata": {
        "colab": {
          "base_uri": "https://localhost:8080/"
        },
        "id": "L-ONHuI6BtHP",
        "outputId": "5d7fedde-000d-465b-9d84-0c28b7e1391d"
      },
      "execution_count": 110,
      "outputs": [
        {
          "output_type": "execute_result",
          "data": {
            "text/plain": [
              "Graph(num_nodes=3, num_edges=3,\n",
              "      ndata_schemes={}\n",
              "      edata_schemes={'h': Scheme(shape=(1,), dtype=torch.float32)})"
            ]
          },
          "metadata": {},
          "execution_count": 110
        }
      ]
    },
    {
      "cell_type": "code",
      "source": [
        "sub_g.edges['follows'].data['h']"
      ],
      "metadata": {
        "colab": {
          "base_uri": "https://localhost:8080/"
        },
        "id": "9Hnpk_ggBtKh",
        "outputId": "4b97f58d-c29b-4f48-80bf-b6c66bf2b7a9"
      },
      "execution_count": 111,
      "outputs": [
        {
          "output_type": "execute_result",
          "data": {
            "text/plain": [
              "tensor([[0.],\n",
              "        [1.],\n",
              "        [2.]])"
            ]
          },
          "metadata": {},
          "execution_count": 111
        }
      ]
    },
    {
      "cell_type": "markdown",
      "source": [
        "dgl.DGLGraph.__getitem__\n",
        "\n",
        "The __getitem__ method in DGL (Deep Graph Library) is used to access nodes or edges of a graph using indexing syntax. This method allows you to select a subset of the nodes or edges from a graph by specifying their IDs or indices."
      ],
      "metadata": {
        "id": "t72V0YJOCkEE"
      }
    },
    {
      "cell_type": "code",
      "source": [
        "g = dgl.heterograph({\n",
        "    ('A1', 'AB1', 'B'): ([0, 1, 2], [1, 2, 3]),\n",
        "    ('A1', 'AB2', 'B'): ([1, 2, 3], [3, 4, 5]),\n",
        "    ('A2', 'AB2', 'B'): ([1, 3, 5], [2, 4, 6])})\n",
        "new_g = g['A1', :, 'B']         # combines all edge types between A1 and B\n",
        "new_g\n",
        "new_g.edges()\n",
        "new_g2 = g[:, 'AB2', 'B']        # combines all node types that are source of AB2\n",
        "new_g2\n",
        "new_g2.edges()"
      ],
      "metadata": {
        "colab": {
          "base_uri": "https://localhost:8080/"
        },
        "id": "q5lFh_8xKpPJ",
        "outputId": "c22484da-2b3f-4661-b4ac-dab2ab6c698f"
      },
      "execution_count": 112,
      "outputs": [
        {
          "output_type": "execute_result",
          "data": {
            "text/plain": [
              "(tensor([1, 2, 3, 5, 7, 9]), tensor([3, 4, 5, 2, 4, 6]))"
            ]
          },
          "metadata": {},
          "execution_count": 112
        }
      ]
    },
    {
      "cell_type": "code",
      "source": [
        "g = dgl.heterograph({\n",
        "    ('A1', 'AB1', 'B'): ([0, 1, 2], [1, 2, 3]),\n",
        "    ('A1', 'AB2', 'B'): ([1, 2, 3], [3, 4, 5]),\n",
        "    ('A2', 'AB2', 'B'): ([1, 3, 5], [2, 4, 6])})\n",
        "new_g1 = g['A1', :, 'B']         # combines all edge types between A1 and B\n",
        "new_g1\n",
        "new_g.edges()\n",
        "new_g2 = g[:, 'AB2', 'B']        # combines all node types that are source of AB2\n",
        "new_g2\n",
        "new_g2.edges()"
      ],
      "metadata": {
        "colab": {
          "base_uri": "https://localhost:8080/"
        },
        "id": "UparhlRvMo3t",
        "outputId": "b9b26092-4f78-486c-b1f3-98bf87a913d1"
      },
      "execution_count": 113,
      "outputs": [
        {
          "output_type": "execute_result",
          "data": {
            "text/plain": [
              "(tensor([1, 2, 3, 5, 7, 9]), tensor([3, 4, 5, 2, 4, 6]))"
            ]
          },
          "metadata": {},
          "execution_count": 113
        }
      ]
    },
    {
      "cell_type": "code",
      "source": [
        "new_g1.edges['AB1+AB2'].data[dgl.EID]\n"
      ],
      "metadata": {
        "colab": {
          "base_uri": "https://localhost:8080/"
        },
        "id": "916Jfk8NMo-B",
        "outputId": "9d6515a5-809d-4bc2-f069-28d6309eda9f"
      },
      "execution_count": 114,
      "outputs": [
        {
          "output_type": "execute_result",
          "data": {
            "text/plain": [
              "tensor([0, 1, 2, 0, 1, 2])"
            ]
          },
          "metadata": {},
          "execution_count": 114
        }
      ]
    },
    {
      "cell_type": "code",
      "source": [
        "new_g1.edges['AB1+AB2'].data[dgl.ETYPE]"
      ],
      "metadata": {
        "colab": {
          "base_uri": "https://localhost:8080/"
        },
        "id": "hP5H29k4MzO-",
        "outputId": "d5f06e1f-e2d4-4e87-d271-96474cdfa476"
      },
      "execution_count": 115,
      "outputs": [
        {
          "output_type": "execute_result",
          "data": {
            "text/plain": [
              "tensor([0, 0, 0, 1, 1, 1])"
            ]
          },
          "metadata": {},
          "execution_count": 115
        }
      ]
    },
    {
      "cell_type": "code",
      "source": [
        "\n",
        "new_g2.nodes['A1+A2'].data[dgl.NID]\n"
      ],
      "metadata": {
        "colab": {
          "base_uri": "https://localhost:8080/"
        },
        "id": "RmxgUN9XKrd8",
        "outputId": "424f781b-05ca-47dd-bb50-1e74906d9efc"
      },
      "execution_count": 116,
      "outputs": [
        {
          "output_type": "execute_result",
          "data": {
            "text/plain": [
              "tensor([0, 1, 2, 3, 0, 1, 2, 3, 4, 5])"
            ]
          },
          "metadata": {},
          "execution_count": 116
        }
      ]
    },
    {
      "cell_type": "code",
      "source": [
        "new_g2.nodes['A1+A2'].data[dgl.NTYPE]"
      ],
      "metadata": {
        "colab": {
          "base_uri": "https://localhost:8080/"
        },
        "id": "Uh3FrjqwMq1Y",
        "outputId": "afd8276a-5652-4915-a3f4-c5b9f4dfdfad"
      },
      "execution_count": 117,
      "outputs": [
        {
          "output_type": "execute_result",
          "data": {
            "text/plain": [
              "tensor([0, 0, 0, 0, 1, 1, 1, 1, 1, 1])"
            ]
          },
          "metadata": {},
          "execution_count": 117
        }
      ]
    },
    {
      "cell_type": "code",
      "source": [
        "import dgl\n",
        "g = dgl.graph(([0, 1, 2, 3, 4, 0, 1, 2, 3, 4], [1, 2, 3, 4, 0, 4, 0, 1, 2, 3]))\n",
        "dgl.laplacian_lambda_max(g)"
      ],
      "metadata": {
        "colab": {
          "base_uri": "https://localhost:8080/"
        },
        "id": "gqo4gsCKN0Rd",
        "outputId": "e1b50805-c85a-406f-f195-f7f9608c0f50"
      },
      "execution_count": 118,
      "outputs": [
        {
          "output_type": "execute_result",
          "data": {
            "text/plain": [
              "[1.8090169943749477]"
            ]
          },
          "metadata": {},
          "execution_count": 118
        }
      ]
    },
    {
      "cell_type": "code",
      "source": [
        "import dgl\n",
        "g = dgl.graph(([0,1,2,3,4,0,1,2,3,4], [0,1,2,3,4,1,2,3,4,0]))\n",
        "dgl.khop_graph(g, 1)\n",
        "dgl.khop_graph(g, 3)"
      ],
      "metadata": {
        "colab": {
          "base_uri": "https://localhost:8080/"
        },
        "id": "kM8PbtHHOA_B",
        "outputId": "82a0f3a2-751d-4b16-ba8f-f333ffa55ec6"
      },
      "execution_count": 119,
      "outputs": [
        {
          "output_type": "execute_result",
          "data": {
            "text/plain": [
              "Graph(num_nodes=5, num_edges=40,\n",
              "      ndata_schemes={}\n",
              "      edata_schemes={})"
            ]
          },
          "metadata": {},
          "execution_count": 119
        }
      ]
    },
    {
      "cell_type": "markdown",
      "source": [
        "dgl.line_graph\n",
        "\n",
        "The dgl.line_graph function in DGL (Deep Graph Library) is used to create a new graph where the nodes represent edges in the original graph and edges represent connections between those edges. The function takes in the following arguments:\n",
        "\n",
        "g: The input graph from which the line graph is to be created.\n",
        "backtracking: A boolean value that specifies if backtracking edges should be added to the line graph (default is False).\n",
        "shared: A boolean value that specifies if the node and edge features of the input graph should be shared by the line graph (default is False).\n",
        "The function returns a new graph that represents the line graph of the input graph. The nodes of the line graph are the edges of the input graph, and the edges of the line graph represent connections between those edges in the original graph.\n"
      ],
      "metadata": {
        "id": "FlgJghSuC_7O"
      }
    },
    {
      "cell_type": "code",
      "source": [
        "A = [[0, 0, 1],\n",
        "     [1, 0, 1],\n",
        "     [1, 1, 0]]"
      ],
      "metadata": {
        "id": "lgT5wG9bNCU1"
      },
      "execution_count": 120,
      "outputs": []
    },
    {
      "cell_type": "code",
      "source": [
        "# g = dgl.graph(([0, 1, 1, 2, 2],[2, 0, 2, 0, 1]), 'user', 'follows')\n",
        "# lg = g.line_graph()\n",
        "# lg\n",
        "# lg.edges()\n",
        "# lg = g.line_graph(backtracking=False)\n",
        "# lg\n",
        "# lg.edges()"
      ],
      "metadata": {
        "id": "cVxnYy9jOYTz"
      },
      "execution_count": 121,
      "outputs": []
    },
    {
      "cell_type": "code",
      "source": [
        "import dgl\n",
        "\n",
        "g = dgl.graph(([0, 1, 1, 2, 2], [2, 0, 2, 0, 1]))\n",
        "lg = g.line_graph()\n",
        "print(lg.edges())\n",
        "\n",
        "lg = g.line_graph(backtracking=False)\n",
        "print(lg.edges())"
      ],
      "metadata": {
        "colab": {
          "base_uri": "https://localhost:8080/"
        },
        "id": "vxAaAq9VjbNM",
        "outputId": "4fd27b96-60b7-4d22-de59-d04fe543cdb9"
      },
      "execution_count": 122,
      "outputs": [
        {
          "output_type": "stream",
          "name": "stdout",
          "text": [
            "(tensor([0, 0, 1, 2, 2, 3, 4, 4]), tensor([3, 4, 0, 3, 4, 0, 1, 2]))\n",
            "(tensor([0, 1, 2, 4]), tensor([4, 0, 3, 1]))\n"
          ]
        }
      ]
    },
    {
      "cell_type": "markdown",
      "source": [
        "dgl.reverse\n",
        "\n",
        "The dgl.reverse function in DGL (Deep Graph Library) is used to reverse the direction of all edges in a given graph. The function takes in the following arguments:\n",
        "\n",
        "g: The input graph to be reversed.\n",
        "The function returns a new graph that is the reverse of the input graph, with all edges pointing in the opposite direction."
      ],
      "metadata": {
        "id": "Xa-PliVFDKUN"
      }
    },
    {
      "cell_type": "code",
      "source": [
        "import dgl\n",
        "import torch as th\n",
        "g = dgl.graph((th.tensor([0, 1, 2]), th.tensor([1, 2, 0])))\n",
        "g.ndata['h'] = th.tensor([[0.], [1.], [2.]])\n",
        "g.edata['h'] = th.tensor([[3.], [4.], [5.]])"
      ],
      "metadata": {
        "id": "-_GllHCnP1JF"
      },
      "execution_count": 123,
      "outputs": []
    },
    {
      "cell_type": "code",
      "source": [
        "rg = dgl.reverse(g, copy_edata=True)\n",
        "rg.ndata['h']"
      ],
      "metadata": {
        "colab": {
          "base_uri": "https://localhost:8080/"
        },
        "id": "4vLeDBnXP1L_",
        "outputId": "26f1a77f-c84a-4c11-8a0c-a7417240dbad"
      },
      "execution_count": 124,
      "outputs": [
        {
          "output_type": "execute_result",
          "data": {
            "text/plain": [
              "tensor([[0.],\n",
              "        [1.],\n",
              "        [2.]])"
            ]
          },
          "metadata": {},
          "execution_count": 124
        }
      ]
    },
    {
      "cell_type": "code",
      "source": [
        "rg.edges()\n",
        "rg.edata['h']"
      ],
      "metadata": {
        "colab": {
          "base_uri": "https://localhost:8080/"
        },
        "id": "4E0AcHCeP1O4",
        "outputId": "cc2d67ce-666b-47a3-f703-b1c0607ed7bb"
      },
      "execution_count": 125,
      "outputs": [
        {
          "output_type": "execute_result",
          "data": {
            "text/plain": [
              "tensor([[3.],\n",
              "        [4.],\n",
              "        [5.]])"
            ]
          },
          "metadata": {},
          "execution_count": 125
        }
      ]
    },
    {
      "cell_type": "code",
      "source": [
        "g = dgl.heterograph({\n",
        "    ('user', 'follows', 'user'): (th.tensor([0, 2]), th.tensor([1, 2])),\n",
        "    ('user', 'plays', 'game'): (th.tensor([1, 2, 1]), th.tensor([2, 1, 1]))\n",
        "})\n",
        "g.nodes['game'].data['hv'] = th.ones(3, 1)\n",
        "g.edges['plays'].data['he'] = th.zeros(3, 1)"
      ],
      "metadata": {
        "id": "kJ7Qb9xiP8UJ"
      },
      "execution_count": 126,
      "outputs": []
    },
    {
      "cell_type": "code",
      "source": [
        "rg = dgl.reverse(g, copy_ndata=True)\n",
        "rg\n",
        "rg.edges(etype='follows')\n",
        "rg.edges(etype='plays')\n",
        "rg.nodes['game'].data['hv']\n",
        "rg.edges['plays'].data"
      ],
      "metadata": {
        "colab": {
          "base_uri": "https://localhost:8080/"
        },
        "id": "OAJ4UvheP8XE",
        "outputId": "14044a89-4a2d-443f-d312-9874a75878df"
      },
      "execution_count": 127,
      "outputs": [
        {
          "output_type": "execute_result",
          "data": {
            "text/plain": [
              "{}"
            ]
          },
          "metadata": {},
          "execution_count": 127
        }
      ]
    },
    {
      "cell_type": "markdown",
      "source": [
        "dgl.add_self_loop\n",
        "\n",
        "The dgl.add_self_loop function in DGL (Deep Graph Library) is used to add self-loops to a given graph. A self-loop is an edge that connects a node to itself.\n",
        "\n",
        "The function takes in the following arguments:\n",
        "\n",
        "g: The input graph to which self-loops are to be added.\n",
        "etid: An optional integer or a list of integers specifying the edge type IDs of the self-loops to be added (default is None, which adds self-loops for all edge types in the graph).\n",
        "The function modifies the input graph by adding self-loops to it. If the input graph already contains self-loops, the function adds additional self-loops on top of them."
      ],
      "metadata": {
        "id": "eZCYDEYdFNse"
      }
    },
    {
      "cell_type": "code",
      "source": [
        "g = dgl.graph((torch.tensor([0, 0, 2]), torch.tensor([2, 1, 0])))\n",
        "g.ndata['hv'] = torch.arange(3).float().reshape(-1, 1)\n",
        "g.edata['he'] = torch.arange(3).float().reshape(-1, 1)\n",
        "g = dgl.add_self_loop(g, fill_data='sum')\n",
        "g\n",
        "g.edata['he']"
      ],
      "metadata": {
        "colab": {
          "base_uri": "https://localhost:8080/"
        },
        "id": "_asBRhYpP8aD",
        "outputId": "55f8eee6-5eb9-49c8-aa0f-29019a259ff4"
      },
      "execution_count": 128,
      "outputs": [
        {
          "output_type": "stream",
          "name": "stderr",
          "text": [
            "/usr/local/lib/python3.10/dist-packages/dgl/backend/pytorch/tensor.py:449: UserWarning: TypedStorage is deprecated. It will be removed in the future and UntypedStorage will be the only storage class. This should only matter to you if you are using storages directly.  To access UntypedStorage directly, use tensor.untyped_storage() instead of tensor.storage()\n",
            "  assert input.numel() == input.storage().size(), (\n"
          ]
        },
        {
          "output_type": "execute_result",
          "data": {
            "text/plain": [
              "tensor([[0.],\n",
              "        [1.],\n",
              "        [2.],\n",
              "        [2.],\n",
              "        [1.],\n",
              "        [0.]])"
            ]
          },
          "metadata": {},
          "execution_count": 128
        }
      ]
    },
    {
      "cell_type": "code",
      "source": [
        "g = dgl.heterograph({\n",
        "    ('user', 'follows', 'user'): (torch.tensor([1, 2]),\n",
        "                                  torch.tensor([0, 1])),\n",
        "    ('user', 'plays', 'game'): (torch.tensor([0, 1]),\n",
        "                                torch.tensor([0, 1]))})\n",
        "g = dgl.add_self_loop(g, etype='follows')\n",
        "g"
      ],
      "metadata": {
        "colab": {
          "base_uri": "https://localhost:8080/"
        },
        "id": "l6VbW0rdQd8g",
        "outputId": "90a461ae-7dae-4e65-9e69-55ef7eaf60bb"
      },
      "execution_count": 129,
      "outputs": [
        {
          "output_type": "execute_result",
          "data": {
            "text/plain": [
              "Graph(num_nodes={'game': 2, 'user': 3},\n",
              "      num_edges={('user', 'follows', 'user'): 5, ('user', 'plays', 'game'): 2},\n",
              "      metagraph=[('user', 'user', 'follows'), ('user', 'game', 'plays')])"
            ]
          },
          "metadata": {},
          "execution_count": 129
        }
      ]
    },
    {
      "cell_type": "markdown",
      "source": [
        "dgl.remove_self_loop\n",
        "\n",
        "The dgl.remove_self_loop function in DGL (Deep Graph Library) is used to remove self-loops from a given graph. A self-loop is an edge that connects a node to itself.\n",
        "\n",
        "The function takes in the following arguments:\n",
        "\n",
        "g: The input graph from which self-loops are to be removed.\n",
        "etid: An optional integer or a list of integers specifying the edge type IDs of the self-loops to be removed (default is None, which removes self-loops for all edge types in the graph).\n",
        "The function modifies the input graph by removing self-loops from it. If the input graph does not contain any self-loops, the function does not modify the graph."
      ],
      "metadata": {
        "id": "Qhdk3FmYFyqs"
      }
    },
    {
      "cell_type": "code",
      "source": [
        "g = dgl.graph((torch.tensor([0, 0, 0, 1]), torch.tensor([1, 0, 0, 2])))\n",
        "g.edata['he'] = torch.arange(4).float().reshape(-1, 1)\n",
        "g = dgl.remove_self_loop(g)\n",
        "g\n",
        "g.edata['he']"
      ],
      "metadata": {
        "colab": {
          "base_uri": "https://localhost:8080/"
        },
        "id": "X1xhLCy6Qd_Y",
        "outputId": "4a7b71b6-6ce4-40fb-b14b-a89530a3bd6a"
      },
      "execution_count": 130,
      "outputs": [
        {
          "output_type": "execute_result",
          "data": {
            "text/plain": [
              "tensor([[0.],\n",
              "        [3.]])"
            ]
          },
          "metadata": {},
          "execution_count": 130
        }
      ]
    },
    {
      "cell_type": "code",
      "source": [
        "g = dgl.heterograph({\n",
        "    ('user', 'follows', 'user'): (torch.tensor([0, 1, 1, 1, 2]),\n",
        "                                  torch.tensor([0, 0, 1, 1, 1])),\n",
        "    ('user', 'plays', 'game'): (torch.tensor([0, 1]),\n",
        "                                torch.tensor([0, 1]))\n",
        "    })\n",
        "g = dgl.remove_self_loop(g, etype='follows')\n",
        "g.num_nodes('user')\n",
        "g.num_nodes('game')\n",
        "g.num_edges('follows')\n",
        "g.num_edges('plays')"
      ],
      "metadata": {
        "colab": {
          "base_uri": "https://localhost:8080/"
        },
        "id": "5TkBLVGQQeCT",
        "outputId": "74c51b21-fe83-4343-e0c9-cdde52aa8718"
      },
      "execution_count": 131,
      "outputs": [
        {
          "output_type": "execute_result",
          "data": {
            "text/plain": [
              "2"
            ]
          },
          "metadata": {},
          "execution_count": 131
        }
      ]
    },
    {
      "cell_type": "markdown",
      "source": [
        "dgl.to_simple\n",
        "\n",
        "The dgl.to_simple function in DGL (Deep Graph Library) is used to convert a given graph to a simple graph, which is a graph that does not contain multiple edges between the same pair of nodes or self-loops.\n",
        "\n",
        "The function takes in the following arguments:\n",
        "\n",
        "g: The input graph to be converted to a simple graph.\n",
        "The function returns a new graph that is a simple version of the input graph, with multiple edges between the same pair of nodes and self-loops removed."
      ],
      "metadata": {
        "id": "JZHcWAC9GOMC"
      }
    },
    {
      "cell_type": "code",
      "source": [
        "import dgl\n",
        "import torch as th\n",
        "g = dgl.graph((th.tensor([0, 1, 2, 1]), th.tensor([1, 2, 0, 2])))\n",
        "g.ndata['h'] = th.tensor([[0.], [1.], [2.]])\n",
        "g.edata['h'] = th.tensor([[3.], [4.], [5.], [6.]])"
      ],
      "metadata": {
        "id": "zIpKayoXQeFR"
      },
      "execution_count": 132,
      "outputs": []
    },
    {
      "cell_type": "code",
      "source": [
        "sg, wm = dgl.to_simple(g, return_counts='cnt', writeback_mapping=True)\n",
        "sg.ndata['h']\n",
        "u, v, eid = sg.edges(form='all')\n",
        "u\n",
        "v\n",
        "eid\n",
        "sg.edata['cnt']\n",
        "wm\n",
        "'h' in g.edata"
      ],
      "metadata": {
        "colab": {
          "base_uri": "https://localhost:8080/"
        },
        "id": "5Z50ZY7dRI_a",
        "outputId": "77751872-4ce0-4c0f-9ffc-3f54302a651d"
      },
      "execution_count": 133,
      "outputs": [
        {
          "output_type": "execute_result",
          "data": {
            "text/plain": [
              "True"
            ]
          },
          "metadata": {},
          "execution_count": 133
        }
      ]
    },
    {
      "cell_type": "code",
      "source": [
        "g = dgl.heterograph({\n",
        "    ('user', 'wins', 'user'): (th.tensor([0, 2, 0, 2, 2]), th.tensor([1, 1, 2, 1, 0])),\n",
        "    ('user', 'plays', 'game'): (th.tensor([1, 2, 1]), th.tensor([2, 1, 1]))\n",
        "})\n",
        "g.nodes['game'].data['hv'] = th.ones(3, 1)\n",
        "g.edges['plays'].data['he'] = th.zeros(3, 1)"
      ],
      "metadata": {
        "id": "YEtoJ_r2QeID"
      },
      "execution_count": 134,
      "outputs": []
    },
    {
      "cell_type": "code",
      "source": [
        "sg, wm = dgl.to_simple(g, copy_ndata=False, writeback_mapping=True)\n",
        "sg\n",
        "sg.edges(etype='wins')\n",
        "wm[('user', 'wins', 'user')]\n",
        "sg.edges(etype='plays')\n",
        "wm[('user', 'plays', 'game')]\n",
        "'hv' in sg.nodes['game'].data\n",
        "'he' in sg.edges['plays'].data\n",
        "sg.edata['count']"
      ],
      "metadata": {
        "colab": {
          "base_uri": "https://localhost:8080/"
        },
        "id": "BXN_2TR7ROMw",
        "outputId": "7083b384-b0b1-42d3-a819-1caa99f75df3"
      },
      "execution_count": 135,
      "outputs": [
        {
          "output_type": "execute_result",
          "data": {
            "text/plain": [
              "{('user', 'plays', 'game'): tensor([1, 1, 1]),\n",
              " ('user', 'wins', 'user'): tensor([1, 1, 1, 2])}"
            ]
          },
          "metadata": {},
          "execution_count": 135
        }
      ]
    },
    {
      "cell_type": "markdown",
      "source": [
        "dgl.DGLGraph.to_cugraph\n",
        "\n",
        "The to_cugraph function in DGL (Deep Graph Library) is used to convert a DGLGraph object to a CuGraph object. CuGraph is a graph analytics library that runs on NVIDIA GPUs and provides a set of graph algorithms that can be used to analyze large graphs efficiently.\n",
        "\n",
        "The to_cugraph function takes no arguments and returns a new CuGraph object that represents the same graph as the DGLGraph object."
      ],
      "metadata": {
        "id": "z8prhVOaIB0E"
      }
    },
    {
      "cell_type": "code",
      "source": [
        "import os\n",
        "os.environ['PATH'] += \":/usr/local/bin\""
      ],
      "metadata": {
        "id": "1T2fJUitpBAh"
      },
      "execution_count": 136,
      "outputs": []
    },
    {
      "cell_type": "code",
      "source": [
        "!pip install cugraph"
      ],
      "metadata": {
        "colab": {
          "base_uri": "https://localhost:8080/"
        },
        "id": "xZfh3s-SSLMe",
        "outputId": "8fffde57-f436-4155-cc07-edcf25c83009"
      },
      "execution_count": 137,
      "outputs": [
        {
          "output_type": "stream",
          "name": "stdout",
          "text": [
            "Looking in indexes: https://pypi.org/simple, https://us-python.pkg.dev/colab-wheels/public/simple/\n",
            "Collecting cugraph\n",
            "  Downloading cugraph-0.6.1.post1.tar.gz (1.1 kB)\n",
            "  Preparing metadata (setup.py) ... \u001b[?25l\u001b[?25hdone\n",
            "Building wheels for collected packages: cugraph\n",
            "  \u001b[1;31merror\u001b[0m: \u001b[1msubprocess-exited-with-error\u001b[0m\n",
            "  \n",
            "  \u001b[31m×\u001b[0m \u001b[32mpython setup.py bdist_wheel\u001b[0m did not run successfully.\n",
            "  \u001b[31m│\u001b[0m exit code: \u001b[1;36m1\u001b[0m\n",
            "  \u001b[31m╰─>\u001b[0m See above for output.\n",
            "  \n",
            "  \u001b[1;35mnote\u001b[0m: This error originates from a subprocess, and is likely not a problem with pip.\n",
            "  Building wheel for cugraph (setup.py) ... \u001b[?25lerror\n",
            "\u001b[31m  ERROR: Failed building wheel for cugraph\u001b[0m\u001b[31m\n",
            "\u001b[0m\u001b[?25h  Running setup.py clean for cugraph\n",
            "Failed to build cugraph\n",
            "\u001b[31mERROR: Could not build wheels for cugraph, which is required to install pyproject.toml-based projects\u001b[0m\u001b[31m\n",
            "\u001b[0m"
          ]
        }
      ]
    },
    {
      "cell_type": "code",
      "source": [
        "!pip install cugraph-cpu"
      ],
      "metadata": {
        "colab": {
          "base_uri": "https://localhost:8080/"
        },
        "id": "MIhJ9GhQSPKE",
        "outputId": "e2173167-75a4-4bb3-ceac-6c74493e83fd"
      },
      "execution_count": 138,
      "outputs": [
        {
          "output_type": "stream",
          "name": "stdout",
          "text": [
            "Looking in indexes: https://pypi.org/simple, https://us-python.pkg.dev/colab-wheels/public/simple/\n",
            "\u001b[31mERROR: Could not find a version that satisfies the requirement cugraph-cpu (from versions: none)\u001b[0m\u001b[31m\n",
            "\u001b[0m\u001b[31mERROR: No matching distribution found for cugraph-cpu\u001b[0m\u001b[31m\n",
            "\u001b[0m"
          ]
        }
      ]
    },
    {
      "cell_type": "code",
      "source": [
        "import dgl\n",
        "import cugraph\n",
        "import torch"
      ],
      "metadata": {
        "colab": {
          "base_uri": "https://localhost:8080/",
          "height": 340
        },
        "id": "Vo6rVcz8R47V",
        "outputId": "5517e7ed-e4bd-4b80-f497-51892213c85b"
      },
      "execution_count": 139,
      "outputs": [
        {
          "output_type": "error",
          "ename": "ModuleNotFoundError",
          "evalue": "ignored",
          "traceback": [
            "\u001b[0;31m---------------------------------------------------------------------------\u001b[0m",
            "\u001b[0;31mModuleNotFoundError\u001b[0m                       Traceback (most recent call last)",
            "\u001b[0;32m<ipython-input-139-7e3a0017eb3e>\u001b[0m in \u001b[0;36m<cell line: 2>\u001b[0;34m()\u001b[0m\n\u001b[1;32m      1\u001b[0m \u001b[0;32mimport\u001b[0m \u001b[0mdgl\u001b[0m\u001b[0;34m\u001b[0m\u001b[0;34m\u001b[0m\u001b[0m\n\u001b[0;32m----> 2\u001b[0;31m \u001b[0;32mimport\u001b[0m \u001b[0mcugraph\u001b[0m\u001b[0;34m\u001b[0m\u001b[0;34m\u001b[0m\u001b[0m\n\u001b[0m\u001b[1;32m      3\u001b[0m \u001b[0;32mimport\u001b[0m \u001b[0mtorch\u001b[0m\u001b[0;34m\u001b[0m\u001b[0;34m\u001b[0m\u001b[0m\n",
            "\u001b[0;31mModuleNotFoundError\u001b[0m: No module named 'cugraph'",
            "",
            "\u001b[0;31m---------------------------------------------------------------------------\u001b[0;32m\nNOTE: If your import is failing due to a missing package, you can\nmanually install dependencies using either !pip or !apt.\n\nTo view examples of installing some common dependencies, click the\n\"Open Examples\" button below.\n\u001b[0;31m---------------------------------------------------------------------------\u001b[0m\n"
          ],
          "errorDetails": {
            "actions": [
              {
                "action": "open_url",
                "actionText": "Open Examples",
                "url": "/notebooks/snippets/importing_libraries.ipynb"
              }
            ]
          }
        }
      ]
    },
    {
      "cell_type": "code",
      "source": [
        "g = dgl.graph((torch.tensor([1, 2]), torch.tensor([1, 3]))).to('cuda')\n",
        "cugraph_g = g.to_cugraph()\n",
        "cugraph_g.edges()"
      ],
      "metadata": {
        "id": "l4e8jiY3R4-O"
      },
      "execution_count": null,
      "outputs": []
    },
    {
      "cell_type": "code",
      "source": [],
      "metadata": {
        "id": "UhBqRtH5R5BP"
      },
      "execution_count": 139,
      "outputs": []
    },
    {
      "cell_type": "markdown",
      "source": [
        "dgl.reorder_graph\n",
        "\n",
        "The dgl.reorder_graph function in DGL (Deep Graph Library) is used to reorder the nodes of a given graph according to a new node ordering. This can be useful, for example, when the nodes in the graph have some inherent ordering that is not reflected in their IDs, and we want to reorder the nodes to better reflect this underlying structure.\n",
        "\n",
        "The function takes in the following arguments:\n",
        "\n",
        "g: The input graph to be reordered.\n",
        "new_order: A list or a tensor of node IDs specifying the new ordering of nodes in the graph.\n",
        "The function returns a new graph that is a copy of the input graph, but with the nodes reordered according to the new ordering."
      ],
      "metadata": {
        "id": "w3-yo23jI-8_"
      }
    },
    {
      "cell_type": "code",
      "source": [
        "import dgl\n",
        "import torch\n",
        "g = dgl.graph((torch.tensor([0, 1, 2, 3, 4]), torch.tensor([2, 2, 3, 2, 3])))\n",
        "g.ndata['h'] = torch.arange(g.num_nodes() * 2).view(g.num_nodes(), 2)\n",
        "g.edata['w'] = torch.arange(g.num_edges() * 1).view(g.num_edges(), 1)\n",
        "g.ndata\n",
        "g.edata"
      ],
      "metadata": {
        "colab": {
          "base_uri": "https://localhost:8080/"
        },
        "id": "yMQcPj5_R5D5",
        "outputId": "ea7781f3-d813-4980-8069-80c69475390e"
      },
      "execution_count": 141,
      "outputs": [
        {
          "output_type": "execute_result",
          "data": {
            "text/plain": [
              "{'w': tensor([[0],\n",
              "        [1],\n",
              "        [2],\n",
              "        [3],\n",
              "        [4]])}"
            ]
          },
          "metadata": {},
          "execution_count": 141
        }
      ]
    },
    {
      "cell_type": "code",
      "source": [
        "rg = dgl.reorder_graph(g, node_permute_algo='rcmk')\n",
        "rg.ndata\n",
        "rg.edata"
      ],
      "metadata": {
        "colab": {
          "base_uri": "https://localhost:8080/"
        },
        "id": "YBomXTesROP1",
        "outputId": "a8a9e74d-7f96-4b66-eadc-91ae021d8c71"
      },
      "execution_count": 142,
      "outputs": [
        {
          "output_type": "execute_result",
          "data": {
            "text/plain": [
              "{'w': tensor([[4],\n",
              "        [3],\n",
              "        [1],\n",
              "        [2],\n",
              "        [0]]), '_ID': tensor([4, 3, 1, 2, 0])}"
            ]
          },
          "metadata": {},
          "execution_count": 142
        }
      ]
    },
    {
      "cell_type": "code",
      "source": [
        "rg = dgl.reorder_graph(g, node_permute_algo='metis', permute_config={'k':2})\n",
        "rg.ndata\n",
        "rg.edata"
      ],
      "metadata": {
        "colab": {
          "base_uri": "https://localhost:8080/"
        },
        "id": "m69e4NXaTUAO",
        "outputId": "069ae9ed-47f8-4645-eca4-4ff096cf4855"
      },
      "execution_count": 145,
      "outputs": [
        {
          "output_type": "stream",
          "name": "stdout",
          "text": [
            "Convert a graph into a bidirected graph: 0.000 seconds, peak memory: 3.685 GB\n",
            "Construct multi-constraint weights: 0.000 seconds, peak memory: 3.685 GB\n",
            "Metis partitioning: 0.000 seconds, peak memory: 3.685 GB\n"
          ]
        },
        {
          "output_type": "execute_result",
          "data": {
            "text/plain": [
              "{'w': tensor([[3],\n",
              "        [4],\n",
              "        [0],\n",
              "        [1],\n",
              "        [2]]), '_ID': tensor([3, 4, 0, 1, 2])}"
            ]
          },
          "metadata": {},
          "execution_count": 145
        }
      ]
    },
    {
      "cell_type": "code",
      "source": [
        "rg = dgl.reorder_graph(g, node_permute_algo='custom',\n",
        "                       permute_config={'nodes_perm': [3, 2, 0, 4, 1]})\n",
        "rg.ndata\n",
        "rg.edata"
      ],
      "metadata": {
        "colab": {
          "base_uri": "https://localhost:8080/"
        },
        "id": "fgN4OEOPTUDZ",
        "outputId": "fc79ae1f-5a9e-4bce-af09-81c03b9c3311"
      },
      "execution_count": 144,
      "outputs": [
        {
          "output_type": "execute_result",
          "data": {
            "text/plain": [
              "{'w': tensor([[3],\n",
              "        [2],\n",
              "        [0],\n",
              "        [4],\n",
              "        [1]]), '_ID': tensor([3, 2, 0, 4, 1])}"
            ]
          },
          "metadata": {},
          "execution_count": 144
        }
      ]
    },
    {
      "cell_type": "code",
      "source": [
        "rg = dgl.reorder_graph(g, node_permute_algo='rcmk', edge_permute_algo='dst')\n",
        "print(rg.ndata)\n",
        "print(rg.edata)"
      ],
      "metadata": {
        "colab": {
          "base_uri": "https://localhost:8080/"
        },
        "id": "r21cBAaSTUGm",
        "outputId": "63736f28-399d-4ab7-fc54-775c9f566982"
      },
      "execution_count": 143,
      "outputs": [
        {
          "output_type": "stream",
          "name": "stdout",
          "text": [
            "{'h': tensor([[8, 9],\n",
            "        [6, 7],\n",
            "        [2, 3],\n",
            "        [4, 5],\n",
            "        [0, 1]]), '_ID': tensor([4, 3, 1, 2, 0])}\n",
            "{'w': tensor([[4],\n",
            "        [2],\n",
            "        [3],\n",
            "        [1],\n",
            "        [0]]), '_ID': tensor([4, 2, 3, 1, 0])}\n"
          ]
        }
      ]
    },
    {
      "cell_type": "code",
      "source": [
        "rg = dgl.reorder_graph(g, edge_permute_algo='custom',\n",
        "                       permute_config={'edges_perm': [1, 2, 3, 4, 0]})\n",
        "print(rg.ndata)\n",
        "print(rg.edata)"
      ],
      "metadata": {
        "colab": {
          "base_uri": "https://localhost:8080/"
        },
        "id": "9eCt43FXThSF",
        "outputId": "ecbd2293-c997-44b1-d3a8-03e6a1b19c42"
      },
      "execution_count": 146,
      "outputs": [
        {
          "output_type": "stream",
          "name": "stdout",
          "text": [
            "{'h': tensor([[0, 1],\n",
            "        [2, 3],\n",
            "        [4, 5],\n",
            "        [6, 7],\n",
            "        [8, 9]]), '_ID': tensor([0, 1, 2, 3, 4])}\n",
            "{'w': tensor([[1],\n",
            "        [2],\n",
            "        [3],\n",
            "        [4],\n",
            "        [0]]), '_ID': tensor([1, 2, 3, 4, 0])}\n"
          ]
        }
      ]
    },
    {
      "cell_type": "markdown",
      "source": [
        "##Subgraph Extraction Ops"
      ],
      "metadata": {
        "id": "0MqyoZZl97HC"
      }
    },
    {
      "cell_type": "markdown",
      "source": [
        "dgl.node_subgraph\n",
        "\n",
        "The dgl.node_subgraph function in DGL (Deep Graph Library) is used to extract a subgraph of a given graph that contains only a specified set of nodes (and their incident edges).\n",
        "\n",
        "The function takes in the following arguments:\n",
        "\n",
        "g: The input graph from which the subgraph is to be extracted.\n",
        "nodes: A list or a tensor of node IDs specifying the nodes to be included in the subgraph.\n",
        "The function returns a new graph that is a subgraph of the input graph, containing only the specified nodes and their incident edges."
      ],
      "metadata": {
        "id": "nNLkPhWyMAah"
      }
    },
    {
      "cell_type": "code",
      "source": [
        "g = dgl.graph(([0, 1, 2, 3, 4], [1, 2, 3, 4, 0]))  # 5-node cycle\n",
        "sg = dgl.node_subgraph(g, [0, 1, 4])\n",
        "sg\n",
        "sg.edges()\n",
        "sg.ndata[dgl.NID]  # original node IDs\n",
        "sg.edata[dgl.EID]  # original edge IDs"
      ],
      "metadata": {
        "colab": {
          "base_uri": "https://localhost:8080/"
        },
        "id": "ANWiEmIg99dc",
        "outputId": "87fb5ab2-b752-4482-85ba-176a11ff83f0"
      },
      "execution_count": 147,
      "outputs": [
        {
          "output_type": "execute_result",
          "data": {
            "text/plain": [
              "tensor([0, 4])"
            ]
          },
          "metadata": {},
          "execution_count": 147
        }
      ]
    },
    {
      "cell_type": "code",
      "source": [
        "nodes = torch.tensor([True, True, False, False, True])  # choose nodes [0, 1, 4]\n",
        "dgl.node_subgraph(g, nodes)"
      ],
      "metadata": {
        "colab": {
          "base_uri": "https://localhost:8080/"
        },
        "id": "MUCdgtHI99oO",
        "outputId": "dc73d1e2-02b2-4438-84e4-d49a8e32e5f0"
      },
      "execution_count": 148,
      "outputs": [
        {
          "output_type": "execute_result",
          "data": {
            "text/plain": [
              "Graph(num_nodes=3, num_edges=2,\n",
              "      ndata_schemes={'_ID': Scheme(shape=(), dtype=torch.int64)}\n",
              "      edata_schemes={'_ID': Scheme(shape=(), dtype=torch.int64)})"
            ]
          },
          "metadata": {},
          "execution_count": 148
        }
      ]
    },
    {
      "cell_type": "code",
      "source": [
        "g.ndata['x'] = torch.arange(10).view(5, 2)\n",
        "sg = dgl.node_subgraph(g, [0, 1, 4])\n",
        "sg\n",
        "sg.ndata['x']"
      ],
      "metadata": {
        "colab": {
          "base_uri": "https://localhost:8080/"
        },
        "id": "V-X42y2Y-IrL",
        "outputId": "0f74aad7-c282-47b1-f4c6-ef5bef82f49a"
      },
      "execution_count": 149,
      "outputs": [
        {
          "output_type": "execute_result",
          "data": {
            "text/plain": [
              "tensor([[0, 1],\n",
              "        [2, 3],\n",
              "        [8, 9]])"
            ]
          },
          "metadata": {},
          "execution_count": 149
        }
      ]
    },
    {
      "cell_type": "code",
      "source": [
        "g = dgl.heterograph({\n",
        "    ('user', 'plays', 'game'): ([0, 1, 1, 2], [0, 0, 2, 1]),\n",
        "    ('user', 'follows', 'user'): ([0, 1, 1], [1, 2, 2])\n",
        "})\n",
        "sub_g = dgl.node_subgraph(g, {'user': [1, 2]})\n",
        "sub_g"
      ],
      "metadata": {
        "colab": {
          "base_uri": "https://localhost:8080/"
        },
        "id": "yTIJBZjD-IuI",
        "outputId": "dff20c4a-a36b-45fe-8a99-e496e88cd6fb"
      },
      "execution_count": 150,
      "outputs": [
        {
          "output_type": "execute_result",
          "data": {
            "text/plain": [
              "Graph(num_nodes={'game': 0, 'user': 2},\n",
              "      num_edges={('user', 'follows', 'user'): 2, ('user', 'plays', 'game'): 0},\n",
              "      metagraph=[('user', 'user', 'follows'), ('user', 'game', 'plays')])"
            ]
          },
          "metadata": {},
          "execution_count": 150
        }
      ]
    },
    {
      "cell_type": "markdown",
      "source": [
        "dgl.edge_subgraph\n",
        "\n",
        "The dgl.edge_subgraph function in DGL (Deep Graph Library) is used to extract a subgraph of a given graph that contains only a specified set of edges (and their incident nodes).\n",
        "\n",
        "The function takes in the following arguments:\n",
        "\n",
        "g: The input graph from which the subgraph is to be extracted.\n",
        "edges: A pair of lists or tensors (u, v) specifying the source and destination nodes of the edges to be included in the subgraph.\n",
        "The function returns a new graph that is a subgraph of the input graph, containing only the specified edges and their incident nodes."
      ],
      "metadata": {
        "id": "TDEx7TS4MIaR"
      }
    },
    {
      "cell_type": "code",
      "source": [
        "g = dgl.graph(([0, 1, 2, 3, 4], [1, 2, 3, 4, 0]))  # 5-node cycle\n",
        "sg = dgl.edge_subgraph(g, [0, 4])\n",
        "sg\n",
        "sg.edges()\n",
        "sg.ndata[dgl.NID]  # original node IDs\n",
        "sg.edata[dgl.EID]  # original edge IDs"
      ],
      "metadata": {
        "colab": {
          "base_uri": "https://localhost:8080/"
        },
        "id": "WTOfFvTkNbTB",
        "outputId": "b87fe0be-7ace-4939-a53a-82ef86409344"
      },
      "execution_count": 151,
      "outputs": [
        {
          "output_type": "execute_result",
          "data": {
            "text/plain": [
              "tensor([0, 4])"
            ]
          },
          "metadata": {},
          "execution_count": 151
        }
      ]
    },
    {
      "cell_type": "code",
      "source": [
        "sg = dgl.edge_subgraph(g, [0, 4], relabel_nodes=False)\n",
        "sg\n",
        "sg.edges()"
      ],
      "metadata": {
        "colab": {
          "base_uri": "https://localhost:8080/"
        },
        "id": "NvO_ovxI99ra",
        "outputId": "945b1875-01e7-470b-baeb-9812b385d088"
      },
      "execution_count": 152,
      "outputs": [
        {
          "output_type": "execute_result",
          "data": {
            "text/plain": [
              "(tensor([0, 4]), tensor([1, 0]))"
            ]
          },
          "metadata": {},
          "execution_count": 152
        }
      ]
    },
    {
      "cell_type": "code",
      "source": [
        "nodes = torch.tensor([True, False, False, False, True])  # choose edges [0, 4]\n",
        "dgl.edge_subgraph(g, nodes)"
      ],
      "metadata": {
        "colab": {
          "base_uri": "https://localhost:8080/"
        },
        "id": "EiAB9poA_Fi3",
        "outputId": "9ab38757-9926-4690-85c7-c440d79cbb5d"
      },
      "execution_count": 153,
      "outputs": [
        {
          "output_type": "execute_result",
          "data": {
            "text/plain": [
              "Graph(num_nodes=3, num_edges=2,\n",
              "      ndata_schemes={'_ID': Scheme(shape=(), dtype=torch.int64)}\n",
              "      edata_schemes={'_ID': Scheme(shape=(), dtype=torch.int64)})"
            ]
          },
          "metadata": {},
          "execution_count": 153
        }
      ]
    },
    {
      "cell_type": "code",
      "source": [
        "g.ndata['x'] = torch.arange(10).view(5, 2)\n",
        "sg = dgl.edge_subgraph(g, [0, 4])\n",
        "sg\n",
        "sg.ndata[dgl.NID]\n",
        "sg.ndata['x']"
      ],
      "metadata": {
        "colab": {
          "base_uri": "https://localhost:8080/"
        },
        "id": "RmgODski_Flb",
        "outputId": "ec785d65-cef3-469e-b5d9-cd68c2d13509"
      },
      "execution_count": 154,
      "outputs": [
        {
          "output_type": "execute_result",
          "data": {
            "text/plain": [
              "tensor([[0, 1],\n",
              "        [8, 9],\n",
              "        [2, 3]])"
            ]
          },
          "metadata": {},
          "execution_count": 154
        }
      ]
    },
    {
      "cell_type": "code",
      "source": [
        "g = dgl.heterograph({\n",
        "    ('user', 'plays', 'game'): ([0, 1, 1, 2], [0, 0, 2, 1]),\n",
        "    ('user', 'follows', 'user'): ([0, 1, 1], [1, 2, 2])\n",
        "})\n",
        "sub_g = dgl.edge_subgraph(g, {('user', 'follows', 'user'): [1, 2],\n",
        "                              ('user', 'plays', 'game'): [2]})\n",
        "print(sub_g)"
      ],
      "metadata": {
        "colab": {
          "base_uri": "https://localhost:8080/"
        },
        "id": "J3owF1lh_Fom",
        "outputId": "4f4f2fd6-579a-41fa-dca6-118655575dd3"
      },
      "execution_count": 155,
      "outputs": [
        {
          "output_type": "stream",
          "name": "stdout",
          "text": [
            "Graph(num_nodes={'game': 1, 'user': 2},\n",
            "      num_edges={('user', 'follows', 'user'): 2, ('user', 'plays', 'game'): 1},\n",
            "      metagraph=[('user', 'user', 'follows'), ('user', 'game', 'plays')])\n"
          ]
        }
      ]
    },
    {
      "cell_type": "markdown",
      "source": [
        "dgl.node_type_subgraph\n",
        "\n",
        "The dgl.node_type_subgraph function in DGL (Deep Graph Library) is used to extract a subgraph of a given bipartite graph that contains only the nodes and edges of a specified node type.\n",
        "\n",
        "The function takes in the following arguments:\n",
        "\n",
        "g: The input bipartite graph from which the subgraph is to be extracted.\n",
        "ntype: The string name of the node type to be included in the subgraph.\n",
        "The function returns a new graph that is a subgraph of the input bipartite graph, containing only the nodes and edges of the specified node type."
      ],
      "metadata": {
        "id": "OLCOQhmZNtRE"
      }
    },
    {
      "cell_type": "code",
      "source": [
        "g = dgl.heterograph({\n",
        "    ('user', 'plays', 'game'): ([0, 1, 1, 2], [0, 0, 2, 1]),\n",
        "    ('user', 'follows', 'user'): ([0, 1, 1], [1, 2, 2])\n",
        "})\n",
        "# Set node features\n",
        "g.nodes['user'].data['h'] = torch.tensor([[0.], [1.], [2.]])"
      ],
      "metadata": {
        "id": "z21-uSEC_Fre"
      },
      "execution_count": 156,
      "outputs": []
    },
    {
      "cell_type": "code",
      "source": [
        "sub_g = g.node_type_subgraph(['user'])\n",
        "print(sub_g)"
      ],
      "metadata": {
        "colab": {
          "base_uri": "https://localhost:8080/"
        },
        "id": "GClXBnfaB1oF",
        "outputId": "bfeae733-ab58-40f0-8ac0-b14cd7730387"
      },
      "execution_count": 157,
      "outputs": [
        {
          "output_type": "stream",
          "name": "stdout",
          "text": [
            "Graph(num_nodes=3, num_edges=3,\n",
            "      ndata_schemes={'h': Scheme(shape=(1,), dtype=torch.float32)}\n",
            "      edata_schemes={})\n"
          ]
        }
      ]
    },
    {
      "cell_type": "code",
      "source": [
        "sub_g.nodes['user'].data['h']"
      ],
      "metadata": {
        "colab": {
          "base_uri": "https://localhost:8080/"
        },
        "id": "z_Y5V48JB1rd",
        "outputId": "4b571b1a-27ef-48e6-d2b5-f2ef0c3d8bcb"
      },
      "execution_count": 158,
      "outputs": [
        {
          "output_type": "execute_result",
          "data": {
            "text/plain": [
              "tensor([[0.],\n",
              "        [1.],\n",
              "        [2.]])"
            ]
          },
          "metadata": {},
          "execution_count": 158
        }
      ]
    },
    {
      "cell_type": "markdown",
      "source": [
        "dgl.edge_type_subgraph\n",
        "\n",
        "The dgl.edge_type_subgraph function in DGL (Deep Graph Library) is used to extract a subgraph of a given bipartite graph that contains only the edges of a specified edge type.\n",
        "\n",
        "The function takes in the following arguments:\n",
        "\n",
        "g: The input bipartite graph from which the subgraph is to be extracted.\n",
        "etype: The string name of the edge type to be included in the subgraph.\n",
        "The function returns a new graph that is a subgraph of the input bipartite graph, containing only the edges of the specified edge type."
      ],
      "metadata": {
        "id": "L_RhY2x0OCsh"
      }
    },
    {
      "cell_type": "code",
      "source": [
        "g = dgl.heterograph({\n",
        "    ('user', 'plays', 'game'): ([0, 1, 1, 2], [0, 0, 2, 1]),\n",
        "    ('user', 'follows', 'user'): ([0, 1, 1], [1, 2, 2])\n",
        "})\n",
        "# Set edge features\n",
        "g.edges['follows'].data['h'] = torch.tensor([[0.], [1.], [2.]])"
      ],
      "metadata": {
        "id": "5p7CV3fNB1us"
      },
      "execution_count": 159,
      "outputs": []
    },
    {
      "cell_type": "code",
      "source": [
        "sub_g = g.edge_type_subgraph(['follows'])\n",
        "sub_g"
      ],
      "metadata": {
        "colab": {
          "base_uri": "https://localhost:8080/"
        },
        "id": "kC0tF09NCMSD",
        "outputId": "cfa238ae-e84f-4b67-fe58-aca015642281"
      },
      "execution_count": 160,
      "outputs": [
        {
          "output_type": "execute_result",
          "data": {
            "text/plain": [
              "Graph(num_nodes=3, num_edges=3,\n",
              "      ndata_schemes={}\n",
              "      edata_schemes={'h': Scheme(shape=(1,), dtype=torch.float32)})"
            ]
          },
          "metadata": {},
          "execution_count": 160
        }
      ]
    },
    {
      "cell_type": "code",
      "source": [
        "sub_g.edges['follows'].data['h']"
      ],
      "metadata": {
        "colab": {
          "base_uri": "https://localhost:8080/"
        },
        "id": "tM_7bRFWCMVy",
        "outputId": "0d67e424-a81c-475b-eb1e-9878a9854651"
      },
      "execution_count": 161,
      "outputs": [
        {
          "output_type": "execute_result",
          "data": {
            "text/plain": [
              "tensor([[0.],\n",
              "        [1.],\n",
              "        [2.]])"
            ]
          },
          "metadata": {},
          "execution_count": 161
        }
      ]
    },
    {
      "cell_type": "markdown",
      "source": [
        "dgl.in_subgraph\n",
        "\n",
        "he dgl.in_subgraph function in DGL (Deep Graph Library) is used to determine whether a given edge is in a specified subgraph.\n",
        "\n",
        "The function takes in the following arguments:\n",
        "\n",
        "g: The input graph that contains the edge.\n",
        "subg: The subgraph that is to be checked for the presence of the edge.\n",
        "eid: The ID of the edge to be checked.\n",
        "The function returns a Boolean value that is True if the edge is in the subgraph, and False otherwise."
      ],
      "metadata": {
        "id": "u3EHVF1jOYHR"
      }
    },
    {
      "cell_type": "code",
      "source": [
        "g = dgl.graph(([0, 1, 2, 3, 4], [1, 2, 3, 4, 0]))  # 5-node cycle\n",
        "g.edata['w'] = torch.arange(10).view(5, 2)\n",
        "sg = dgl.in_subgraph(g, [2, 0])\n",
        "sg\n",
        "sg.edges()\n",
        "sg.edata[dgl.EID]  # original edge IDs\n",
        "sg.edata['w']  # also extract the features"
      ],
      "metadata": {
        "colab": {
          "base_uri": "https://localhost:8080/"
        },
        "id": "ZKRMPBTPCMY5",
        "outputId": "cbe9f246-9650-4698-be39-48b05434fe51"
      },
      "execution_count": 162,
      "outputs": [
        {
          "output_type": "execute_result",
          "data": {
            "text/plain": [
              "tensor([[2, 3],\n",
              "        [8, 9]])"
            ]
          },
          "metadata": {},
          "execution_count": 162
        }
      ]
    },
    {
      "cell_type": "code",
      "source": [
        "sg = dgl.in_subgraph(g, [2, 0], relabel_nodes=True)\n",
        "sg\n",
        "sg.edges()\n",
        "sg.edata[dgl.EID]  # original edge IDs\n",
        "sg.ndata[dgl.NID]  # original node IDs"
      ],
      "metadata": {
        "colab": {
          "base_uri": "https://localhost:8080/"
        },
        "id": "ixCsGS-pC-VB",
        "outputId": "9a77c0cc-1d26-4956-f36e-a13f458ef3ac"
      },
      "execution_count": 163,
      "outputs": [
        {
          "output_type": "execute_result",
          "data": {
            "text/plain": [
              "tensor([1, 4, 2, 0])"
            ]
          },
          "metadata": {},
          "execution_count": 163
        }
      ]
    },
    {
      "cell_type": "code",
      "source": [
        "g = dgl.heterograph({\n",
        "    ('user', 'plays', 'game'): ([0, 1, 1, 2], [0, 0, 2, 1]),\n",
        "    ('user', 'follows', 'user'): ([0, 1, 1], [1, 2, 2])})\n",
        "sub_g = g.in_subgraph({'user': [2], 'game': [2]})\n",
        "sub_g"
      ],
      "metadata": {
        "colab": {
          "base_uri": "https://localhost:8080/"
        },
        "id": "Vj0rnj3KC-X-",
        "outputId": "39b1c85a-cdaa-40f7-f263-11b3eec6d791"
      },
      "execution_count": 164,
      "outputs": [
        {
          "output_type": "execute_result",
          "data": {
            "text/plain": [
              "Graph(num_nodes={'game': 3, 'user': 3},\n",
              "      num_edges={('user', 'follows', 'user'): 2, ('user', 'plays', 'game'): 1},\n",
              "      metagraph=[('user', 'user', 'follows'), ('user', 'game', 'plays')])"
            ]
          },
          "metadata": {},
          "execution_count": 164
        }
      ]
    },
    {
      "cell_type": "markdown",
      "source": [
        "dgl.out_subgraph\n",
        "\n",
        "The dgl.out_subgraph function in DGL (Deep Graph Library) is used to extract a subgraph of a given graph that contains only the edges that originate from a specified set of nodes.\n",
        "\n",
        "The function takes in the following arguments:\n",
        "\n",
        "g: The input graph from which the subgraph is to be extracted.\n",
        "nodes: A list or a tensor of node IDs specifying the nodes whose outgoing edges are to be included in the subgraph.\n",
        "The function returns a new graph that is a subgraph of the input graph, containing only the edges that originate from the specified nodes and their destination nodes."
      ],
      "metadata": {
        "id": "ZC8OHH58O1Ql"
      }
    },
    {
      "cell_type": "code",
      "source": [
        "g = dgl.graph(([0, 1, 2, 3, 4], [1, 2, 3, 4, 0]))  # 5-node cycle\n",
        "g.edata['w'] = torch.arange(10).view(5, 2)\n",
        "sg = dgl.out_subgraph(g, [2, 0])\n",
        "sg\n",
        "sg.edges()\n",
        "sg.edata[dgl.EID]  # original edge IDs\n",
        "sg.edata['w']  # also extract the features"
      ],
      "metadata": {
        "colab": {
          "base_uri": "https://localhost:8080/"
        },
        "id": "vBs2yHhKC-a3",
        "outputId": "21b161f8-e773-4fc6-c7d1-90ef0e3dfe0b"
      },
      "execution_count": 165,
      "outputs": [
        {
          "output_type": "execute_result",
          "data": {
            "text/plain": [
              "tensor([[4, 5],\n",
              "        [0, 1]])"
            ]
          },
          "metadata": {},
          "execution_count": 165
        }
      ]
    },
    {
      "cell_type": "code",
      "source": [
        "sg = dgl.out_subgraph(g, [2, 0], relabel_nodes=True)\n",
        "sg\n",
        "sg.edges()\n",
        "sg.edata[dgl.EID]  # original edge IDs\n",
        "sg.ndata[dgl.NID]  # original node IDs"
      ],
      "metadata": {
        "colab": {
          "base_uri": "https://localhost:8080/"
        },
        "id": "7TMGppakDOjn",
        "outputId": "a4e27df9-49d8-4f8b-910e-f43ca185c5d8"
      },
      "execution_count": 166,
      "outputs": [
        {
          "output_type": "execute_result",
          "data": {
            "text/plain": [
              "tensor([2, 0, 3, 1])"
            ]
          },
          "metadata": {},
          "execution_count": 166
        }
      ]
    },
    {
      "cell_type": "code",
      "source": [
        "g = dgl.heterograph({\n",
        "    ('user', 'plays', 'game'): ([0, 1, 1, 2], [0, 0, 2, 1]),\n",
        "    ('user', 'follows', 'user'): ([0, 1, 1], [1, 2, 2])})\n",
        "sub_g = g.out_subgraph({'user': [1]})\n",
        "sub_g"
      ],
      "metadata": {
        "colab": {
          "base_uri": "https://localhost:8080/"
        },
        "id": "5WEzimNjDOol",
        "outputId": "4c75d150-fcbd-4bed-83e5-1b361349a618"
      },
      "execution_count": 167,
      "outputs": [
        {
          "output_type": "execute_result",
          "data": {
            "text/plain": [
              "Graph(num_nodes={'game': 3, 'user': 3},\n",
              "      num_edges={('user', 'follows', 'user'): 2, ('user', 'plays', 'game'): 2},\n",
              "      metagraph=[('user', 'user', 'follows'), ('user', 'game', 'plays')])"
            ]
          },
          "metadata": {},
          "execution_count": 167
        }
      ]
    },
    {
      "cell_type": "markdown",
      "source": [
        "dgl.khop_in_subgraph\n",
        "\n",
        "The dgl.khop_in_subgraph function in DGL (Deep Graph Library) is used to extract a subgraph of a given graph that contains only the edges that are k hops away from a specified set of nodes.\n",
        "\n",
        "The function takes in the following arguments:\n",
        "\n",
        "g: The input graph from which the subgraph is to be extracted.\n",
        "k: The number of hops to consider when extracting the subgraph.\n",
        "nodes: A list or a tensor of node IDs specifying the nodes from which to compute the k-hop subgraph.\n",
        "The function returns a new graph that is a subgraph of the input graph, containing only the edges that are k hops away from the specified nodes and their destination nodes."
      ],
      "metadata": {
        "id": "o1-XwUULPLzN"
      }
    },
    {
      "cell_type": "code",
      "source": [
        "g = dgl.graph(([1, 1, 2, 3, 4], [0, 2, 0, 4, 2]))\n",
        "g.edata['w'] = torch.arange(10).view(5, 2)\n",
        "sg, inverse_indices = dgl.khop_in_subgraph(g, 0, k=2)\n",
        "sg\n",
        "sg.edges()\n",
        "sg.edata[dgl.EID]  # original edge IDs\n",
        "sg.edata['w']  # also extract the features\n",
        "inverse_indices"
      ],
      "metadata": {
        "colab": {
          "base_uri": "https://localhost:8080/"
        },
        "id": "QvLRzxX2B1xl",
        "outputId": "389579d0-752f-4268-b7e5-e3cec4722e0a"
      },
      "execution_count": 168,
      "outputs": [
        {
          "output_type": "execute_result",
          "data": {
            "text/plain": [
              "tensor([0])"
            ]
          },
          "metadata": {},
          "execution_count": 168
        }
      ]
    },
    {
      "cell_type": "code",
      "source": [
        "g = dgl.heterograph({\n",
        "    ('user', 'plays', 'game'): ([0, 1, 1, 2], [0, 0, 2, 1]),\n",
        "    ('user', 'follows', 'user'): ([0, 1, 1], [1, 2, 2])})\n",
        "sg, inverse_indices = dgl.khop_in_subgraph(g, {'game': 0}, k=2)\n",
        "sg\n",
        "inverse_indices"
      ],
      "metadata": {
        "colab": {
          "base_uri": "https://localhost:8080/"
        },
        "id": "TAtRqZE9Dbjm",
        "outputId": "953f120c-2883-4a36-fd3b-4f4622f39b88"
      },
      "execution_count": 169,
      "outputs": [
        {
          "output_type": "execute_result",
          "data": {
            "text/plain": [
              "{'game': tensor([0])}"
            ]
          },
          "metadata": {},
          "execution_count": 169
        }
      ]
    },
    {
      "cell_type": "markdown",
      "source": [
        "dgl.khop_out_subgraph\n",
        "\n",
        "The dgl.khop_out_subgraph function in DGL (Deep Graph Library) is used to extract a subgraph of a given graph that contains only the edges that are k hops away from a specified set of nodes.\n",
        "\n",
        "The function takes in the following arguments:\n",
        "\n",
        "g: The input graph from which the subgraph is to be extracted.\n",
        "k: The number of hops to consider when extracting the subgraph.\n",
        "nodes: A list or a tensor of node IDs specifying the nodes whose outgoing edges are to be included in the subgraph.\n",
        "The function returns a new graph that is a subgraph of the input graph, containing only the edges that are k hops away from the specified nodes and their destination nodes."
      ],
      "metadata": {
        "id": "-JOF-wiUPYWW"
      }
    },
    {
      "cell_type": "code",
      "source": [
        "g = dgl.graph(([0, 2, 0, 4, 2], [1, 1, 2, 3, 4]))\n",
        "g.edata['w'] = torch.arange(10).view(5, 2)\n",
        "sg, inverse_indices = dgl.khop_out_subgraph(g, 0, k=2)\n",
        "sg\n",
        "sg.edges()\n",
        "sg.edata[dgl.EID]  # original edge IDs\n",
        "sg.edata['w']  # also extract the features\n",
        "inverse_indices"
      ],
      "metadata": {
        "colab": {
          "base_uri": "https://localhost:8080/"
        },
        "id": "aK3ftrhtDbmu",
        "outputId": "31309427-358b-4031-8f21-63e0c2192a4e"
      },
      "execution_count": 170,
      "outputs": [
        {
          "output_type": "execute_result",
          "data": {
            "text/plain": [
              "tensor([0])"
            ]
          },
          "metadata": {},
          "execution_count": 170
        }
      ]
    },
    {
      "cell_type": "code",
      "source": [
        "g = dgl.heterograph({\n",
        "    ('user', 'plays', 'game'): ([0, 1, 1, 2], [0, 0, 2, 1]),\n",
        "    ('user', 'follows', 'user'): ([0, 1], [1, 3])})\n",
        "sg, inverse_indices = dgl.khop_out_subgraph(g, {'user': 0}, k=2)\n",
        "sg\n",
        "inverse_indices"
      ],
      "metadata": {
        "colab": {
          "base_uri": "https://localhost:8080/"
        },
        "id": "iH3LM55CDv6f",
        "outputId": "f89ec230-be76-45dd-a651-648705bb762c"
      },
      "execution_count": 171,
      "outputs": [
        {
          "output_type": "execute_result",
          "data": {
            "text/plain": [
              "{'user': tensor([0])}"
            ]
          },
          "metadata": {},
          "execution_count": 171
        }
      ]
    },
    {
      "cell_type": "markdown",
      "source": [
        "##save and load"
      ],
      "metadata": {
        "id": "gHmf4W0DPl1V"
      }
    },
    {
      "cell_type": "code",
      "source": [
        "import dgl\n",
        "import torch as th"
      ],
      "metadata": {
        "id": "6IJVgQksrniA"
      },
      "execution_count": 183,
      "outputs": []
    },
    {
      "cell_type": "code",
      "source": [
        "g1 = dgl.graph(([0, 1, 2], [1, 2, 3]))\n",
        "g2 = dgl.graph(([0, 2], [2, 3]))\n",
        "g2.edata[\"e\"] = th.ones(2, 4)"
      ],
      "metadata": {
        "id": "w81ZhtfdEqV7"
      },
      "execution_count": 172,
      "outputs": []
    },
    {
      "cell_type": "code",
      "source": [
        "g1 = dgl.graph(([0, 1, 2], [1, 2, 3]))\n",
        "g2 = dgl.graph(([0, 2], [2, 3]))\n",
        "g2.edata[\"e\"] = th.ones(2, 4)"
      ],
      "metadata": {
        "id": "sZP5bViDcGcm"
      },
      "execution_count": 173,
      "outputs": []
    },
    {
      "cell_type": "code",
      "source": [
        "from dgl.data.utils import save_graphs\n",
        "graph_labels = {\"glabel\": th.tensor([0, 1])}\n",
        "save_graphs(\"./data.bin\", [g1, g2], graph_labels)"
      ],
      "metadata": {
        "id": "vg4HDQOMcH52"
      },
      "execution_count": 174,
      "outputs": []
    },
    {
      "cell_type": "code",
      "source": [
        "from dgl.data.utils import save_graphs\n",
        "graph_labels = {\"glabel\": th.tensor([0, 1])}\n",
        "save_graphs(\"./data.bin\", [g1, g2], graph_labels)"
      ],
      "metadata": {
        "id": "M-RrLSAIEtYh"
      },
      "execution_count": 175,
      "outputs": []
    },
    {
      "cell_type": "code",
      "source": [
        "from dgl.data.utils import load_graphs\n",
        "glist = load_graphs(\"./data.bin\")\n",
        "     "
      ],
      "metadata": {
        "id": "Vj7-lLcCr3E5"
      },
      "execution_count": 184,
      "outputs": []
    },
    {
      "cell_type": "code",
      "source": [
        "from dgl.data.utils import load_graphs\n",
        "glist, label_dict = load_graphs(\"./data.bin\") # glist will be [g1, g2]\n",
        "glist, label_dict = load_graphs(\"./data.bin\", [0]) # glist will be [g1]"
      ],
      "metadata": {
        "id": "IoHFkT3-Exg7"
      },
      "execution_count": 177,
      "outputs": []
    },
    {
      "cell_type": "code",
      "source": [
        "import dgl\n",
        "import torch\n",
        "\n",
        "# Define the graph\n",
        "g = dgl.graph(([0, 0, 1], [1, 2, 2]))  # a small example graph\n",
        "\n",
        "# Define the node and edge features\n",
        "g.ndata['feat'] = torch.randn((3, 5))\n",
        "g.edata['feat'] = torch.randn((3, 4))\n"
      ],
      "metadata": {
        "id": "7XmYjb8GE1YH"
      },
      "execution_count": 176,
      "outputs": []
    },
    {
      "cell_type": "code",
      "source": [
        "g1 = dgl.heterograph({\n",
        "('user', 'follows', 'user'): (torch.tensor([0, 1]), torch.tensor([1, 2])),\n",
        "('user', 'plays', 'game'): (torch.tensor([3, 4]), torch.tensor([5, 6]))\n",
        "})\n",
        "\n",
        "g2 = dgl.graph((torch.tensor([0, 1]), torch.tensor([1, 2])))\n",
        "\n",
        "g3 = dgl.graph((torch.tensor([0, 1]), torch.tensor([1, 3])))\n",
        "\n",
        "g4 = dgl.graph((torch.tensor([0, 1, 1]), torch.tensor([1, 3, 3])))\n",
        "\n",
        "g5 = dgl.heterograph({\n",
        "('user', 'follows', 'user'): (torch.tensor([0, 1]), torch.tensor([1, 2])),\n",
        "('user', 'follows', 'game'): (torch.tensor([0, 1, 2]), torch.tensor([1, 2, 3]))\n",
        "})\n",
        "\n",
        "g6 = dgl.heterograph({\n",
        "('user', 'follows', 'user'): (torch.tensor([0, 1, 1]), torch.tensor([1, 2, 2])),\n",
        "('user', 'follows', 'game'): (torch.tensor([0, 1, 2]), torch.tensor([1, 2, 3]))\n",
        "})\n",
        "\n",
        "g7 = dgl.graph((torch.tensor([0, 0, 1, 1]), torch.tensor([1, 0, 2, 3])))\n",
        "\n",
        "g8 = dgl.heterograph({\n",
        "('user', 'follows', 'game'): (torch.tensor([0, 1, 2]), torch.tensor([1, 2, 3]))\n",
        "})\n",
        "\n",
        "g9 = dgl.heterograph({\n",
        "('user', 'follows', 'user'): (torch.tensor([0, 1]), torch.tensor([1, 2])),\n",
        "('user', 'plays', 'game'): (torch.tensor([3, 4]), torch.tensor([0, 1]))\n",
        "})\n",
        "\n",
        "g10 = dgl.graph((torch.tensor([0, 0, 1, 1]), torch.tensor([1, 0, 2, 3])))\n",
        "\n",
        "g11 = dgl.heterograph({\n",
        "('user', 'follows', 'user'): (torch.tensor([0, 1]), torch.tensor([1, 2])),\n",
        "('user', 'follows', 'game'): (torch.tensor([0, 1, 2]), torch.tensor([1, 2, 3])),\n",
        "('user', 'plays', 'game'): (torch.tensor([1, 3]), torch.tensor([2, 3]))\n",
        "})\n",
        "\n",
        "g12 = dgl.graph((torch.tensor([0, 0, 1, 1]), torch.tensor([1, 1, 2, 3])))\n",
        "\n",
        "hg = dgl.heterograph({\n",
        "('user', 'follows', 'user'): (torch.tensor([0, 1]), torch.tensor([1, 2])),\n",
        "('user', 'plays', 'game'): (torch.tensor([3, 4]), torch.tensor([5, 6]))\n",
        "})\n",
        "\n",
        "g13 = dgl.graph((torch.tensor([0, 0, 1, 1]), torch.tensor([1, 1, 2, 3])))\n",
        "\n",
        "hg1 = dgl.heterograph({\n",
        "('user', 'follows', 'user'): (torch.tensor([0, 1]), torch.tensor([1, 2])),\n",
        "('user', 'follows', 'game'): (torch.tensor([0, 1, 2]), torch.tensor([1, 2, 3])),\n",
        "('user', 'plays', 'game'): (torch.tensor([1, 3]), torch.tensor([2, 3]))\n",
        "})"
      ],
      "metadata": {
        "id": "Dt-Pyj9TMZ-1"
      },
      "execution_count": 178,
      "outputs": []
    },
    {
      "cell_type": "code",
      "source": [
        "import dgl\n",
        "import torch\n",
        "\n",
        "# Define the first graph\n",
        "g1 = dgl.heterograph({\n",
        "    ('user', 'follows', 'user'): (torch.tensor([0, 1]), torch.tensor([1, 2])),\n",
        "    ('user', 'follows', 'game'): (torch.tensor([0, 1, 2]), torch.tensor([1, 2, 3]))\n",
        "})\n",
        "\n",
        "# Define the second graph\n",
        "g2 = dgl.heterograph({\n",
        "    ('user', 'follows', 'user'): (torch.tensor([0, 1, 1]), torch.tensor([1, 2, 2])),\n",
        "    ('user', 'follows', 'game'): (torch.tensor([0, 1, 2]), torch.tensor([1, 2, 3]))\n",
        "})\n",
        "\n",
        "# Save the graphs to a file\n",
        "dgl.save_graphs(\"my_graphs.dgl\", [g1, g2])\n",
        "\n",
        "# Load the graphs from the file\n",
        "loaded_graphs, _ = dgl.load_graphs(\"my_graphs.dgl\")\n",
        "\n",
        "# Print the number of nodes and edges in the loadedgraphs\n",
        "for g in loaded_graphs:\n",
        "    print(g.number_of_nodes(), g.number_of_edges(), g.is_multigraph)"
      ],
      "metadata": {
        "colab": {
          "base_uri": "https://localhost:8080/"
        },
        "id": "uNBn5JpmNCFN",
        "outputId": "342ef4af-0f9b-4dd9-802f-341b227403c1"
      },
      "execution_count": 179,
      "outputs": [
        {
          "output_type": "stream",
          "name": "stdout",
          "text": [
            "7 5 False\n",
            "7 6 True\n"
          ]
        }
      ]
    },
    {
      "cell_type": "code",
      "source": [
        "# Save the graphs to a file\n",
        "dgl.save_graphs(\"my_graphs.dgl\", [g1, g2,g3,g4,g5,g6,g7,g8,g9,g10,g11,g12,hg,g13,hg1])\n",
        "\n",
        "# Load the graphs from the file\n",
        "loaded_graphs, _ = dgl.load_graphs(\"my_graphs.dgl\")\n",
        "\n",
        "# Print the number of nodes and edges in the loadedgraphs\n",
        "for g in loaded_graphs:\n",
        "    print(g.number_of_nodes(), g.number_of_edges(), g.is_multigraph)"
      ],
      "metadata": {
        "colab": {
          "base_uri": "https://localhost:8080/"
        },
        "id": "nXzmj-5HMrhg",
        "outputId": "60533d31-ab01-49e1-af99-0caf73d7a66f"
      },
      "execution_count": 180,
      "outputs": [
        {
          "output_type": "stream",
          "name": "stdout",
          "text": [
            "7 5 False\n",
            "7 6 True\n",
            "4 2 False\n",
            "4 3 True\n",
            "7 5 False\n",
            "7 6 True\n",
            "4 4 False\n",
            "7 3 False\n",
            "7 4 False\n",
            "4 4 False\n",
            "8 7 False\n",
            "4 4 True\n",
            "12 4 False\n",
            "4 4 True\n",
            "8 7 False\n"
          ]
        }
      ]
    },
    {
      "cell_type": "code",
      "source": [
        "\n",
        "# Define a graph\n",
        "g = dgl.graph(([0, 0, 1, 2, 3], [1, 2, 2, 3, 4]))\n",
        "g.ndata['feat'] = torch.randn(5, 10)\n",
        "\n",
        "# Save the graph to a file\n",
        "dgl.save_graphs(\"my_graph.dgl\", [g])\n",
        "\n",
        "# Load the graph from the file\n",
        "loaded_graphs, _ = dgl.load_graphs(\"my_graph.dgl\")  # Notice the underscore after loaded_graphs\n",
        "\n",
        "# Extract the loaded graph from the list\n",
        "loaded_g = loaded_graphs[0]\n",
        "\n",
        "# Print the node features of the loaded graph\n",
        "print(loaded_g.ndata['feat'])\n"
      ],
      "metadata": {
        "colab": {
          "base_uri": "https://localhost:8080/"
        },
        "id": "EM2vuz7eNrqn",
        "outputId": "24d227ac-da73-41ba-978c-d38845a8882d"
      },
      "execution_count": 181,
      "outputs": [
        {
          "output_type": "stream",
          "name": "stdout",
          "text": [
            "tensor([[ 1.1082, -0.9110,  1.3411,  0.8355, -1.0578,  1.6094, -0.2940,  0.8327,\n",
            "          0.2752, -1.6009],\n",
            "        [ 0.7197, -0.4006,  0.2726,  0.1478, -0.8890,  0.7049,  1.5787, -0.8344,\n",
            "          1.0508,  1.4462],\n",
            "        [ 0.2773, -0.0376,  0.4835,  1.9549,  0.9225,  1.7706, -0.4106, -0.9792,\n",
            "         -0.0941,  0.8314],\n",
            "        [-0.9997, -0.9379,  0.4298, -0.8325,  0.0914,  0.2311, -0.9339, -0.5585,\n",
            "          1.4100,  2.0270],\n",
            "        [-1.4659, -1.7837, -0.7701, -0.1043,  0.0674,  1.3184,  0.9651, -0.8088,\n",
            "         -0.4963,  0.4001]])\n"
          ]
        }
      ]
    },
    {
      "cell_type": "code",
      "source": [
        "import dgl\n",
        "import torch\n",
        "\n",
        "# Define the first graph\n",
        "g1 = dgl.heterograph({\n",
        "    ('user', 'follows', 'user'): (torch.tensor([0, 1]), torch.tensor([1, 2])),\n",
        "    ('user', 'follows', 'game'): (torch.tensor([0, 1, 2]), torch.tensor([1, 2, 3]))\n",
        "})\n",
        "\n",
        "# Define the second graph\n",
        "g2 = dgl.heterograph({\n",
        "    ('user', 'follows', 'user'): (torch.tensor([0, 1, 1]), torch.tensor([1, 2, 2])),\n",
        "    ('user', 'follows', 'game'): (torch.tensor([0, 1, 2]), torch.tensor([1, 2, 3]))\n",
        "})\n",
        "\n",
        "# Save the graphs to a file\n",
        "dgl.save_graphs(\"my_graphs.dgl\", [g1, g2])\n",
        "\n",
        "# Load the graphs from the file\n",
        "loaded_graphs, _ = dgl.load_graphs(\"my_graphs.dgl\")\n",
        "\n",
        "# Print the number of nodes and edges in the loadedgraphs\n",
        "for g in loaded_graphs:\n",
        "    print(g.number_of_nodes(), g.number_of_edges(), g.is_multigraph)"
      ],
      "metadata": {
        "colab": {
          "base_uri": "https://localhost:8080/"
        },
        "id": "iwAFPTd9Lg1q",
        "outputId": "bccc2476-51b8-4314-a307-95706abdec34"
      },
      "execution_count": 182,
      "outputs": [
        {
          "output_type": "stream",
          "name": "stdout",
          "text": [
            "7 5 False\n",
            "7 6 True\n"
          ]
        }
      ]
    },
    {
      "cell_type": "code",
      "source": [
        "# Return the subgraph induced by k-hop out-neighborhood of the specified node(s).\n",
        "h = dgl.graph((torch.tensor([0, 0, 1, 1]), torch.tensor([1, 0, 2, 3])))\n",
        "sh = h.khop_out_subgraph(0, k=2) ##??\n",
        "     \n",
        "\n",
        "from dgl.data.utils import save_graphs\n",
        "save_graphs(\"./data.bin\", [g, h])\n",
        "     \n",
        "\n",
        "from dgl.data.utils import load_graphs\n",
        "glist = load_graphs(\"./data.bin\")"
      ],
      "metadata": {
        "id": "0fFwfmQgrUtq"
      },
      "execution_count": null,
      "outputs": []
    },
    {
      "cell_type": "markdown",
      "source": [
        "##1"
      ],
      "metadata": {
        "id": "PcKD596o5D_r"
      }
    },
    {
      "cell_type": "code",
      "source": [
        "g = dgl.heterograph({\n",
        "    ('user', 'plays', 'game'): (torch.tensor([0, 1]), torch.tensor([1, 2]))})\n",
        "g.srcdata['h'] = torch.ones(2, 1)\n",
        "g.srcdata['h']"
      ],
      "metadata": {
        "id": "Iwv9MJwTyTKA"
      },
      "execution_count": null,
      "outputs": []
    },
    {
      "cell_type": "code",
      "source": [
        "g = dgl.heterograph({\n",
        "    ('user', 'plays', 'game'): (torch.tensor([1, 2]), torch.tensor([3, 4])),\n",
        "    ('player', 'plays', 'game'): (torch.tensor([2, 2]), torch.tensor([1, 1]))\n",
        "})\n",
        "g.srcdata['h'] = {'user': torch.zeros(3, 1), 'player': torch.ones(3, 1)}\n",
        "g.srcdata['h']\n",
        "g.srcdata['h'] = {'user': torch.ones(3, 1)}\n",
        "g.srcdata['h']"
      ],
      "metadata": {
        "id": "cjWiyDlPyTMq"
      },
      "execution_count": null,
      "outputs": []
    },
    {
      "cell_type": "code",
      "source": [
        "g = dgl.heterograph({\n",
        "    ('user', 'plays', 'game'): (torch.tensor([0, 1]), torch.tensor([1, 2]))})\n",
        "g.dstdata['h'] = torch.ones(3, 1)\n",
        "g.dstdata['h']"
      ],
      "metadata": {
        "id": "0t1nm-7LyTP7"
      },
      "execution_count": null,
      "outputs": []
    },
    {
      "cell_type": "code",
      "source": [
        "g = dgl.heterograph({\n",
        "    ('user', 'plays', 'game'): (torch.tensor([1, 2]), torch.tensor([1, 2])),\n",
        "    ('user', 'watches', 'movie'): (torch.tensor([2, 2]), torch.tensor([1, 1]))\n",
        "})\n",
        "g.dstdata['h'] = {'game': torch.zeros(3, 1), 'movie': torch.ones(2, 1)}\n",
        "g.dstdata['h']\n",
        "g.dstdata['h'] = {'game': torch.ones(3, 1)}\n",
        "g.dstdata['h']"
      ],
      "metadata": {
        "id": "pd3r_fGGygGM"
      },
      "execution_count": null,
      "outputs": []
    },
    {
      "cell_type": "code",
      "source": [
        "g = dgl.graph(([0, 1, 2, 3, 4], [1, 2, 3, 4, 0]))  # 5-node cycle\n",
        "sg = dgl.edge_subgraph(g, [0, 4])\n",
        "sg\n",
        "sg.edges()\n",
        "sg.ndata[dgl.NID]  # original node IDs\n",
        "sg.edata[dgl.EID]  # original edge IDs"
      ],
      "metadata": {
        "id": "2z_MT99JygRK"
      },
      "execution_count": null,
      "outputs": []
    },
    {
      "cell_type": "code",
      "source": [
        "sg = dgl.edge_subgraph(g, [0, 4], relabel_nodes=False)\n",
        "sg\n",
        "sg.edges()"
      ],
      "metadata": {
        "id": "0yp1rOqSygUh"
      },
      "execution_count": null,
      "outputs": []
    },
    {
      "cell_type": "code",
      "source": [
        "nodes = torch.tensor([True, False, False, False, True])  # choose edges [0, 4]\n",
        "dgl.edge_subgraph(g, nodes)"
      ],
      "metadata": {
        "id": "Y9QHXJhjygXS"
      },
      "execution_count": null,
      "outputs": []
    },
    {
      "cell_type": "code",
      "source": [
        "g.ndata['x'] = torch.arange(10).view(5, 2)\n",
        "sg = dgl.edge_subgraph(g, [0, 4])\n",
        "sg\n",
        "sg.ndata[dgl.NID]\n",
        "sg.ndata['x']"
      ],
      "metadata": {
        "id": "BJjliainyTS1"
      },
      "execution_count": null,
      "outputs": []
    },
    {
      "cell_type": "code",
      "source": [
        "g = dgl.heterograph({\n",
        "    ('user', 'plays', 'game'): ([0, 1, 1, 2], [0, 0, 2, 1]),\n",
        "    ('user', 'follows', 'user'): ([0, 1, 1], [1, 2, 2])\n",
        "})\n",
        "sub_g = dgl.edge_subgraph(g, {('user', 'follows', 'user'): [1, 2],\n",
        "                              ('user', 'plays', 'game'): [2]})\n",
        "print(sub_g)"
      ],
      "metadata": {
        "id": "15k-jP6JyTWG"
      },
      "execution_count": null,
      "outputs": []
    },
    {
      "cell_type": "code",
      "source": [
        "g = dgl.heterograph({\n",
        "    ('user', 'plays', 'game'): ([0, 1, 1, 2], [0, 0, 2, 1]),\n",
        "    ('user', 'follows', 'user'): ([0, 1, 1], [1, 2, 2])\n",
        "})\n",
        "# Set node features\n",
        "g.nodes['user'].data['h'] = torch.tensor([[0.], [1.], [2.]])"
      ],
      "metadata": {
        "id": "sPNIepduyTY7"
      },
      "execution_count": null,
      "outputs": []
    },
    {
      "cell_type": "code",
      "source": [
        "sub_g = g.node_type_subgraph(['user'])\n",
        "print(sub_g)"
      ],
      "metadata": {
        "id": "B3CkzXpvzMG-"
      },
      "execution_count": null,
      "outputs": []
    },
    {
      "cell_type": "code",
      "source": [
        "sub_g.nodes['user'].data['h']"
      ],
      "metadata": {
        "id": "s8itGB1jzMJu"
      },
      "execution_count": null,
      "outputs": []
    },
    {
      "cell_type": "code",
      "source": [
        "g = dgl.heterograph({\n",
        "    ('user', 'plays', 'game'): ([0, 1, 1, 2], [0, 0, 2, 1]),\n",
        "    ('user', 'follows', 'user'): ([0, 1, 1], [1, 2, 2])\n",
        "})\n",
        "# Set edge features\n",
        "g.edges['follows'].data['h'] = torch.tensor([[0.], [1.], [2.]])"
      ],
      "metadata": {
        "id": "5XJGriNyzMMm"
      },
      "execution_count": null,
      "outputs": []
    },
    {
      "cell_type": "code",
      "source": [
        "sub_g = g.edge_type_subgraph(['follows'])\n",
        "sub_g"
      ],
      "metadata": {
        "id": "cA4CWE0-zg9P"
      },
      "execution_count": null,
      "outputs": []
    },
    {
      "cell_type": "code",
      "source": [
        "sub_g.edges['follows'].data['h']"
      ],
      "metadata": {
        "id": "PG33VUJUzhAO"
      },
      "execution_count": null,
      "outputs": []
    },
    {
      "cell_type": "code",
      "source": [
        "g = dgl.graph(([0, 1, 2, 3, 4], [1, 2, 3, 4, 0]))  # 5-node cycle\n",
        "g.edata['w'] = torch.arange(10).view(5, 2)\n",
        "sg = dgl.in_subgraph(g, [2, 0])\n",
        "sg\n",
        "sg.edges()\n",
        "sg.edata[dgl.EID]  # original edge IDs\n",
        "sg.edata['w']  # also extract the features"
      ],
      "metadata": {
        "id": "XyyYMQTJzhDR"
      },
      "execution_count": null,
      "outputs": []
    },
    {
      "cell_type": "code",
      "source": [
        "sg = dgl.in_subgraph(g, [2, 0], relabel_nodes=True)\n",
        "sg\n",
        "sg.edges()\n",
        "sg.edata[dgl.EID]  # original edge IDs\n",
        "sg.ndata[dgl.NID]  # original node IDs"
      ],
      "metadata": {
        "id": "bYIwUa5zztV_"
      },
      "execution_count": null,
      "outputs": []
    },
    {
      "cell_type": "code",
      "source": [
        "g = dgl.heterograph({\n",
        "    ('user', 'plays', 'game'): ([0, 1, 1, 2], [0, 0, 2, 1]),\n",
        "    ('user', 'follows', 'user'): ([0, 1, 1], [1, 2, 2])})\n",
        "sub_g = g.in_subgraph({'user': [2], 'game': [2]})\n",
        "sub_g"
      ],
      "metadata": {
        "id": "AC6qr69Tztan"
      },
      "execution_count": null,
      "outputs": []
    },
    {
      "cell_type": "code",
      "source": [
        "g = dgl.graph(([0, 1, 2, 3, 4], [1, 2, 3, 4, 0]))  # 5-node cycle\n",
        "g.edata['w'] = torch.arange(10).view(5, 2)\n",
        "sg = dgl.out_subgraph(g, [2, 0])\n",
        "sg\n",
        "sg.edges()\n",
        "sg.edata[dgl.EID]  # original edge IDs\n",
        "sg.edata['w']  # also extract the features"
      ],
      "metadata": {
        "id": "Blo1aOtAz0Lb"
      },
      "execution_count": null,
      "outputs": []
    },
    {
      "cell_type": "code",
      "source": [
        "sg = dgl.out_subgraph(g, [2, 0], relabel_nodes=True)\n",
        "sg\n",
        "sg.edges()\n",
        "sg.edata[dgl.EID]  # original edge IDs\n",
        "sg.ndata[dgl.NID]  # original node IDs"
      ],
      "metadata": {
        "id": "SLJRghjjz0O5"
      },
      "execution_count": null,
      "outputs": []
    },
    {
      "cell_type": "code",
      "source": [
        "g = dgl.heterograph({\n",
        "    ('user', 'plays', 'game'): ([0, 1, 1, 2], [0, 0, 2, 1]),\n",
        "    ('user', 'follows', 'user'): ([0, 1, 1], [1, 2, 2])})\n",
        "sub_g = g.out_subgraph({'user': [1]})\n",
        "sub_g"
      ],
      "metadata": {
        "id": "kzF1L7n5z0Te"
      },
      "execution_count": null,
      "outputs": []
    },
    {
      "cell_type": "code",
      "source": [
        "g = dgl.graph(([1, 1, 2, 3, 4], [0, 2, 0, 4, 2]))\n",
        "g.edata['w'] = torch.arange(10).view(5, 2)\n",
        "sg, inverse_indices = dgl.khop_in_subgraph(g, 0, k=2)\n",
        "sg\n",
        "sg.edges()\n",
        "sg.edata[dgl.EID]  # original edge IDs\n",
        "sg.edata['w']  # also extract the features\n",
        "inverse_indices"
      ],
      "metadata": {
        "id": "MnfeUsLCz0Wp"
      },
      "execution_count": null,
      "outputs": []
    },
    {
      "cell_type": "code",
      "source": [
        "g = dgl.heterograph({\n",
        "    ('user', 'plays', 'game'): ([0, 1, 1, 2], [0, 0, 2, 1]),\n",
        "    ('user', 'follows', 'user'): ([0, 1, 1], [1, 2, 2])})\n",
        "sg, inverse_indices = dgl.khop_in_subgraph(g, {'game': 0}, k=2)\n",
        "sg\n",
        "inverse_indices"
      ],
      "metadata": {
        "id": "ocUcBqJQz0aD"
      },
      "execution_count": null,
      "outputs": []
    },
    {
      "cell_type": "code",
      "source": [
        "g = dgl.graph(([0, 2, 0, 4, 2], [1, 1, 2, 3, 4]))\n",
        "g.edata['w'] = torch.arange(10).view(5, 2)\n",
        "sg, inverse_indices = dgl.khop_out_subgraph(g, 0, k=2)\n",
        "sg\n",
        "sg.edges()\n",
        "sg.edata[dgl.EID]  # original edge IDs\n",
        "sg.edata['w']  # also extract the features\n",
        "inverse_indices"
      ],
      "metadata": {
        "id": "QfLXUslq0cBT"
      },
      "execution_count": null,
      "outputs": []
    },
    {
      "cell_type": "code",
      "source": [
        "g = dgl.heterograph({\n",
        "    ('user', 'plays', 'game'): ([0, 1, 1, 2], [0, 0, 2, 1]),\n",
        "    ('user', 'follows', 'user'): ([0, 1], [1, 3])})\n",
        "sg, inverse_indices = dgl.khop_out_subgraph(g, {'user': 0}, k=2)\n",
        "sg\n",
        "inverse_indices"
      ],
      "metadata": {
        "id": "KcctvRsK0cEc"
      },
      "execution_count": null,
      "outputs": []
    },
    {
      "cell_type": "code",
      "source": [
        "g = dgl.graph((torch.tensor([0, 1]), torch.tensor([1, 2])))\n",
        "g.num_edges()\n",
        "g = dgl.add_edges(g, torch.tensor([1, 3]), torch.tensor([0, 1]))\n",
        "g.num_edges()"
      ],
      "metadata": {
        "id": "9OSvvqHj0cHs"
      },
      "execution_count": null,
      "outputs": []
    },
    {
      "cell_type": "code",
      "source": [
        "g.num_nodes()"
      ],
      "metadata": {
        "id": "Zl-ogDO-0laU"
      },
      "execution_count": null,
      "outputs": []
    },
    {
      "cell_type": "code",
      "source": [
        "g.edata['h'] = torch.ones(4, 1)\n",
        "g = dgl.add_edges(g, torch.tensor([1]), torch.tensor([1]))\n",
        "g.edata['h']"
      ],
      "metadata": {
        "id": "1N53V_BE0ldW"
      },
      "execution_count": null,
      "outputs": []
    },
    {
      "cell_type": "code",
      "source": [
        "g = dgl.add_edges(g, torch.tensor([0, 0]), torch.tensor([2, 2]),\n",
        "                  {'h': torch.tensor([[1.], [2.]]), 'w': torch.ones(2, 1)})\n",
        "g.edata['h']"
      ],
      "metadata": {
        "id": "Ex_C0jz10lgN"
      },
      "execution_count": null,
      "outputs": []
    },
    {
      "cell_type": "code",
      "source": [
        "g.edata['w']"
      ],
      "metadata": {
        "id": "olFdjapj0ljW"
      },
      "execution_count": null,
      "outputs": []
    },
    {
      "cell_type": "code",
      "source": [
        "g = dgl.heterograph({\n",
        "    ('user', 'plays', 'game'): (torch.tensor([0, 1, 1, 2]),\n",
        "                                torch.tensor([0, 0, 1, 1])),\n",
        "    ('developer', 'develops', 'game'): (torch.tensor([0, 1]),\n",
        "                                        torch.tensor([0, 1]))\n",
        "    })\n",
        "g.num_edges('plays')\n",
        "g = dgl.add_edges(g, torch.tensor([3]), torch.tensor([3]), etype='plays')\n",
        "g.num_edges('plays')"
      ],
      "metadata": {
        "id": "SQNJrGpQ0lmw"
      },
      "execution_count": null,
      "outputs": []
    },
    {
      "cell_type": "code",
      "source": [
        "g = dgl.graph((torch.tensor([0, 1]), torch.tensor([1, 2])))\n",
        "g.num_nodes()\n",
        "g = dgl.add_nodes(g, 2)\n",
        "g.num_nodes()"
      ],
      "metadata": {
        "id": "nHnK_n1Y0lpP"
      },
      "execution_count": null,
      "outputs": []
    },
    {
      "cell_type": "code",
      "source": [
        "g.ndata['h'] = torch.ones(5, 1)\n",
        "g = dgl.add_nodes(g, 1)\n",
        "g.ndata['h']"
      ],
      "metadata": {
        "id": "6QEIHHJP0lt5"
      },
      "execution_count": null,
      "outputs": []
    },
    {
      "cell_type": "code",
      "source": [
        "g = dgl.add_nodes(g, 1, {'h': torch.ones(1, 1), 'w': torch.ones(1, 1)})\n",
        "g.ndata['h']"
      ],
      "metadata": {
        "id": "MbeyriWN0lw4"
      },
      "execution_count": null,
      "outputs": []
    },
    {
      "cell_type": "code",
      "source": [
        "g.ndata['w']"
      ],
      "metadata": {
        "id": "hEoZ47aZ0l3s"
      },
      "execution_count": null,
      "outputs": []
    },
    {
      "cell_type": "code",
      "source": [
        "g = dgl.heterograph({\n",
        "    ('user', 'plays', 'game'): (torch.tensor([0, 1, 1, 2]),\n",
        "                                torch.tensor([0, 0, 1, 1])),\n",
        "    ('developer', 'develops', 'game'): (torch.tensor([0, 1]),\n",
        "                                        torch.tensor([0, 1]))\n",
        "    })\n",
        "g.num_nodes('user')\n",
        "g = dgl.add_nodes(g, 2, ntype='user')\n",
        "g.num_nodes('user')"
      ],
      "metadata": {
        "id": "3CvN-sFc0l62"
      },
      "execution_count": null,
      "outputs": []
    },
    {
      "cell_type": "code",
      "source": [],
      "metadata": {
        "id": "J4lyvKE-3RxJ"
      },
      "execution_count": null,
      "outputs": []
    },
    {
      "cell_type": "code",
      "source": [],
      "metadata": {
        "id": "ChKtm9q-0mEd"
      },
      "execution_count": null,
      "outputs": []
    },
    {
      "cell_type": "code",
      "source": [],
      "metadata": {
        "id": "fIxea8vM0mJC"
      },
      "execution_count": null,
      "outputs": []
    },
    {
      "cell_type": "code",
      "source": [],
      "metadata": {
        "id": "FIRRt7aWztea"
      },
      "execution_count": null,
      "outputs": []
    },
    {
      "cell_type": "code",
      "source": [],
      "metadata": {
        "id": "AhCQNchfzthx"
      },
      "execution_count": null,
      "outputs": []
    },
    {
      "cell_type": "code",
      "source": [],
      "metadata": {
        "id": "Op6REIRVzhGZ"
      },
      "execution_count": null,
      "outputs": []
    },
    {
      "cell_type": "code",
      "source": [],
      "metadata": {
        "id": "K3Grws-gzhKB"
      },
      "execution_count": null,
      "outputs": []
    },
    {
      "cell_type": "code",
      "source": [],
      "metadata": {
        "id": "3sqHv4O7zMP_"
      },
      "execution_count": null,
      "outputs": []
    },
    {
      "cell_type": "code",
      "source": [],
      "metadata": {
        "id": "_hQwSEqGzMTP"
      },
      "execution_count": null,
      "outputs": []
    },
    {
      "cell_type": "code",
      "source": [],
      "metadata": {
        "id": "XKvKl9xKzMWe"
      },
      "execution_count": null,
      "outputs": []
    },
    {
      "cell_type": "code",
      "source": [],
      "metadata": {
        "id": "dIG6OCHJzMZR"
      },
      "execution_count": null,
      "outputs": []
    },
    {
      "cell_type": "code",
      "source": [],
      "metadata": {
        "id": "fLbNtqtWzMce"
      },
      "execution_count": null,
      "outputs": []
    }
  ]
}